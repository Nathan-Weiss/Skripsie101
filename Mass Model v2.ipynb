{
 "cells": [
  {
   "cell_type": "markdown",
   "metadata": {},
   "source": [
    "# Trajectory Optimization of a Pneumatic Cylinder \n",
    "\n",
    "\n",
    "## Mass Modelling"
   ]
  },
  {
   "cell_type": "code",
   "execution_count": 1,
   "metadata": {},
   "outputs": [],
   "source": [
    "#import libraries\n",
    "import sympy as sym\n",
    "import numpy as np\n",
    "from IPython.display import display"
   ]
  },
  {
   "cell_type": "code",
   "execution_count": 3,
   "metadata": {},
   "outputs": [
    {
     "data": {
      "text/latex": [
       "$\\displaystyle \\left[\\begin{matrix}X_{0} + x_{1}\\\\x_{1}\\end{matrix}\\right]$"
      ],
      "text/plain": [
       "Matrix([\n",
       "[X0 + x1],\n",
       "[     x1]])"
      ]
     },
     "metadata": {},
     "output_type": "display_data"
    },
    {
     "data": {
      "text/latex": [
       "$\\displaystyle \\left[\\begin{matrix}\\dot{ x}_{1}\\\\\\dot{ x}_{1}\\end{matrix}\\right]$"
      ],
      "text/plain": [
       "Matrix([\n",
       "[\\dot{ x}_{1}],\n",
       "[\\dot{ x}_{1}]])"
      ]
     },
     "metadata": {},
     "output_type": "display_data"
    }
   ],
   "source": [
    "X0 = sym.symbols('X0')   #starting position of the block\n",
    "m1 = sym.symbols('m1')   #mass of the block\n",
    "\n",
    "x1 = sym.symbols('x1')                #position of the block\n",
    "dx1 = sym.symbols('\\dot{\\\\ x}_{1}')    #velocity of the block\n",
    "ddx1 = sym.symbols('\\ddot{\\\\ x}_{1}')  #acceleration of the block\n",
    "\n",
    "q = sym.Matrix([x1])\n",
    "dq = sym.Matrix([dx1])\n",
    "ddq = sym.Matrix([ddx1])\n",
    "\n",
    "Xnew = X0 + x1\n",
    "\n",
    "p1 = sym.Matrix([Xnew, x1])\n",
    "[dXnew, dx1] = p1.jacobian(q)*dq\n",
    "display(p1)             # [original position + current position ; current position]\n",
    "\n",
    "# Just checking\n",
    "dp1 = sym.Matrix([dXnew, dx1]) # --> derivative of the p1 matrix\n",
    "display(dp1)"
   ]
  },
  {
   "cell_type": "code",
   "execution_count": 4,
   "metadata": {},
   "outputs": [
    {
     "data": {
      "text/latex": [
       "$\\displaystyle \\left[\\begin{matrix}- F + 1.0 \\ddot{ x}_{1} m_{1}\\end{matrix}\\right]$"
      ],
      "text/plain": [
       "Matrix([[-F + 1.0*\\ddot{ x}_{1}*m1]])"
      ]
     },
     "metadata": {},
     "output_type": "display_data"
    }
   ],
   "source": [
    "#Define kinetic and potential energies for use in Lagrangian\n",
    "T = sym.Matrix([0.5*m1*(dXnew**2)])\n",
    "V = sym.Matrix([0]) \n",
    "\n",
    "#Calculate terms of the Lagrangian Equation\n",
    "Lg1 = sym.zeros(1,len(q))\n",
    "for i in range(len(q)):\n",
    "    dT_ddq = sym.diff(T,dq[i]) \n",
    "    Lg1[i] = dT_ddq.jacobian(q)*dq + dT_ddq.jacobian(dq)*ddq \n",
    "\n",
    "Lg3 = T.jacobian(q)\n",
    "\n",
    "Lg4 = V.jacobian(q) \n",
    "\n",
    "#apply a horizontal force\n",
    "F = sym.symbols('F')                  #applied force parameter\n",
    "FF = sym.Matrix([[F],[0],[0]])        #force matrix\n",
    "rF = sym.Matrix([[X0 + Xnew],[0],[0]])  #distance the force acts on the block\n",
    "JF = rF.jacobian(q)\n",
    "QF = JF.transpose()*FF\n",
    "#display(QF)\n",
    "\n",
    "#Equation of motion\n",
    "EOM = Lg1 - Lg3 + Lg4 - QF \n",
    "display(EOM)"
   ]
  },
  {
   "cell_type": "code",
   "execution_count": 11,
   "metadata": {},
   "outputs": [],
   "source": [
    "Nodes = 100\n",
    "# Implicit Euler Equation\n",
    "# x[t] = x[t-1] + h*x_dot[t]       \n",
    "\n",
    "h = 0.01                #used in implicit euler equation for integration approximation \n",
    "t = np.arange(0,Nodes*h,h)\n",
    "\n",
    "Force_array = 10*t           #define force value --> creates an array of forces for what ever value is stipulated \n",
    "\n",
    "#intial conditions\n",
    "x1_0 = 0\n",
    "dx1_0 = 0\n",
    "\n",
    "parameter_values = ([X0,x1_0],[m1,1]) # Set parameter values here for the EOM\n",
    "x1_array = [x1_0]\n",
    "dx1_array = [dx1_0]\n",
    "\n",
    "for i in range(1,Nodes):\n",
    "    # substitute parameter values and previous conditions into the EOM \n",
    "    past = [(x1,x1_array[i-1]),(dx1,dx1_array[i-1])]\n",
    "    forces = [(F,Force_array[i-1])] \n",
    "    EOM_sub = EOM.subs(parameter_values).subs(past).subs(forces)\n",
    "    #isplay(EOM_sub)\n",
    "    \n",
    "    acc = sym.solve(EOM_sub,[ddx1])  #solves the acceleration \n",
    "    #display(acc)\n",
    "    \n",
    "    # integrate for the next velocity and position    \n",
    "    dx1_array.append(float(dx1_array[i-1]+h*acc[ddx1]))\n",
    "    x1_array.append(float(x1_array[i-1]+h*dx1_array[i]))"
   ]
  },
  {
   "cell_type": "code",
   "execution_count": 12,
   "metadata": {},
   "outputs": [
    {
     "data": {
      "text/html": [
       "<video width=\"432\" height=\"288\" controls autoplay loop>\n",
       "  <source type=\"video/mp4\" src=\"data:video/mp4;base64,AAAAHGZ0eXBNNFYgAAACAGlzb21pc28yYXZjMQAAAAhmcmVlAAAV321kYXQAAAKuBgX//6rcRem9\n",
       "5tlIt5Ys2CDZI+7veDI2NCAtIGNvcmUgMTU4IHIyOTg0IDM3NTlmY2IgLSBILjI2NC9NUEVHLTQg\n",
       "QVZDIGNvZGVjIC0gQ29weWxlZnQgMjAwMy0yMDE5IC0gaHR0cDovL3d3dy52aWRlb2xhbi5vcmcv\n",
       "eDI2NC5odG1sIC0gb3B0aW9uczogY2FiYWM9MSByZWY9MyBkZWJsb2NrPTE6MDowIGFuYWx5c2U9\n",
       "MHgzOjB4MTEzIG1lPWhleCBzdWJtZT03IHBzeT0xIHBzeV9yZD0xLjAwOjAuMDAgbWl4ZWRfcmVm\n",
       "PTEgbWVfcmFuZ2U9MTYgY2hyb21hX21lPTEgdHJlbGxpcz0xIDh4OGRjdD0xIGNxbT0wIGRlYWR6\n",
       "b25lPTIxLDExIGZhc3RfcHNraXA9MSBjaHJvbWFfcXBfb2Zmc2V0PS0yIHRocmVhZHM9NiBsb29r\n",
       "YWhlYWRfdGhyZWFkcz0xIHNsaWNlZF90aHJlYWRzPTAgbnI9MCBkZWNpbWF0ZT0xIGludGVybGFj\n",
       "ZWQ9MCBibHVyYXlfY29tcGF0PTAgY29uc3RyYWluZWRfaW50cmE9MCBiZnJhbWVzPTMgYl9weXJh\n",
       "bWlkPTIgYl9hZGFwdD0xIGJfYmlhcz0wIGRpcmVjdD0xIHdlaWdodGI9MSBvcGVuX2dvcD0wIHdl\n",
       "aWdodHA9MiBrZXlpbnQ9MjUwIGtleWludF9taW49MjAgc2NlbmVjdXQ9NDAgaW50cmFfcmVmcmVz\n",
       "aD0wIHJjX2xvb2thaGVhZD00MCByYz1jcmYgbWJ0cmVlPTEgY3JmPTIzLjAgcWNvbXA9MC42MCBx\n",
       "cG1pbj0wIHFwbWF4PTY5IHFwc3RlcD00IGlwX3JhdGlvPTEuNDAgYXE9MToxLjAwAIAAAAhZZYiE\n",
       "AD///vdonwKbWkN6gOSVxSXbT4H/q2dwfI/pAwAAAwAArq0zP4SlVZgPSwjUHhndZ25O8u0XNww+\n",
       "XT5YEG+c3unayF1YSwABNMUrpC8O9+Jub2Dy67kS5Th/W/7LPb7YmPuAHr0V8qD1JOMQGNr+JVyG\n",
       "+2YuZFeUVkdz1udS4o0nkrwfF0SGHeKxf+CN9lbD/+Vvm7YPDSeks74s6Nf4ovGAcDL6khbDK3JM\n",
       "AAvit489wHmiyq0ER5iihYJbj5ATT7pjCqZJIjK06A8Cbu+r3I5uV9fe+j0ZUazYElkjnwtE1CDy\n",
       "yAoZkmh8hVWUgYlXDAlSqwpl4usKTG1GXzcK6takkhEZEzvevzzeTanfMTSmJDOrdzCgZSpXjnFK\n",
       "vHifg+9C+rBJaJ7v4hxFnFC94Aoxks7OqpeF6ObSKjl2bXeJXXF8kXoeBfnEzVVLBfCx4X3+J2xH\n",
       "FC7aXaHu8hjPP0Wmrftn8dkxV6x7zW+kinw6TbPeyIToASO0bvAMLVm9wFuLMjq+KrJlB/vGlLpp\n",
       "qymz2nUyETlgojdqZzPjZ/voe1dkOZmicxneIdSXGAvX6kamFG/eCC38lK7QLamKXFtDp3/iugK2\n",
       "ZoYpDHTRMfSH0kCwYWnTm+xUEljZ1jcEPGAal0221dKVe/cLBnIXelj69RhLcJ5tPoQkKOi/c6gE\n",
       "23tw5/PoVEqb9VNiNHZLbUz4GYd1dNKRMrMftXKNOdZzYMhXseTX4BOIXsgKE82D3nqBLRA0HuRp\n",
       "82Gr+AP2EGv3QLusoSm63a6rBrLwfAwXGQLuNk8lDV/an+wIVxrPVMgVzjVmOTG+g0K3USi64B9x\n",
       "D7u2OKEaRPaniMsz6vW2eskcwCX7i/jXDnJSwzJqG2cAJ29W0L/YsyajKYpcwj+uXkhjqxuV+6WP\n",
       "pD6SBYNVM3NHJEgGKps0oPA0lqXTdFaMS/tXHUJrBjY8iADF3XpsPEMcXq+raQ9aJkrPTejnS+1Z\n",
       "0w/pEwgkPoPla1yN3qyp5vxDvMtS9UwAzjdlIYaHCZg6zaXCM8sG81++6mO7L629/ZJ2G152ots+\n",
       "8rbC9aG4aROIJcYcw416RBi2qYlSJt7idGDgW6V6JI3KXysDZm+yd9XIyvgmZiviCTlw58I5s+ud\n",
       "K17gmgz3XQ+MV8QOPV3lIsKWxwn+EM+MV8QKo10KZxU+xM6Zfgry9U8wPjBfhmqi+zUVuL8HYnWY\n",
       "QW1qp6oENLEhVg6AmZvS1PiLu7UA3Pxpt2yvU+nTIIlSDAG/h4icRyAUcEjTfWjS2OU7v8FPxcqo\n",
       "yspxgzuVSh371oxcRRcwduhjdq0rttm17IaiZ6UMPBW3mUkMRVshWRORdREuHwItQiSGAFrEnimS\n",
       "LeUU1O9AT0dHiI3HMSpOsrlhxJEx3uDZYoldmFFw1oiYkKdvb3OXWEaZ55ST9jCFZLGpbzYk63Ua\n",
       "CjF4aQcWIn7yuQ/ccUupR7YXSpD7ZGgXoX2XOboFWP19qu1w0PVcZqqXowAmXutnZytGU9chPCxL\n",
       "jJWZkKHgCOjyyHH2PynlRm9M0ntfbaaSdRL0TqR0uWeoIDm8lkcM+1j78U13q23k6HYnfP7e2JQA\n",
       "AGrLJtnu6NOVlCfDDpSgyeY6S1uAd63reEXFzS0QpoGrlR/eby0m1Ob7voTl0bz66wV9FJXu9v7H\n",
       "dd1u5QU0EJP2YO2daQDBSU5h5CtNoPltTJmnkuk7duS9b7yKb/3BoyORYDcBVLWeZXnlLW3gAuxv\n",
       "9ilzq9Qu1Lbh36zXtJhFc8QZ4nP8VO98AQuxkuPm9Moo9vDh/Ak67oerBS78voPMo1VZXoc5XXC4\n",
       "qlhcwwNQIypks3MmeNaXeGDzCLG4ZpMl5zNynLFwClfsrHJqOj+deI3u5zAAuBfHzCJdq83dPCcz\n",
       "wt68allODcQs9e5sF7odwqb9ZNTasaUaUpQLIcOmcjs6TbZ2XKW7Uf3law5m3myXFXsAAjTsj9jU\n",
       "0p0dxLrcXKiIZXZq1Mr1/Bo3sCcnFj4UbRM1DSa9sNlQB4COpjR82eXQLMTgmt/thsoh16VJhoqY\n",
       "VAYSoG/rfZlqd1Ir1PiGSY61xozG+L4bRbsRd/+AR/1eHViearUwZOi7BPMXbB2VqzX7n/aFx9v7\n",
       "vvEXcgkaqXHMghN8ktT0NCbglw5mlTvNL60lGfHm+SNZZQjBtpx5Efvk2ZB5A13Is3nkosuM//Cq\n",
       "+ZZ0K16d6oJgiVVJdroz9jUjOaGbX5s9M6i3e44qR39uP4bratGbLdKK097WS5Iyao5gUl4YOl/7\n",
       "rmnSdj0h6D8+kwDnhigh9mID92x0Xj6Rzixtpv9UYPaCDvQMBXTh+h0Xwsq0Dt1rhK22xqxBHSkq\n",
       "XBkyFdHHHKmRMtvUPko1YAZ0VL9uSztmnMvl+yEerJU0PrCmmh36bYvG89hfUXnaPz6/z1FFMf+/\n",
       "b8yjV5T7mAQzWCGdET/UKtEHgBgvp44yu48jWZAqVoe3TvtFvmFyu4HpDSRx/sxQiXB9PCod+uSW\n",
       "Td+X9U9f9z/3mg+AqGz8zDtYm6TRlZ1gz8LIyKjVgfuhOoVbOZCjM/R8WkxhuM5Jn48+mu9/DVQ4\n",
       "VSkF5erQmFJO8sFm2oGf7gSVeHjcliPpYj/Hd/GN9qKMf+nQCGl2LEaUlFxqMco6I4YWnaauTkFb\n",
       "CLcoVWG2brOAvfnDPZCRSf2kMl9vSq2jXKWEy29qR4MaXeUSNbZtR6ojtOlN/m4+tiY2Gsb+KRJM\n",
       "xs7be5M5W6VKr+U7kamJObaVp0B8Zhb3qIQQPasuZMXWObKf//H8IXuL/3Zuh1mVb+btVXqqtoXN\n",
       "RUoHJVvdM9iG4ueBmZ149xYoArgKCdgBPwAAAOhBmiRsQ//+qZYQnMS4jyUsrF8bcKAEiUR9ff43\n",
       "tBpgTLaqV5D+9Q29og5FCb9JLX4GgD80ovq2B4C+7p0Wp7oDusuxW4H0099t7DvuEBI5jMwAB17E\n",
       "qdSd45yJyfr2xK8trx24xkhzk2aRq6k3wrXH90uxV8xN9P9xmO3SD2yz43QYX5qvmJV8fVwwAtrf\n",
       "jfAwGNGutyKqBgun0qfw+EYOAhj4zmicCWwlleB7zSFH16UXm9uiQFME9NZKCh1WqcVK6t/+GbJv\n",
       "8MO6ZUyOFP3n7FS0sra6XD0BKISu/BGhM9jaP/DlyonIAAAAOkGeQniGfwHprbs7vy/txujtrVYp\n",
       "W2vrEpi4oXaTt/HwJ2aJaBsFPqWUckouJC5+Q8dwiy4Vg84cTUEAAAAqAZ5hdEK/A2fuA8Vn7IlL\n",
       "UGHRkyNg8gs3tIQoB9SB2IcjwU5fTuCagyZgAAAAHwGeY2pCvwNqclZkD5EPrZNCBTNCF9nbwArs\n",
       "nEkgtYEAAAA+QZpoSahBaJlMCH///qmWEJzEuI8lLKxfD22cU3WgIaGZCd7tzfoOeakuQDrDnQHr\n",
       "I9jpR7UMrZ+ubW1mMqcAAAAhQZ6GRREsM/8B9gF/iC6CqzAnb+oTPykOoAJDJVX5s0W1AAAAHgGe\n",
       "pXRCvwNn7gPFZ+yJS1Bh0ZMjYJbQAOpTIHSQkQAAAAsBnqdqQr8AAAMBiwAAAENBmqxJqEFsmUwI\n",
       "f//+qZYAArfTbQBuEQk/LrCLw5HqIePANwAbdjZklcwDPrhi/hbe+5KHMfTHHSIjq0EMOjig3IiA\n",
       "AAAAEkGeykUVLDP/AAJbcV0H1zN9gQAAAAsBnul0Qr8AAAMBiwAAAA0BnutqQr8ABFZHunHAAAAA\n",
       "FUGa8EmoQWyZTAh///6plgAAAwDwgQAAABBBnw5FFSwz/wAAAwMkw5RXAAAACwGfLXRCvwAAAwGL\n",
       "AAAACwGfL2pCvwAAAwGLAAAAFUGbNEmoQWyZTAh///6plgAAAwDwgAAAABBBn1JFFSwz/wAAAwMk\n",
       "w5RXAAAACwGfcXRCvwAAAwGLAAAACwGfc2pCvwAAAwGLAAAAMkGbeEmoQWyZTAh///6plgACt9Nt\n",
       "AKTdlbeDcUM3wY/pF2+G693HmoTYeTvp+JUJKhDxAAAAEkGflkUVLDP/AAJbcV0H1zN9gAAAAAsB\n",
       "n7V0Qr8AAAMBiwAAAA0Bn7dqQr8ABFZHunHBAAAAFUGbvEmoQWyZTAh///6plgAAAwDwgAAAABBB\n",
       "n9pFFSwz/wAAAwMkw5RXAAAACwGf+XRCvwAAAwGLAAAACwGf+2pCvwAAAwGLAAAAI0Gb4EmoQWyZ\n",
       "TAh///6plgACt9TVAKTbTCk4k4NqR2sHzEf5AAAAE0GeHkUVLDP/AAJbFT+vVutnSYAAAAANAZ49\n",
       "dEK/AAQ10M06YAAAAAsBnj9qQr8AAAMBiwAAAB5BmiRJqEFsmUwIf//+qZYAAqW7FFfFxHEOnCow\n",
       "jZgAAAASQZ5CRRUsM/8AAksBq61+d7rVAAAADQGeYXRCvwAENdDNOmAAAAANAZ5jakK/AAQ3X906\n",
       "YQAAAB5BmmhJqEFsmUwIf//+qZYAAqW/5BADOjGW52RrCLkAAAASQZ6GRRUsM/8AAktxXQj3M32B\n",
       "AAAACwGepXRCvwAAAwGLAAAADQGep2pCvwAENke6dMAAAAAYQZqsSahBbJlMCHf//qmWAAKmpREO\n",
       "GjZgAAAAEkGeykUVLDP/AAJLaQBEI90jhQAAAA0Bnul0Qr8ABDXQzTpgAAAADQGe62pCvwAENke6\n",
       "dMAAAAAXQZrvSahBbJlMCHf//qmWAAKlpylJgXcAAAASQZ8NRRUsL/8AAyP2KVr9P5WpAAAADQGf\n",
       "LmpCvwAEN1/dOmEAAAAXQZsySahBbJlMCHf//qmWAAKlpylJgXcAAAASQZ9QRRUsL/8AAxo6EUQj\n",
       "7dmFAAAADQGfcWpCvwAEN1/dOmEAAAAhQZt1SahBbJlMCHf//qmWAAKlpylCnQAjPKNf0fGbMjZg\n",
       "AAAAEkGfk0UVLC//AAMaOhFEI+3ZhQAAAA0Bn7RqQr8ABDdf3TphAAAAGEGbt0moQWyZTBRMP//+\n",
       "qZYAAqW7FF1hFwAAABABn9ZqQr8ABDX7uW7q/9dhAAAASEGb20nhClJlMCH//qmWAAKpwt/0Jbbi\n",
       "X48gPq1ChnKgUdMZ0OVr74Eodpn44HHwhnrpm19SGOYbLwmN4pJaf/d/2+JEtoLOOQAAABNBn/lF\n",
       "NEwz/wACSwd13nq7xjmqAAAADgGeGHRCvwAENr8xeTphAAAADQGeGmpCvwAEFke6d0AAAAAaQZof\n",
       "SahBaJlMCH///qmWAAKUCDziQ3aqsCEAAAATQZ49RREsM/8AAjtj440KF0jhQQAAAA0Bnlx0Qr8A\n",
       "BBeHieFlAAAADgGeXmpCvwAEFz9E8LKAAAAAGEGaQ0moQWyZTAh///6plgACk7dSyVCPgQAAABNB\n",
       "nmFFFSwz/wACOpiEnptiHkxRAAAADgGegHRCvwAEFapctO6BAAAADgGegmpCvwAEFz9E8LKAAAAA\n",
       "IEGah0moQWyZTAh///6plgACk7g6slPAKCQQh5SUakg5AAAAEkGepUUVLDP/AAI69fqLYh3utQAA\n",
       "AA4BnsR0Qr8ABBWqXLTugQAAAA4BnsZqQr8ABBXqHbTugQAAABpBmstJqEFsmUwIf//+qZYAApfy\n",
       "k7UbCzJHHAAAABRBnulFFSwz/wACOxVzqOesC6I9QAAAAA8Bnwh0Qr8ABBXOra7IZcEAAAAOAZ8K\n",
       "akK/AAP30EmOl4AAAAAgQZsPSahBbJlMCH///qmWAAKBuDqyU8AoQwn0saohHHAAAAATQZ8tRRUs\n",
       "M/8AAipH9UxA7z0AUQAAAA4Bn0x0Qr8AA/egYvJ6QQAAAA4Bn05qQr8AA/ivpMdLwQAAADFBm1NJ\n",
       "qEFsmUwId//+qZYAAoXx68JqgAulBFv9rLkdC91Lh8W+xvQJuS8MUj63xqVsAAAAFEGfcUUVLDP/\n",
       "AAIrZK2m3Wd67JkwAAAADgGfkHRCvwAD+NtJjpeBAAAAFgGfkmpCvwAD+AWDZgBw/oHmary0hoQA\n",
       "AAAqQZuVSahBbJlMFEw///6plgACcICUoAO0jnTI9rIVY5qlY6hIt2xnsPG9AAAAFwGftGpCvwAD\n",
       "5O3AAWxf1skXhYJceVahAAAAMkGbuUnhClJlMCHf/qmWAAJxP20xlQAsFcKdQNhnr1gOEFEEmLmx\n",
       "M9fVlg6gQVdvz3UXAAAAE0Gf10U0TDP/AAIaSBvMQS7ChREAAAAOAZ/2dEK/AAPgcIsck+cAAAAO\n",
       "AZ/4akK/AAPgiUD5p8wAAAAcQZv9SahBaJlMCHf//qmWAAJxQaLXztJ0Q0+t/wAAABRBnhtFESwz\n",
       "/wACGxV0Quesq6I9QAAAAA4Bnjp0Qr8AA8zbSY6ggQAAAA4BnjxqQr8AA8vQSY6ggQAAADlBmiBJ\n",
       "qEFsmUwIb//+p4QABLuQfcCxLwTxDsDB3rkuo7Ks4iRmi6d7t9aMJ5C4DaEI5Mjkiplz4oIAAAAU\n",
       "QZ5eRRUsL/8AAtaXUftX1n543qAAAAAPAZ5/akK/AAPLwxNP4Q2pAAAAF0GaY0moQWyZTAhX//44\n",
       "QABFPS4CASmgAAAAEkGegUUVLC//AALFLBZkOmyfawAAAA4BnqJqQr8AA6r4sFyg4AAAB7Ztb292\n",
       "AAAAbG12aGQAAAAAAAAAAAAAAAAAAAPoAAATiAABAAABAAAAAAAAAAAAAAAAAQAAAAAAAAAAAAAA\n",
       "AAAAAAEAAAAAAAAAAAAAAAAAAEAAAAAAAAAAAAAAAAAAAAAAAAAAAAAAAAAAAAAAAAACAAAG4HRy\n",
       "YWsAAABcdGtoZAAAAAMAAAAAAAAAAAAAAAEAAAAAAAATiAAAAAAAAAAAAAAAAAAAAAAAAQAAAAAA\n",
       "AAAAAAAAAAAAAAEAAAAAAAAAAAAAAAAAAEAAAAABsAAAASAAAAAAACRlZHRzAAAAHGVsc3QAAAAA\n",
       "AAAAAQAAE4gAAAQAAAEAAAAABlhtZGlhAAAAIG1kaGQAAAAAAAAAAAAAAAAAACgAAADIAFXEAAAA\n",
       "AAAtaGRscgAAAAAAAAAAdmlkZQAAAAAAAAAAAAAAAFZpZGVvSGFuZGxlcgAAAAYDbWluZgAAABR2\n",
       "bWhkAAAAAQAAAAAAAAAAAAAAJGRpbmYAAAAcZHJlZgAAAAAAAAABAAAADHVybCAAAAABAAAFw3N0\n",
       "YmwAAACzc3RzZAAAAAAAAAABAAAAo2F2YzEAAAAAAAAAAQAAAAAAAAAAAAAAAAAAAAABsAEgAEgA\n",
       "AABIAAAAAAAAAAEAAAAAAAAAAAAAAAAAAAAAAAAAAAAAAAAAAAAAAAAAAAAY//8AAAAxYXZjQwFk\n",
       "ABX/4QAYZ2QAFazZQbCWhAAAAwAEAAADAKA8WLZYAQAGaOvjyyLAAAAAHHV1aWRraEDyXyRPxbo5\n",
       "pRvPAyPzAAAAAAAAABhzdHRzAAAAAAAAAAEAAABkAAACAAAAABRzdHNzAAAAAAAAAAEAAAABAAAD\n",
       "CGN0dHMAAAAAAAAAXwAAAAEAAAQAAAAAAQAACgAAAAABAAAEAAAAAAEAAAAAAAAAAQAAAgAAAAAB\n",
       "AAAKAAAAAAEAAAQAAAAAAQAAAAAAAAABAAACAAAAAAEAAAoAAAAAAQAABAAAAAABAAAAAAAAAAEA\n",
       "AAIAAAAAAQAACgAAAAABAAAEAAAAAAEAAAAAAAAAAQAAAgAAAAABAAAKAAAAAAEAAAQAAAAAAQAA\n",
       "AAAAAAABAAACAAAAAAEAAAoAAAAAAQAABAAAAAABAAAAAAAAAAEAAAIAAAAAAQAACgAAAAABAAAE\n",
       "AAAAAAEAAAAAAAAAAQAAAgAAAAABAAAKAAAAAAEAAAQAAAAAAQAAAAAAAAABAAACAAAAAAEAAAoA\n",
       "AAAAAQAABAAAAAABAAAAAAAAAAEAAAIAAAAAAQAACgAAAAABAAAEAAAAAAEAAAAAAAAAAQAAAgAA\n",
       "AAABAAAKAAAAAAEAAAQAAAAAAQAAAAAAAAABAAACAAAAAAEAAAgAAAAAAgAAAgAAAAABAAAIAAAA\n",
       "AAIAAAIAAAAAAQAACAAAAAACAAACAAAAAAEAAAYAAAAAAQAAAgAAAAABAAAKAAAAAAEAAAQAAAAA\n",
       "AQAAAAAAAAABAAACAAAAAAEAAAoAAAAAAQAABAAAAAABAAAAAAAAAAEAAAIAAAAAAQAACgAAAAAB\n",
       "AAAEAAAAAAEAAAAAAAAAAQAAAgAAAAABAAAKAAAAAAEAAAQAAAAAAQAAAAAAAAABAAACAAAAAAEA\n",
       "AAoAAAAAAQAABAAAAAABAAAAAAAAAAEAAAIAAAAAAQAACgAAAAABAAAEAAAAAAEAAAAAAAAAAQAA\n",
       "AgAAAAABAAAKAAAAAAEAAAQAAAAAAQAAAAAAAAABAAACAAAAAAEAAAYAAAAAAQAAAgAAAAABAAAK\n",
       "AAAAAAEAAAQAAAAAAQAAAAAAAAABAAACAAAAAAEAAAoAAAAAAQAABAAAAAABAAAAAAAAAAEAAAIA\n",
       "AAAAAQAACAAAAAACAAACAAAAAAEAAAgAAAAAAgAAAgAAAAAcc3RzYwAAAAAAAAABAAAAAQAAAGQA\n",
       "AAABAAABpHN0c3oAAAAAAAAAAAAAAGQAAAsPAAAA7AAAAD4AAAAuAAAAIwAAAEIAAAAlAAAAIgAA\n",
       "AA8AAABHAAAAFgAAAA8AAAARAAAAGQAAABQAAAAPAAAADwAAABkAAAAUAAAADwAAAA8AAAA2AAAA\n",
       "FgAAAA8AAAARAAAAGQAAABQAAAAPAAAADwAAACcAAAAXAAAAEQAAAA8AAAAiAAAAFgAAABEAAAAR\n",
       "AAAAIgAAABYAAAAPAAAAEQAAABwAAAAWAAAAEQAAABEAAAAbAAAAFgAAABEAAAAbAAAAFgAAABEA\n",
       "AAAlAAAAFgAAABEAAAAcAAAAFAAAAEwAAAAXAAAAEgAAABEAAAAeAAAAFwAAABEAAAASAAAAHAAA\n",
       "ABcAAAASAAAAEgAAACQAAAAWAAAAEgAAABIAAAAeAAAAGAAAABMAAAASAAAAJAAAABcAAAASAAAA\n",
       "EgAAADUAAAAYAAAAEgAAABoAAAAuAAAAGwAAADYAAAAXAAAAEgAAABIAAAAgAAAAGAAAABIAAAAS\n",
       "AAAAPQAAABgAAAATAAAAGwAAABYAAAASAAAAFHN0Y28AAAAAAAAAAQAAACwAAABidWR0YQAAAFpt\n",
       "ZXRhAAAAAAAAACFoZGxyAAAAAAAAAABtZGlyYXBwbAAAAAAAAAAAAAAAAC1pbHN0AAAAJal0b28A\n",
       "AAAdZGF0YQAAAAEAAAAATGF2ZjU4LjI5LjEwMA==\n",
       "\">\n",
       "  Your browser does not support the video tag.\n",
       "</video>"
      ],
      "text/plain": [
       "<IPython.core.display.HTML object>"
      ]
     },
     "execution_count": 12,
     "metadata": {},
     "output_type": "execute_result"
    },
    {
     "data": {
      "image/png": "[encoded data removed]",
      "text/plain": [
       "<Figure size 432x288 with 1 Axes>"
      ]
     },
     "metadata": {
      "needs_background": "light"
     },
     "output_type": "display_data"
    }
   ],
   "source": [
    "#animate model --> will be able to see what model is doing by viewing in with HTML\n",
    "import matplotlib.pyplot as plt\n",
    "import matplotlib.animation as ani\n",
    "from IPython.display import HTML\n",
    "%matplotlib inline\n",
    "\n",
    "fig1, ax1 = plt.subplots(1,1)\n",
    "def plot_block(i,x1_in,ax): #update function for animation\n",
    "    ax.clear()\n",
    "    ax.set_xlim([-3,3])\n",
    "    ax.set_ylim([-3,3])\n",
    "    \n",
    "    #plot mass\n",
    "    m1topx = x1_0    #initial position of mass\n",
    "    m1bottomx = m1topx + x1_in[i]\n",
    "    ax.plot([m1bottomx,0],[m1topx,0],color = 'xkcd:red')\n",
    "  # ax.plot([m1topx,0],color = 'xkcd:red')  #plot initial block\n",
    "    ax.grid(True)\n",
    "    \n",
    "update = lambda i: plot_block(i,x1_array,ax1)      #lambdify just used to calculate the numerical values fast\n",
    "\n",
    "animate = ani.FuncAnimation(fig1,update,range(Nodes),interval = 50, repeat = True)\n",
    "\n",
    "#animate.save('PleaseWork.gif', writer = 'ffmpeg')\n",
    "\n",
    "HTML(animate.to_html5_video()) "
   ]
  },
  {
   "cell_type": "code",
   "execution_count": null,
   "metadata": {},
   "outputs": [],
   "source": []
  }
 ],
 "metadata": {
  "kernelspec": {
   "display_name": "Python 3",
   "language": "python",
   "name": "python3"
  },
  "language_info": {
   "codemirror_mode": {
    "name": "ipython",
    "version": 3
   },
   "file_extension": ".py",
   "mimetype": "text/x-python",
   "name": "python",
   "nbconvert_exporter": "python",
   "pygments_lexer": "ipython3",
   "version": "3.7.6"
  }
 },
 "nbformat": 4,
 "nbformat_minor": 4
}
