{
 "cells": [
  {
   "cell_type": "markdown",
   "metadata": {
    "scrolled": true
   },
   "source": [
    "# Trajectory Optimization of Pneumatic Cylinder\n"
   ]
  },
  {
   "cell_type": "code",
   "execution_count": 9,
   "metadata": {},
   "outputs": [],
   "source": [
    "# import libraries\n",
    "import sympy as sym\n",
    "import numpy as np\n",
    "\n",
    "from IPython.display import display "
   ]
  },
  {
   "cell_type": "code",
   "execution_count": 10,
   "metadata": {},
   "outputs": [
    {
     "data": {
      "text/latex": [
       "$\\displaystyle \\left[\\begin{matrix}\\ddot{\\theta}_{1}\\end{matrix}\\right]$"
      ],
      "text/plain": [
       "Matrix([[\\ddot{\\theta}_{1}]])"
      ]
     },
     "metadata": {},
     "output_type": "display_data"
    }
   ],
   "source": [
    "# symbolic variables\n",
    "\n",
    "# system parameters\n",
    "X0,Y0 = sym.symbols(['X0','Y0']) # original position of mass\n",
    "g = sym.symbols('g')\n",
    "m1 = sym.symbols('m1') # mass of block\n",
    "\n",
    "# generalized coordinates\n",
    "# assume th1 = x, dth1 = v; ddth1 = a\n",
    "\n",
    "th1 = sym.symbols('theta1') #position\n",
    "dth1 = sym.symbols('\\dot{\\\\theta}_{1}') #velocity\n",
    "ddth1 = sym.symbols('\\ddot{\\\\theta}_{1}') #acceleration\n",
    "\n",
    "q = sym.Matrix([th1]) #group into matrices\n",
    "dq = sym.Matrix([dth1])\n",
    "ddq = sym.Matrix([ddth1])\n",
    "\n",
    "display(ddq) "
   ]
  },
  {
   "cell_type": "code",
   "execution_count": 11,
   "metadata": {},
   "outputs": [],
   "source": [
    "# STEP 1: write expressions for the system space coordinates in terms of the generalized coordinates and parameters\n",
    "th1a = th1 \n",
    "x1 = X0 + th1a"
   ]
  },
  {
   "cell_type": "code",
   "execution_count": 12,
   "metadata": {},
   "outputs": [
    {
     "data": {
      "text/latex": [
       "$\\displaystyle \\dot{\\theta}_{1}$"
      ],
      "text/plain": [
       "\\dot{\\theta}_{1}"
      ]
     },
     "metadata": {},
     "output_type": "display_data"
    }
   ],
   "source": [
    "# STEP 2: generate expressions for the system space velocities\n",
    "p1 = sym.Matrix([x1,th1])\n",
    "[dx1,dth1a] = p1.jacobian(q)*dq\n",
    "\n",
    "display(dx1)"
   ]
  },
  {
   "cell_type": "code",
   "execution_count": 13,
   "metadata": {},
   "outputs": [],
   "source": [
    "# STEP 3: generate expressions for the kinetic and potential energy\n",
    "T = sym.Matrix([0.5*m1*(dx1**2)])\n",
    "V = sym.Matrix([0]) "
   ]
  },
  {
   "cell_type": "code",
   "execution_count": 14,
   "metadata": {},
   "outputs": [
    {
     "data": {
      "text/latex": [
       "$\\displaystyle \\left[\\begin{matrix}- F + 1.0 \\ddot{\\theta}_{1} m_{1}\\end{matrix}\\right]$"
      ],
      "text/plain": [
       "Matrix([[-F + 1.0*\\ddot{\\theta}_{1}*m1]])"
      ]
     },
     "metadata": {},
     "output_type": "display_data"
    }
   ],
   "source": [
    "# STEP 4: calculate each term of the Lagrange equation\n",
    "\n",
    "Lg1 = sym.zeros(1,len(q))\n",
    "for i in range(len(q)):\n",
    "    dT_ddq = sym.diff(T,dq[i]) \n",
    "    Lg1[i] = dT_ddq.jacobian(q)*dq + dT_ddq.jacobian(dq)*ddq \n",
    "\n",
    "Lg3 = T.jacobian(q)\n",
    "\n",
    "Lg4 = V.jacobian(q) \n",
    "\n",
    "# STEP 5: calculate generalized forces\n",
    "# applying a horizontal force\n",
    "F = sym.symbols('F')\n",
    "\n",
    "FF = sym.Matrix([[F],[0],[0]])\n",
    "\n",
    "rF = sym.Matrix([[X0 + th1],\n",
    "                 [0],\n",
    "                 [0]])\n",
    "\n",
    "JF = rF.jacobian(q)\n",
    "\n",
    "QF = JF.transpose()*FF\n",
    "\n",
    "\n",
    "EOM = Lg1 - Lg3 + Lg4 - QF.transpose()\n",
    "\n",
    "display(EOM) # display equations of  motion"
   ]
  },
  {
   "cell_type": "code",
   "execution_count": 15,
   "metadata": {},
   "outputs": [],
   "source": [
    "N = 100\n",
    "\n",
    "#forces\n",
    "h = 0.01\n",
    "t = np.arange(0,N*h,h)\n",
    "\n",
    "F_arr = 10*t    # not to sure what this does \n",
    "\n",
    "#initial conditions\n",
    "th10 = 0\n",
    "dth10 = 0\n",
    "\n",
    "#parameters\n",
    "X0val = 0\n",
    "Y0val = 0\n",
    "\n",
    "parameter_values = [(X0,X0val),(Y0,Y0val),(g,9.81),(m1,1)]\n",
    "\n",
    "th1ar = [th10]\n",
    "dth1ar = [dth10]\n",
    "\n",
    "for i in range(1,N):\n",
    "    # substitute parameter values and previous conditions into the EOM \n",
    "    past = [(th1,th1ar[i-1]),(dth1,dth1ar[i-1])]\n",
    "    forces = [(F,F_arr[i-1])] \n",
    "    EOM_sub = EOM.subs(parameter_values).subs(past).subs(forces)\n",
    "    \n",
    "    # solve for the acceleration\n",
    "    acc = sym.solve(EOM_sub,[ddth1])\n",
    "    \n",
    "    # integrate for the next velocity and position    \n",
    "    dth1ar.append(float(dth1ar[i-1]+h*acc[ddth1]))   \n",
    "    th1ar.append(float(th1ar[i-1]+h*dth1ar[i]))"
   ]
  },
  {
   "cell_type": "code",
   "execution_count": 16,
   "metadata": {},
   "outputs": [
    {
     "data": {
      "image/png": "[encoded data removed]",
      "text/plain": [
       "<Figure size 432x288 with 1 Axes>"
      ]
     },
     "metadata": {
      "needs_background": "light"
     },
     "output_type": "display_data"
    }
   ],
   "source": [
    "#animate model\n",
    "import matplotlib.pyplot as plt\n",
    "import matplotlib.animation as ani\n",
    "from IPython.display import HTML\n",
    "%matplotlib inline\n",
    "\n",
    "fig1, ax1 = plt.subplots(1,1) #create axes\n",
    "\n",
    "def plot_block(i,th1_in,ax): #update function for animation\n",
    "    ax.clear()\n",
    "    ax.set_xlim([-2,2])\n",
    "    ax.set_ylim([-2,2])\n",
    "    \n",
    "    #plot mass\n",
    "    m1topx = X0val\n",
    "    m1bottomx = X0val + th1_in[i]\n",
    "    ax.plot([m1topx,m1bottomx],color='xkcd:black')\n",
    "    \n",
    "update = lambda i: plot_block(i,th1ar,ax1) #lambdify update function\n",
    "\n",
    "animate = ani.FuncAnimation(fig1,update,range(N),interval = 50,repeat=True)\n",
    "\n",
    "#HTML(animate.to_html5_video()) #you need to convert the animation to HTML5 to embed it in the notebook"
   ]
  },
  {
   "cell_type": "code",
   "execution_count": null,
   "metadata": {},
   "outputs": [],
   "source": []
  }
 ],
 "metadata": {
  "kernelspec": {
   "display_name": "Python 3",
   "language": "python",
   "name": "python3"
  },
  "language_info": {
   "codemirror_mode": {
    "name": "ipython",
    "version": 3
   },
   "file_extension": ".py",
   "mimetype": "text/x-python",
   "name": "python",
   "nbconvert_exporter": "python",
   "pygments_lexer": "ipython3",
   "version": "3.7.6"
  }
 },
 "nbformat": 4,
 "nbformat_minor": 4
}
