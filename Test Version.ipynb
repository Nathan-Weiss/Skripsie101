{
 "cells": [
  {
   "cell_type": "code",
   "execution_count": 1,
   "metadata": {},
   "outputs": [],
   "source": [
    "# Import Optimization Libraries\n",
    "from pyomo.environ import*\n",
    "from pyomo.opt import SolverFactory\n",
    "from pyomo.opt import SolverStatus, TerminationCondition\n",
    "\n",
    "# Import General Libraries\n",
    "import sympy as sym\n",
    "import numpy as np\n",
    "from IPython.display import display \n",
    "\n",
    "# Create a Concrete Model\n",
    "model = ConcreteModel()"
   ]
  },
  {
   "cell_type": "code",
   "execution_count": 2,
   "metadata": {},
   "outputs": [],
   "source": [
    "Nodes = 100\n",
    "model.Nodes = range(0,Nodes)"
   ]
  },
  {
   "cell_type": "code",
   "execution_count": 3,
   "metadata": {},
   "outputs": [],
   "source": [
    "model.X0 = Param(initialize = 0.0) # position of fixed base\n",
    "model.Y0 = Param(initialize = 0.0)\n",
    "model.h = Param(initialize = 0.02) # time step\n",
    "\n",
    "model.Damping = Param(initialize = 0.7)  # Damping coefficient\n",
    "model.mass = Param(initialize = 1.0) # mass of the 'mass'\n",
    "\n",
    "# Initailize Position, Velocity and Acceleration\n",
    "model.x1 = Var(model.Nodes)\n",
    "model.dx1 = Var(model.Nodes)\n",
    "model.ddx1 = Var(model.Nodes)\n",
    "\n",
    "model.Force = Var(model.Nodes)\n",
    "\n",
    "# Define Contact Force\n",
    "model.CF_ext = Var(model.Nodes)\n",
    "model.CF_rtn = Var(model.Nodes)\n",
    "model.L_max = Param(initialize = 4)\n",
    "model.L_min = Param(initialize = 0)\n",
    "model.eps = Param(initialize = 1000.0, mutable = True)\n",
    "\n",
    "###########################################################################################\n",
    "model.CF_pos = Var(model.Nodes) # new\n",
    "model.CF_neg = Var(model.Nodes) # new"
   ]
  },
  {
   "cell_type": "code",
   "execution_count": 4,
   "metadata": {},
   "outputs": [],
   "source": [
    "# Intergration Constraints\n",
    "def BwEuler_p(model,n): # Positions\n",
    "    if n > 1:\n",
    "        return model.x1[n] == model.x1[n-1] + model.h*model.dx1[n-1]\n",
    "    else:\n",
    "        return Constraint.Skip # Leaves out members of a set that the constraint doesn't apply to\n",
    "model.integrate_p = Constraint(model.Nodes, rule = BwEuler_p)\n",
    "\n",
    "def BwEuler_v(model,n): # Velocities\n",
    "    if n > 1:\n",
    "        return model.dx1[n] == model.dx1[n-1] + model.h*model.ddx1[n-1]\n",
    "    else:\n",
    "        return Constraint.Skip \n",
    "model.integrate_v = Constraint(model.Nodes, rule = BwEuler_v)"
   ]
  },
  {
   "cell_type": "code",
   "execution_count": 5,
   "metadata": {},
   "outputs": [
    {
     "data": {
      "text/latex": [
       "$\\displaystyle \\left[\\begin{matrix}- F - F_{ext} + F_{neg} + F_{pos} + F_{rtn} + 1.0 \\ddot{ x}_{1} m_{1} - \\dot{ x}_{1} b_{1}\\end{matrix}\\right]$"
      ],
      "text/plain": [
       "Matrix([[-F - F_ext + F_neg + F_pos + F_rtn + 1.0*\\ddot{ x}_{1}*m1 - \\dot{ x}_{1}*b1]])"
      ]
     },
     "metadata": {},
     "output_type": "display_data"
    }
   ],
   "source": [
    "X0 = sym.symbols('X0')   #starting position of the block\n",
    "m1 = sym.symbols('m1')   #mass of the block\n",
    "b1 = sym.symbols('b1')   #damping coefficient\n",
    "\n",
    "L_max = sym.symbols('L_max')  # Max stroke length\n",
    "L_min = sym.symbols('L_min')  # Min stroke length\n",
    "\n",
    "x1 = sym.symbols('x1')                #position of the block\n",
    "dx1 = sym.symbols('\\dot{\\\\ x}_{1}')    #velocity of the block\n",
    "ddx1 = sym.symbols('\\ddot{\\\\ x}_{1}')  #acceleration of the block\n",
    "\n",
    "q = sym.Matrix([x1])\n",
    "dq = sym.Matrix([dx1])\n",
    "ddq = sym.Matrix([ddx1])\n",
    "\n",
    "Xnew = X0 + x1\n",
    "\n",
    "p1 = sym.Matrix([Xnew, x1])\n",
    "[dXnew, dx1] = p1.jacobian(q)*dq\n",
    "#display(p1)             # [original position + current position ; current position]\n",
    "\n",
    "# Just checking\n",
    "dp1 = sym.Matrix([dXnew, dx1]) # --> derivative of the p1 matrix\n",
    "#display(dp1)\n",
    "\n",
    "######################################################################################################################\n",
    "######################################################################################################################\n",
    "\n",
    "#Define kinetic and potential energies for use in Lagrangian\n",
    "T = sym.Matrix([0.5*m1*(dXnew**2)])\n",
    "V = sym.Matrix([0]) \n",
    "\n",
    "# Define damping\n",
    "Damp = sym.Matrix([b1*dx1])\n",
    "#display(Damp)\n",
    "\n",
    "#Calculate terms of the Lagrangian Equation\n",
    "Lg1 = sym.zeros(1,len(q))\n",
    "for i in range(len(q)):\n",
    "    dT_ddq = sym.diff(T,dq[i]) \n",
    "    Lg1[i] = dT_ddq.jacobian(q)*dq + dT_ddq.jacobian(dq)*ddq \n",
    "\n",
    "Lg3 = T.jacobian(q)\n",
    "\n",
    "Lg4 = V.jacobian(q) \n",
    "\n",
    "#apply a horizontal force\n",
    "F = sym.symbols('F')                  #applied force parameter\n",
    "FF = sym.Matrix([[F],[0],[0]])        #force matrix\n",
    "rF = sym.Matrix([[X0 + Xnew],[0],[0]])  #distance the force acts on the block\n",
    "JF = rF.jacobian(q)\n",
    "QF = JF.transpose()*FF\n",
    "#display(QF)\n",
    "Force = QF\n",
    "\n",
    "# Complimentarity Forces\n",
    "F_ext = sym.symbols('F_ext')\n",
    "Extention = sym.Matrix([F_ext])\n",
    "F_rtn = sym.symbols('F_rtn')\n",
    "Retraction = sym.Matrix([F_rtn])\n",
    "\n",
    "############################### NEW STUFF #######################\n",
    "F_pos = sym.symbols('F_pos')\n",
    "Fpositive = sym.Matrix([F_pos])\n",
    "F_neg = sym.symbols('F_neg')\n",
    "Fnegative = sym.Matrix([F_neg])\n",
    "##################################################################\n",
    "\n",
    "#Equation of motion\n",
    "EOM = Lg1 - Lg3 + Lg4 - Damp - Force.transpose() + Retraction - Extention + Fpositive + Fnegative\n",
    "display(EOM)"
   ]
  },
  {
   "cell_type": "code",
   "execution_count": 6,
   "metadata": {},
   "outputs": [],
   "source": [
    "# Lambdify the EOM\n",
    "func_map = {'sin':sin, 'cos':cos}  \n",
    "sym_list = [X0, x1, dx1, ddx1, F, m1, b1, F_ext, F_rtn, F_pos, F_neg]\n",
    "\n",
    "lambEOM1 = sym.lambdify(sym_list, EOM[0], modules = [func_map])\n",
    "\n",
    "#display(lambEOM1)\n",
    "\n",
    "# Create EOM Constraints\n",
    "def EOM1(model,n): \n",
    "    # list the model versions of all quantities in the same order as sym_list\n",
    "    var_list = [model.X0, model.x1[n], model.dx1[n], model.ddx1[n], model.Force[n], model.mass, model.Damping, model.CF_ext[n], \n",
    "               model.CF_rtn[n], model.CF_pos[n], model.CF_neg[n]] \n",
    "    return lambEOM1(*var_list) == 0\n",
    "model.EOM = Constraint(model.Nodes, rule = EOM1)"
   ]
  },
  {
   "cell_type": "code",
   "execution_count": 7,
   "metadata": {},
   "outputs": [],
   "source": [
    "# Define Cost Function\n",
    "def CostFunction(model):\n",
    "    sum_force = 0\n",
    "    for n in range(1,Nodes):\n",
    "            sum_force = sum_force + model.Force[n]**2 \n",
    "    return sum_force\n",
    "\n",
    "model.Cost = Objective(rule = CostFunction)"
   ]
  },
  {
   "cell_type": "code",
   "execution_count": 8,
   "metadata": {},
   "outputs": [],
   "source": [
    "# Define Variable Bounds\n",
    "for n in range(1,Nodes):\n",
    "    model.Force[n].setlb(-40)\n",
    "    model.Force[n].setub(40)\n",
    "    model.x1[n].setlb(0)\n",
    "    model.x1[n].setub(4)\n",
    "    # Hard stops\n",
    "    model.CF_ext[n].setlb(0)\n",
    "    model.CF_ext[n].setub(1500)\n",
    "    model.CF_rtn[n].setlb(0)\n",
    "    model.CF_rtn[n].setub(1500)\n",
    "    \n",
    "    ############################### NEW STUFF ####################\n",
    "    model.CF_pos[n].setlb(0)\n",
    "    model.CF_pos[n].setub(1000)\n",
    "    model.CF_neg[n].setlb(0)\n",
    "    model.CF_neg[n].setub(1000)\n",
    "    ###############################################################"
   ]
  },
  {
   "cell_type": "code",
   "execution_count": 9,
   "metadata": {},
   "outputs": [],
   "source": [
    "# Initialization of variables\n",
    "for n in range (1,Nodes):\n",
    "    model.Force[n].value = 0.01\n",
    "    model.CF_ext[n].value = 0.01\n",
    "    model.CF_rtn[n].value = 0.01\n",
    "    \n",
    "    ########################### NEW STUFF #########################\n",
    "    model.CF_pos[n].value = 0.01\n",
    "    model.CF_neg[n].value = 0.01\n",
    "    ###############################################################\n",
    "    \n",
    "    model.x1[n].value = np.random.uniform(0,4)\n",
    "    model.dx1[n].value = 0.01\n",
    "    model.ddx1[n].value = 0.01"
   ]
  },
  {
   "cell_type": "code",
   "execution_count": 10,
   "metadata": {},
   "outputs": [],
   "source": [
    "# Set Boundary Conditions\n",
    "# Initial Conditions\n",
    "model.x1[1].fixed = True\n",
    "model.x1[1].value = 1\n",
    "\n",
    "model.dx1[1].fixed = True\n",
    "model.dx1[1].value = 0\n",
    "\n",
    "# Final Conditions\n",
    "# Nodes-1 ensures it stops at 99, if you just say Nodes jupyter throughs a tantrum\n",
    "model.x1[Nodes-1].fixed = True \n",
    "model.x1[Nodes-1].value = 4   # Stop at specified location \n",
    "\n",
    "model.dx1[Nodes-1].fixed = True\n",
    "model.dx1[Nodes-1].value = 0"
   ]
  },
  {
   "cell_type": "code",
   "execution_count": 11,
   "metadata": {},
   "outputs": [
    {
     "name": "stdout",
     "output_type": "stream",
     "text": [
      "1000.0\n",
      "Ipopt 3.11.1: print_level=5\n",
      "max_iter=30000\n",
      "max_cpu_time=600\n",
      "Tol=1e-06\n",
      "\n",
      "\n",
      "******************************************************************************\n",
      "This program contains Ipopt, a library for large-scale nonlinear optimization.\n",
      " Ipopt is released as open source code under the Eclipse Public License (EPL).\n",
      "         For more information visit http://projects.coin-or.org/Ipopt\n",
      "******************************************************************************\n",
      "\n",
      "NOTE: You are using Ipopt by default with the MUMPS linear solver.\n",
      "      Other linear solvers might be more efficient (see Ipopt documentation).\n",
      "\n",
      "\n",
      "This is Ipopt version 3.11.1, running with linear solver mumps.\n",
      "\n",
      "Number of nonzeros in equality constraint Jacobian...:     1281\n",
      "Number of nonzeros in inequality constraint Jacobian.:     1195\n",
      "Number of nonzeros in Lagrangian Hessian.............:      695\n",
      "\n",
      "Total number of variables............................:      796\n",
      "                     variables with only lower bounds:        0\n",
      "                variables with lower and upper bounds:      592\n",
      "                     variables with only upper bounds:        0\n",
      "Total number of equality constraints.................:      296\n",
      "Total number of inequality constraints...............:      500\n",
      "        inequality constraints with only lower bounds:        0\n",
      "   inequality constraints with lower and upper bounds:        0\n",
      "        inequality constraints with only upper bounds:      500\n",
      "\n",
      "iter    objective    inf_pr   inf_du lg(mu)  ||d||  lg(rg) alpha_du alpha_pr  ls\n",
      "   0 9.9000000e-003 3.50e+000 9.86e-001  -1.0 0.00e+000    -  0.00e+000 0.00e+000   0\n",
      "   1 1.4562753e-002 3.46e+000 4.63e+000  -1.0 5.10e+000   2.0 8.48e-003 9.05e-003f  1\n",
      "   2 1.2952213e-001 3.40e+000 7.85e+000  -1.0 5.38e+000   1.5 1.41e-002 1.85e-002f  1\n",
      "   3 2.0140458e+000 3.14e+000 1.19e+001  -1.0 5.46e+000   1.0 4.79e-002 7.69e-002f  1\n",
      "   4 2.0250165e+002 2.58e-002 7.96e+001  -1.0 4.68e+000   0.6 1.57e-001 9.92e-001H  1\n",
      "   5 1.9137742e+002 1.11e-015 1.21e+002  -1.0 6.44e-001   1.9 7.88e-002 1.00e+000f  1\n",
      "   6 1.8595401e+002 1.33e-015 4.32e+000  -1.0 9.54e-002   1.4 9.90e-001 1.00e+000f  1\n",
      "   7 1.6932930e+002 1.11e-015 1.67e+000  -1.0 1.91e-001   0.9 9.99e-001 1.00e+000f  1\n",
      "   8 1.3561513e+002 1.78e-015 1.53e+000  -1.0 5.24e-001   0.5 1.00e+000 1.00e+000f  1\n",
      "   9 8.4079071e+001 2.22e-015 1.21e+000  -1.0 1.24e+000  -0.0 1.00e+000 1.00e+000f  1\n",
      "iter    objective    inf_pr   inf_du lg(mu)  ||d||  lg(rg) alpha_du alpha_pr  ls\n",
      "  10 3.1815201e+001 1.33e-015 7.29e-001  -1.0 2.24e+000  -0.5 1.00e+000 1.00e+000f  1\n",
      "  11 3.9393469e+000 1.33e-015 6.23e+000  -1.7 2.29e+000  -1.0 8.40e-001 1.00e+000f  1\n",
      "  12 1.2807131e-001 2.22e-015 8.25e-002  -1.7 1.31e+000  -1.4 1.00e+000 1.00e+000f  1\n",
      "  13 1.7605965e-003 1.33e-015 5.94e-003  -2.5 4.54e-001  -1.9 1.00e+000 1.00e+000h  1\n",
      "  14 7.8827648e-006 1.33e-015 3.69e-004  -3.8 9.19e-002  -2.4 1.00e+000 1.00e+000h  1\n",
      "  15 2.8333445e-009 1.78e-015 6.99e-006  -5.7 5.22e-003  -2.9 1.00e+000 1.00e+000h  1\n",
      "  16 8.6057241e-012 2.22e-015 4.05e-007  -7.0 9.08e-004  -3.4 1.00e+000 1.00e+000h  1\n",
      "\n",
      "Number of Iterations....: 16\n",
      "\n",
      "                                   (scaled)                 (unscaled)\n",
      "Objective...............:  8.6057241485680972e-012   8.6057241485680972e-012\n",
      "Dual infeasibility......:  4.0516403955779888e-007   4.0516403955779888e-007\n",
      "Constraint violation....:  2.2204460492503131e-015   2.2204460492503131e-015\n",
      "Complementarity.........:  9.0943762403341810e-008   9.0943762403341810e-008\n",
      "Overall NLP error.......:  4.0516403955779888e-007   4.0516403955779888e-007\n",
      "\n",
      "\n",
      "Number of objective function evaluations             = 18\n",
      "Number of objective gradient evaluations             = 17\n",
      "Number of equality constraint evaluations            = 18\n",
      "Number of inequality constraint evaluations          = 18\n",
      "Number of equality constraint Jacobian evaluations   = 17\n",
      "Number of inequality constraint Jacobian evaluations = 17\n",
      "Number of Lagrangian Hessian evaluations             = 16\n",
      "Total CPU secs in IPOPT (w/o function evaluations)   =      0.158\n",
      "Total CPU secs in NLP function evaluations           =      0.000\n",
      "\n",
      "EXIT: Optimal Solution Found.\n",
      "100.0\n",
      "WARNING: Implicitly replacing the Component attribute extension_contact\n",
      "    (type=<class 'pyomo.core.base.constraint.IndexedConstraint'>) on block\n",
      "    unknown with a new Component (type=<class\n",
      "    'pyomo.core.base.constraint.IndexedConstraint'>). This is usually\n",
      "    indicative of a modelling error. To avoid this warning, use\n",
      "    block.del_component() and block.add_component().\n",
      "WARNING: Implicitly replacing the Component attribute retraction_contact\n",
      "    (type=<class 'pyomo.core.base.constraint.IndexedConstraint'>) on block\n",
      "    unknown with a new Component (type=<class\n",
      "    'pyomo.core.base.constraint.IndexedConstraint'>). This is usually\n",
      "    indicative of a modelling error. To avoid this warning, use\n",
      "    block.del_component() and block.add_component().\n",
      "WARNING: Implicitly replacing the Component attribute pos_Slack (type=<class\n",
      "    'pyomo.core.base.constraint.IndexedConstraint'>) on block unknown with a\n",
      "    new Component (type=<class\n",
      "    'pyomo.core.base.constraint.IndexedConstraint'>). This is usually\n",
      "    indicative of a modelling error. To avoid this warning, use\n",
      "    block.del_component() and block.add_component().\n"
     ]
    },
    {
     "ename": "RuntimeError",
     "evalue": "Cannot add component 'pos_Slack_index' (type <class 'pyomo.core.base.sets.SimpleSet'>) to block 'unknown': a component by that name (type <class 'pyomo.core.base.sets.SimpleSet'>) is already defined.",
     "output_type": "error",
     "traceback": [
      "\u001b[1;31m---------------------------------------------------------------------------\u001b[0m",
      "\u001b[1;31mRuntimeError\u001b[0m                              Traceback (most recent call last)",
      "\u001b[1;32m<ipython-input-11-18b616b7bc0a>\u001b[0m in \u001b[0;36m<module>\u001b[1;34m\u001b[0m\n\u001b[0;32m     23\u001b[0m         \u001b[0mbeta_pos\u001b[0m \u001b[1;33m=\u001b[0m \u001b[0mmodel\u001b[0m\u001b[1;33m.\u001b[0m\u001b[0mCF_pos\u001b[0m\u001b[1;33m[\u001b[0m\u001b[0mn\u001b[0m\u001b[1;33m]\u001b[0m\u001b[1;33m\u001b[0m\u001b[1;33m\u001b[0m\u001b[0m\n\u001b[0;32m     24\u001b[0m         \u001b[1;32mreturn\u001b[0m \u001b[0malpha_pos\u001b[0m\u001b[1;33m*\u001b[0m\u001b[0mbeta_pos\u001b[0m \u001b[1;33m<=\u001b[0m \u001b[0mmodel\u001b[0m\u001b[1;33m.\u001b[0m\u001b[0meps\u001b[0m\u001b[1;33m\u001b[0m\u001b[1;33m\u001b[0m\u001b[0m\n\u001b[1;32m---> 25\u001b[1;33m     \u001b[0mmodel\u001b[0m\u001b[1;33m.\u001b[0m\u001b[0mpos_Slack\u001b[0m \u001b[1;33m=\u001b[0m \u001b[0mConstraint\u001b[0m\u001b[1;33m(\u001b[0m\u001b[0mmodel\u001b[0m\u001b[1;33m.\u001b[0m\u001b[0mNodes\u001b[0m\u001b[1;33m,\u001b[0m \u001b[0mrule\u001b[0m \u001b[1;33m=\u001b[0m \u001b[0mpos_Slack\u001b[0m\u001b[1;33m)\u001b[0m\u001b[1;33m\u001b[0m\u001b[1;33m\u001b[0m\u001b[0m\n\u001b[0m\u001b[0;32m     26\u001b[0m \u001b[1;33m\u001b[0m\u001b[0m\n\u001b[0;32m     27\u001b[0m     \u001b[1;32mdef\u001b[0m \u001b[0mneg_Slack\u001b[0m\u001b[1;33m(\u001b[0m\u001b[0mmodel\u001b[0m\u001b[1;33m,\u001b[0m\u001b[0mn\u001b[0m\u001b[1;33m)\u001b[0m\u001b[1;33m:\u001b[0m\u001b[1;33m\u001b[0m\u001b[1;33m\u001b[0m\u001b[0m\n",
      "\u001b[1;32m~\\anaconda3\\lib\\site-packages\\pyomo\\core\\base\\block.py\u001b[0m in \u001b[0;36m__setattr__\u001b[1;34m(self, name, val)\u001b[0m\n\u001b[0;32m    606\u001b[0m                        type(val)))\n\u001b[0;32m    607\u001b[0m                 \u001b[0mself\u001b[0m\u001b[1;33m.\u001b[0m\u001b[0mdel_component\u001b[0m\u001b[1;33m(\u001b[0m\u001b[0mname\u001b[0m\u001b[1;33m)\u001b[0m\u001b[1;33m\u001b[0m\u001b[1;33m\u001b[0m\u001b[0m\n\u001b[1;32m--> 608\u001b[1;33m                 \u001b[0mself\u001b[0m\u001b[1;33m.\u001b[0m\u001b[0madd_component\u001b[0m\u001b[1;33m(\u001b[0m\u001b[0mname\u001b[0m\u001b[1;33m,\u001b[0m \u001b[0mval\u001b[0m\u001b[1;33m)\u001b[0m\u001b[1;33m\u001b[0m\u001b[1;33m\u001b[0m\u001b[0m\n\u001b[0m\u001b[0;32m    609\u001b[0m             \u001b[1;32melse\u001b[0m\u001b[1;33m:\u001b[0m\u001b[1;33m\u001b[0m\u001b[1;33m\u001b[0m\u001b[0m\n\u001b[0;32m    610\u001b[0m                 \u001b[1;31m#\u001b[0m\u001b[1;33m\u001b[0m\u001b[1;33m\u001b[0m\u001b[1;33m\u001b[0m\u001b[0m\n",
      "\u001b[1;32m~\\anaconda3\\lib\\site-packages\\pyomo\\core\\base\\block.py\u001b[0m in \u001b[0;36madd_component\u001b[1;34m(self, name, val)\u001b[0m\n\u001b[0;32m   1029\u001b[0m         \u001b[1;31m#\u001b[0m\u001b[1;33m\u001b[0m\u001b[1;33m\u001b[0m\u001b[1;33m\u001b[0m\u001b[0m\n\u001b[0;32m   1030\u001b[0m         \u001b[1;32mif\u001b[0m \u001b[0mhasattr\u001b[0m\u001b[1;33m(\u001b[0m\u001b[0mval\u001b[0m\u001b[1;33m,\u001b[0m \u001b[1;34m'_index'\u001b[0m\u001b[1;33m)\u001b[0m\u001b[1;33m:\u001b[0m\u001b[1;33m\u001b[0m\u001b[1;33m\u001b[0m\u001b[0m\n\u001b[1;32m-> 1031\u001b[1;33m             \u001b[0mself\u001b[0m\u001b[1;33m.\u001b[0m\u001b[0m_add_temporary_set\u001b[0m\u001b[1;33m(\u001b[0m\u001b[0mval\u001b[0m\u001b[1;33m)\u001b[0m\u001b[1;33m\u001b[0m\u001b[1;33m\u001b[0m\u001b[0m\n\u001b[0m\u001b[0;32m   1032\u001b[0m         \u001b[1;31m#\u001b[0m\u001b[1;33m\u001b[0m\u001b[1;33m\u001b[0m\u001b[1;33m\u001b[0m\u001b[0m\n\u001b[0;32m   1033\u001b[0m         \u001b[1;31m# Add the component to the underlying Component store\u001b[0m\u001b[1;33m\u001b[0m\u001b[1;33m\u001b[0m\u001b[1;33m\u001b[0m\u001b[0m\n",
      "\u001b[1;32m~\\anaconda3\\lib\\site-packages\\pyomo\\core\\base\\block.py\u001b[0m in \u001b[0;36m_add_temporary_set\u001b[1;34m(self, val)\u001b[0m\n\u001b[0;32m    840\u001b[0m         \u001b[1;32mif\u001b[0m \u001b[0misinstance\u001b[0m\u001b[1;33m(\u001b[0m\u001b[0mval\u001b[0m\u001b[1;33m.\u001b[0m\u001b[0m_index\u001b[0m\u001b[1;33m,\u001b[0m \u001b[0m_SetDataBase\u001b[0m\u001b[1;33m)\u001b[0m \u001b[1;32mand\u001b[0m\u001b[0;31m \u001b[0m\u001b[0;31m\\\u001b[0m\u001b[1;33m\u001b[0m\u001b[1;33m\u001b[0m\u001b[0m\n\u001b[0;32m    841\u001b[0m                 \u001b[0mval\u001b[0m\u001b[1;33m.\u001b[0m\u001b[0m_index\u001b[0m\u001b[1;33m.\u001b[0m\u001b[0mparent_component\u001b[0m\u001b[1;33m(\u001b[0m\u001b[1;33m)\u001b[0m\u001b[1;33m.\u001b[0m\u001b[0mlocal_name\u001b[0m \u001b[1;33m==\u001b[0m \u001b[1;34m\"_unknown_\"\u001b[0m\u001b[1;33m:\u001b[0m\u001b[1;33m\u001b[0m\u001b[1;33m\u001b[0m\u001b[0m\n\u001b[1;32m--> 842\u001b[1;33m             \u001b[0mself\u001b[0m\u001b[1;33m.\u001b[0m\u001b[0m_construct_temporary_set\u001b[0m\u001b[1;33m(\u001b[0m\u001b[0mval\u001b[0m\u001b[1;33m.\u001b[0m\u001b[0m_index\u001b[0m\u001b[1;33m,\u001b[0m \u001b[0mval\u001b[0m\u001b[1;33m.\u001b[0m\u001b[0mlocal_name\u001b[0m \u001b[1;33m+\u001b[0m \u001b[1;34m\"_index\"\u001b[0m\u001b[1;33m)\u001b[0m\u001b[1;33m\u001b[0m\u001b[1;33m\u001b[0m\u001b[0m\n\u001b[0m\u001b[0;32m    843\u001b[0m         \u001b[1;32mif\u001b[0m \u001b[0misinstance\u001b[0m\u001b[1;33m(\u001b[0m\u001b[0mgetattr\u001b[0m\u001b[1;33m(\u001b[0m\u001b[0mval\u001b[0m\u001b[1;33m,\u001b[0m \u001b[1;34m'initialize'\u001b[0m\u001b[1;33m,\u001b[0m \u001b[1;32mNone\u001b[0m\u001b[1;33m)\u001b[0m\u001b[1;33m,\u001b[0m \u001b[0m_SetDataBase\u001b[0m\u001b[1;33m)\u001b[0m \u001b[1;32mand\u001b[0m\u001b[0;31m \u001b[0m\u001b[0;31m\\\u001b[0m\u001b[1;33m\u001b[0m\u001b[1;33m\u001b[0m\u001b[0m\n\u001b[0;32m    844\u001b[0m                 \u001b[0mval\u001b[0m\u001b[1;33m.\u001b[0m\u001b[0minitialize\u001b[0m\u001b[1;33m.\u001b[0m\u001b[0mparent_component\u001b[0m\u001b[1;33m(\u001b[0m\u001b[1;33m)\u001b[0m\u001b[1;33m.\u001b[0m\u001b[0mlocal_name\u001b[0m \u001b[1;33m==\u001b[0m \u001b[1;34m\"_unknown_\"\u001b[0m\u001b[1;33m:\u001b[0m\u001b[1;33m\u001b[0m\u001b[1;33m\u001b[0m\u001b[0m\n",
      "\u001b[1;32m~\\anaconda3\\lib\\site-packages\\pyomo\\core\\base\\block.py\u001b[0m in \u001b[0;36m_construct_temporary_set\u001b[1;34m(self, obj, name)\u001b[0m\n\u001b[0;32m    864\u001b[0m                 \u001b[1;32mreturn\u001b[0m \u001b[0mtobj\u001b[0m\u001b[1;33m\u001b[0m\u001b[1;33m\u001b[0m\u001b[0m\n\u001b[0;32m    865\u001b[0m         \u001b[1;32melif\u001b[0m \u001b[0misinstance\u001b[0m\u001b[1;33m(\u001b[0m\u001b[0mobj\u001b[0m\u001b[1;33m,\u001b[0m \u001b[0mSet\u001b[0m\u001b[1;33m)\u001b[0m\u001b[1;33m:\u001b[0m\u001b[1;33m\u001b[0m\u001b[1;33m\u001b[0m\u001b[0m\n\u001b[1;32m--> 866\u001b[1;33m             \u001b[0mself\u001b[0m\u001b[1;33m.\u001b[0m\u001b[0madd_component\u001b[0m\u001b[1;33m(\u001b[0m\u001b[0mname\u001b[0m\u001b[1;33m,\u001b[0m \u001b[0mobj\u001b[0m\u001b[1;33m)\u001b[0m\u001b[1;33m\u001b[0m\u001b[1;33m\u001b[0m\u001b[0m\n\u001b[0m\u001b[0;32m    867\u001b[0m             \u001b[1;32mreturn\u001b[0m \u001b[0mobj\u001b[0m\u001b[1;33m\u001b[0m\u001b[1;33m\u001b[0m\u001b[0m\n\u001b[0;32m    868\u001b[0m         \u001b[1;32mraise\u001b[0m \u001b[0mException\u001b[0m\u001b[1;33m(\u001b[0m\u001b[1;34m\"BOGUS\"\u001b[0m\u001b[1;33m)\u001b[0m\u001b[1;33m\u001b[0m\u001b[1;33m\u001b[0m\u001b[0m\n",
      "\u001b[1;32m~\\anaconda3\\lib\\site-packages\\pyomo\\core\\base\\block.py\u001b[0m in \u001b[0;36madd_component\u001b[1;34m(self, name, val)\u001b[0m\n\u001b[0;32m    971\u001b[0m                 \u001b[1;34m\"Cannot add component '%s' (type %s) to block '%s': a \"\u001b[0m\u001b[1;33m\u001b[0m\u001b[1;33m\u001b[0m\u001b[0m\n\u001b[0;32m    972\u001b[0m                 \u001b[1;34m\"component by that name (type %s) is already defined.\"\u001b[0m\u001b[1;33m\u001b[0m\u001b[1;33m\u001b[0m\u001b[0m\n\u001b[1;32m--> 973\u001b[1;33m                 % (name, type(val), self.name, type(getattr(self, name))))\n\u001b[0m\u001b[0;32m    974\u001b[0m         \u001b[1;31m#\u001b[0m\u001b[1;33m\u001b[0m\u001b[1;33m\u001b[0m\u001b[1;33m\u001b[0m\u001b[0m\n\u001b[0;32m    975\u001b[0m         \u001b[1;31m# Skip the add_component() logic if this is a\u001b[0m\u001b[1;33m\u001b[0m\u001b[1;33m\u001b[0m\u001b[1;33m\u001b[0m\u001b[0m\n",
      "\u001b[1;31mRuntimeError\u001b[0m: Cannot add component 'pos_Slack_index' (type <class 'pyomo.core.base.sets.SimpleSet'>) to block 'unknown': a component by that name (type <class 'pyomo.core.base.sets.SimpleSet'>) is already defined."
     ]
    }
   ],
   "source": [
    "# Start the Solver\n",
    "model.eps.value = 1000.0\n",
    "   \n",
    "for i in range (0,8):\n",
    "    print(model.eps.value)\n",
    "        \n",
    "    def extension_contact(model,n):\n",
    "        alpha_ext = model.L_max - model.x1[n]\n",
    "        beta_ext = model.CF_ext[n]\n",
    "        return alpha_ext*beta_ext <= model.eps\n",
    "    model.extension_contact = Constraint(model.Nodes, rule = extension_contact)\n",
    "    \n",
    "    \n",
    "    def retraction_contact(model,n):\n",
    "        alpha_rtn = model.x1[n] - model.L_min\n",
    "        beta_rtn = model.CF_rtn[n]\n",
    "        return alpha_rtn*beta_rtn <= model.eps\n",
    "    model.retraction_contact = Constraint(model.Nodes, rule = retraction_contact)\n",
    "    \n",
    "    ########################## NEW STUFF #################################\n",
    "    def pos_Slack(model,n):\n",
    "        alpha_pos = (model.Force[n] - model.CF_pos[n])\n",
    "        beta_pos = model.CF_pos[n]\n",
    "        return alpha_pos*beta_pos <= model.eps\n",
    "    model.pos_Slack = Constraint(model.Nodes, rule = pos_Slack)\n",
    "    \n",
    "    def neg_Slack(model,n):\n",
    "        alpha_neg = (model.Force[n] - model.CF_neg[n])\n",
    "        beta_neg = model.CF_neg[n]\n",
    "        return alpha_neg*beta_neg <= model.eps\n",
    "    model.neg_Slack = Constraint(model.Nodes, rule = neg_Slack)\n",
    "    \n",
    "    def bang_bang(model,n):\n",
    "        bang_bang_Force = model.CF_pos[n] - model.CF_neg[n] + model.CF_ext[n] + model.CF_rtn[n]\n",
    "        return bang_bang_Force <= model.eps\n",
    "    model.bang_bang = Constraint(model.Nodes, rule = bang_bang)\n",
    "    ######################################################################\n",
    "        \n",
    "    optimize = SolverFactory('ipopt')\n",
    "    \n",
    "    optimize.options[\"print_level\"] = 5\n",
    "    optimize.options[\"max_iter\"] = 30000\n",
    "    optimize.options[\"max_cpu_time\"] = 600\n",
    "    optimize.options[\"Tol\"] = 1e-6\n",
    "\n",
    "    results = optimize.solve(model, tee = True) \n",
    "    model.eps.value = model.eps.value/10\n",
    "    \n",
    "   # model.del_component(model.extension_contact)\n",
    "    model.del_component(model.extension_contact_index)\n",
    "   # model.add_component(\"extension_contact\",Constraint(model.Nodes, rule = extension_contact))\n",
    "    \n",
    "  #  model.del_component(model.retraction_contact)\n",
    "    model.del_component(model.retraction_contact_index)\n",
    "  #  model.add_component(\"retraction_contact\",Constraint(model.Nodes,rule = retraction_contact))"
   ]
  },
  {
   "cell_type": "code",
   "execution_count": 12,
   "metadata": {},
   "outputs": [
    {
     "name": "stdout",
     "output_type": "stream",
     "text": [
      "ok\n",
      "optimal\n"
     ]
    }
   ],
   "source": [
    "# Some debugging stuff\n",
    "print(results.solver.status) # tells you if the solver had any errors/ warnings\n",
    "print(results.solver.termination_condition) # tells you if the solution was (locally) optimal, feasible, or neither.\n",
    "#model.pprint()"
   ]
  },
  {
   "cell_type": "code",
   "execution_count": 13,
   "metadata": {},
   "outputs": [
    {
     "data": {
      "text/html": [
       "<video width=\"432\" height=\"288\" controls autoplay loop>\n",
       "  <source type=\"video/mp4\" src=\"data:video/mp4;base64,AAAAHGZ0eXBNNFYgAAACAGlzb21pc28yYXZjMQAAAAhmcmVlAAAaX21kYXQAAAKuBgX//6rcRem9\n",
       "5tlIt5Ys2CDZI+7veDI2NCAtIGNvcmUgMTU4IHIyOTg0IDM3NTlmY2IgLSBILjI2NC9NUEVHLTQg\n",
       "QVZDIGNvZGVjIC0gQ29weWxlZnQgMjAwMy0yMDE5IC0gaHR0cDovL3d3dy52aWRlb2xhbi5vcmcv\n",
       "eDI2NC5odG1sIC0gb3B0aW9uczogY2FiYWM9MSByZWY9MyBkZWJsb2NrPTE6MDowIGFuYWx5c2U9\n",
       "MHgzOjB4MTEzIG1lPWhleCBzdWJtZT03IHBzeT0xIHBzeV9yZD0xLjAwOjAuMDAgbWl4ZWRfcmVm\n",
       "PTEgbWVfcmFuZ2U9MTYgY2hyb21hX21lPTEgdHJlbGxpcz0xIDh4OGRjdD0xIGNxbT0wIGRlYWR6\n",
       "b25lPTIxLDExIGZhc3RfcHNraXA9MSBjaHJvbWFfcXBfb2Zmc2V0PS0yIHRocmVhZHM9NiBsb29r\n",
       "YWhlYWRfdGhyZWFkcz0xIHNsaWNlZF90aHJlYWRzPTAgbnI9MCBkZWNpbWF0ZT0xIGludGVybGFj\n",
       "ZWQ9MCBibHVyYXlfY29tcGF0PTAgY29uc3RyYWluZWRfaW50cmE9MCBiZnJhbWVzPTMgYl9weXJh\n",
       "bWlkPTIgYl9hZGFwdD0xIGJfYmlhcz0wIGRpcmVjdD0xIHdlaWdodGI9MSBvcGVuX2dvcD0wIHdl\n",
       "aWdodHA9MiBrZXlpbnQ9MjUwIGtleWludF9taW49MjAgc2NlbmVjdXQ9NDAgaW50cmFfcmVmcmVz\n",
       "aD0wIHJjX2xvb2thaGVhZD00MCByYz1jcmYgbWJ0cmVlPTEgY3JmPTIzLjAgcWNvbXA9MC42MCBx\n",
       "cG1pbj0wIHFwbWF4PTY5IHFwc3RlcD00IGlwX3JhdGlvPTEuNDAgYXE9MToxLjAwAIAAAAs5ZYiE\n",
       "ADv//vdOvwKbRZdqA5JXCvbKpCZZuVJrAfKmAAADAAARsIY/zxd2GYDzCcM1vQjm+x3K3c/KgECT\n",
       "PDTVXpFdmrnlHIUf5TwvriFJsvGvW8Dg40xVhV4kbpsAAAnA+SrEWBuvpwnbyHCt+NHOYvaRCLJI\n",
       "tH5FywhwGf9/5NPABcaX1jyJcn2VKPe5lpe93mykwUbHu6b1laurNNXYMaGyAQwvVOL9ugzENBZA\n",
       "hMK10yw7G9anzN2egcWDS2zd7HJLwBI6nm6wLuFzBzwbi+iFP5U7s4ZXV/xaHdHunqM9X6E4W9fy\n",
       "wm3VINt0Y4xNSrItYrm5osWzylUjtV8CrC2QQkRuQCz9hY2PXj628ItVe1t/m/PMzsOaurOEZ+BX\n",
       "Cj/cihDMBzfUxqkmYLURO5mzdBB6wVD3l/RZWwmmOIR9erevF2KNfTTXkZ/JnIj6j4Nf8qKqQvuC\n",
       "l/RpVFyURNT+e7BBANjdNxi7YetR9fdCW7ZG0LPA1l4E4gJRCJjr0EsCS3pzVurubDhx6PtD6jDv\n",
       "66xE0M+kSQ7ZZF3sA4wApgRyE2+vAGyEFIJvR81IYMbSGkWHzB4mJfufHCykyAbfXgDZCCr2FTqI\n",
       "pobKuzSS9+vT7RT/XlRqek9tseIh/+QwFqovoihhwSCm7fLlr89hX9tZ++PeArtDqNYOZUzTXw0N\n",
       "f5HH8Fz1vvULxUDVsYTZOKOw1QaTjtzifAaDPQKd3vY1HkYpcqYjpGGDO3WjulTp641jIwms8Mw0\n",
       "IrnSTr8Zf/1KEOFQHLGenxhArZ4EUBQX1KpCMMvP/euKzbDqf8mZrSQtarmDQuPrLv7WTHbjHAyL\n",
       "S3YtjBs5dLIlbdOufQsLllLlIoC8CFnNNaS+DSx7n3LZZKTR//70/RfNmXuiJJWkANnXRRbGnu9L\n",
       "P/kKb/tXjtUN46BDJ1b+8jP+mOf83PJIu4awWvZAIZOrf3p21+ycyUAzxGoCAQydW/vIx7I+8nYH\n",
       "i/WsCW+gttWjgV3pz6T31tG0K4sLfh6jiN1b2v9qgg5QGJU/Hs0zywAnrg+g5CKuJynY0cNrywj5\n",
       "ajpUL6fABwhOhvolPnZAR6MDYK4+Ia1uVqtOhsOBZRHcJTKrndkQ61cqTSlgMwURagrEFDvLkrFO\n",
       "UPA4jT5ykyZTCwA/yTpyJOjRqqpHAbDTQgCS4mD/FMBZgD6o1WXp/BWZ/l2p9DLZrLrj4PDvshQs\n",
       "QSIwZab2CreqlF+RAO/zPM2L1FmpnxcJF+nHYuQRmMbac+VU6peC0oOMmB5MDi1MdzJPEKzrru/K\n",
       "L+JXb/Ie4Hl8vEaPZ1sS5uAl/fQp2UukC/MK5sdwYa38W5DyY87rLfYTcPdiOJzpLq/50R+Ojcny\n",
       "ZdkinUcrkefK20cdC8ntYNFiOLxALDnQBn/0rFoe4OXj2eeKnUNApm1yR7QArMVnXaodBOpzeuE6\n",
       "scsySeKa0D+3Eg/exVA53Oto0yYV2CtT6NZmEy6LhY00I5TcDGYR5IkOZx+jW8wYK6h5U8mzv8W3\n",
       "AvU94brU+t6Q4tbwXBVgy5Re1cNN3j/4GHjE/hGd+l9ZUkLcWCNV0KNKkyATy7BVLRtpRjlGCeN7\n",
       "b+vSB6ZtZxDxWUjxwkJjhYNRGSM6v9cVqAPSWUKZhXXzpIBSl4oEog/qfcPvw+qY5tEZ1VkV83FF\n",
       "knKplHkKDsR8zAQ5kR0+UEPTMNZ38PvlHGOgcUBEt1a600N941Ybl9MYv2huDdJiDiT2pruAqCV8\n",
       "gcXgXJgWQBZjI7LJoPeP8hoP8ETkPwOqFFNNkql076TVDRc9plgTlDD5ICHfgcoeXBB2QXrd3xuW\n",
       "OO9+vywafXkjzTp7aUr3hdZQbxMaAv7/fgn+Siuf7m35ib0y8DJwz/QQKjeq6G9Qv3x2tHzYxedu\n",
       "Fx8LcFobl0jrxvXdxJv4m2/gC4dKcoHemBQubff6xmP6KwQEUEG9VWd5aOgooXus2hNjBFABqKre\n",
       "xrdDz6LiquuH0f5TdXwnOydcCZqNpLV02LCehua4mxP8ob7e0dqknRPMAIZFvdOq/iAZ90kPeiAB\n",
       "IXZEbFPbvJH4aIdxo8rTden1Tr80zKxp/DWqMlCTnjYHPzZnp2CmduzRrFf28hooZrtOZfUoxtNd\n",
       "oaPTup7AGHXquU0EO5+AosYUwK5VZN65S5qmZ4+wAL8+nYQ7uKyN2GKxAznx2GsI3Tvqrupx43He\n",
       "qOISpFqyzwv4sCoqWL0yruRcZ1eE0DElfo+U1/Nvvoa7ow9+anDD3NOkfsTxo0HuG7R+o3An/vF8\n",
       "6NrCdoN8nxySg7UfsTpI1JE2xqYOsHd1IoY6ucC7ZalE70cAW0f20JvAALTBnkN4kLJfOSXaQl4s\n",
       "0G9fQ7uzoJoZCgmlK3h2roDmIAppO+vVv/ekE1KcqNIChDK7lGUY5xHFLdbDfhMYZ4DRGXqkKrol\n",
       "1sUJr9aNxTOtC8aStb0D+VkPAdQITGBM0v//3QCoewQ9InzU9f4kHj7+0rUy6gOJuv1isFOjMXbz\n",
       "Bo6inrbTTFPurkb7buJX3y8/Gl+GWkj6zO8xkeDoZhQEqGCLcatgx5DqNOAr56FVz+UvuBH0dtkT\n",
       "f3/PkupU6WCvEAABUXa1bg68aroWMaR07TdsrcmubvPo/akQ13xYSWjnLVrUHBLptLyS3I35HghG\n",
       "TvqQrLcHae/fA11GmZTu+gDVRJrB3rEX0dY1DHNu90cuANBZ7olOLNlO8i9QH/9LDULmmLK85oLL\n",
       "Qz3eYl7ndlhsVkz9EHw4L3+tWTRrpmFtp9Qazq93OQVKmOC0/uQi1j/3wCiWtrm29uiFDZjHEHd3\n",
       "pH6awTBjmEtkjoLBJH+JISlWtASKZu+2Nh50TC8uoeeOWIoKhn/UqKics3qAxNH57/rgoMZfvY7m\n",
       "tsYLHaG5dYNBTRMhZpkLZh6A7Kio1c8QtUq+3OqDu8bB/cmWNzo5mWMalZWxbYtz/pwV5XWAF8oY\n",
       "KXbjZtYtwknaOPY1+5oEXg2oNzlNOFONaGv79VZJkIXHnjZPbk3/iZhzCv7pFwV+wKKLo092HtO3\n",
       "uMrdEeIfK68HoT5pNejwf7kkh3yuhgOYXTxnyLFT6gVOisz8tAJuTQbbxnyLIYRFaPqVVqM2f9b7\n",
       "MwgErOLnhh3TYgbzl8Not2Iu//Ehdtlf1ns/632ZhAJZgY4BUzdzybWPIBNVvSQjHAEkoeY4GRa2\n",
       "AfiUQyCtwhlnJNy+t3cmVnraaGyzCvYK5tvF//0p92jAmnw1IQpkFNTxLJmvRfQImVV6sfPIkbkw\n",
       "aRBxFwKjEyBJK4DqUWWI71uzE0fq2YWSNO0UGJaDiwtFjH2rlrnPPVXNJN35f1T1//5f+2rPTLCd\n",
       "wvh2sTdJoys70XQ10NzadlWYPkKMkpOvd6Pg2aMNZ0OQZFfMsB0oIIZs7iLuTHBWIhhkT7u5GTox\n",
       "k+FRpKaZKGW30eJKMHpavYXjYuZ1opoepW44DPevWTbZzlCBoCqIRkEO4xA41ViBZ0tpAqN1Q/VM\n",
       "BB8YkGi7S3+bmuUooOZw3/KsoSjf0PGTjtFnv4Wod4+dLDj6pvx+gl+dooWaCFxiP1N3lAiNYDaq\n",
       "kyBt8BS73oBU1z/nS/2Y/cgeFm30klltzFpGwlBq1MFM/uPFzwaonxMgl8ZZVPcSwK1GYNQptjrU\n",
       "rWMwHekJ8boFwPx4GFVTShPR1eVaA9cRkRWX4ply93VO0s0eqJzBcn/VMTgNVX7gEzx968QW8oSo\n",
       "A+vCNZtUo3b21f+1U/rk6pJAM7HcO6asJ5ENTd1QNW7o19+OBPPl40NKGBPQJgk7KllcbGmmaKz0\n",
       "SdHGeCc2M6MJNHAAQWpAATsAKqEAAAEmQZokbEO//qmWAQXTToAssyzpqRfIQYT1/5jJzppT3OZz\n",
       "ALs/r9Kw/8hApmdvxw/la25DcuUzKFfJNHvhVD9mzXIszDBj/3W9CZP3wAmKza8HHsD4gP3uXf6N\n",
       "rkZcoPZZz0vLr+Uwys/e22qZdqtrdaoVym7HXiXi2zQu3d/1WL2osjmuD7p3KCqCjMkpRyL/etQ0\n",
       "PygE9FKBIr/qruLAp/W4F6it7VQIm4UCL2dYHtbISWukCRAX13H/H3CBEjqVprjEE/F4fKdeP/o1\n",
       "Pjzuc/GYyt7DBvthpSxQxuGYXBXQ2FYBKy+ypa5CDaGmvdvGStgqhBsvTQ9QxKvoOeql2mbUJ22R\n",
       "GIU3TTwUCcrVvPf7WB5/Z7RW1R+hA3pIox9CY/fXmwJLAAAAPUGeQniGfwDD/AfV3+dBVWjou3Ww\n",
       "RgI2dqlU/lSlIjJOm9CKBit9xACyZfjzd6sKhSH6cH/5PpPeSm7YYsEAAAA6AZ5hdEK/AWxLYoKk\n",
       "9ZysZQAAAwAaLK0Zb+XTfDyI1B29QPoQAAWrS9jaeNUAnys7a+9hc/dmynjDgAAAACsBnmNqQr8A\n",
       "8rJKxHNpjt9Yqt/vRgBaUCePy0f2/lwb3rTFQPtkiRyYoJGRAAAASUGaZ0moQWiZTAhv//6nhAEs\n",
       "UDz+DIkL2MqF4A/78b7iPak6TV4VTDzRON1TH7RdBP6XchtQSO0F7gdqyhKIG84xGV+pP/WTX4EA\n",
       "AAAsQZ6FRREsL/8AtbBp4nctrjZRrNf7Hz4wAtXn8ZozNPFnev4FTwQSpN91aUEAAAAiAZ6makK/\n",
       "ABdK//c0ITXIsIAWPtZOHdkZyFeeUEe4nWQSmQAAADlBmqlJqEFsmUwUTDf//qeEASRQe6oLVEk0\n",
       "QBQbToIJ54sa63RLK+ZsZ6N9wPhlMot9ywNZNRjN/eMAAAAfAZ7IakK/ABdOTO/oiE1yLCAFj7WT\n",
       "h3ZGPvWA16G4gAAAAC1BmspJ4QpSZTAhv/6nhAAF0Z7HOAMqQS5HUX/4C6EnL3PKipFmld956/nw\n",
       "XSEAAAAoQZrsSeEOiZTBTRMN//6nhAAF0Z7at9DvpbJr2SXO1OqUcift4D/d0AAAABUBnwtqQr8A\n",
       "BLZHvErkAYM60jlaQ3gAAAAoQZsNSeEPJlMCG//+p4QABdGexzgERcm6Ls0n7ghyr5FJya1jLiqT\n",
       "lwAAABpBmy5J4Q8mUwId//6plgAC7saQwQBvVyQVMQAAABxBm09J4Q8mUwId//6plgAC7saPZAFQ\n",
       "jP0EpBUxAAAAIkGbcEnhDyZTAh///qmWAALuxpEZAHEIFraSrpZ2myfYsqYAAABFQZuUSeEPJlMC\n",
       "H//+qZYAAu7GlgkA1Lfnty4qkMHcZWOo2PksaNAg2dWB0TGNgyTGn8YtAR2Bc0yAeRyjGLvQA/Lw\n",
       "au6AAAAAEUGfskURPDP/AAKOoPWzj0WdAAAADgGf0XRCvwAEtc7WMhZwAAAADgGf02pCvwAEleod\n",
       "tNmAAAAAGkGb2EmoQWiZTAh///6plgAC3p7BSZu27Wd1AAAAEEGf9kURLDP/AAJ89OjbF3AAAAAN\n",
       "AZ4VdEK/AASXh4nhQQAAAA0BnhdqQr8ABJX7uWmzAAAAGkGaHEmoQWyZTAh///6plgAC3MRGZqNn\n",
       "AZHdAAAAEEGeOkUVLDP/AAJ8e1R3mzEAAAANAZ5ZdEK/AASXh4nhQQAAAA0BnltqQr8ABJX7uWmz\n",
       "AAAALkGaQEmoQWyZTAh///6plgAC38Lf9CW24GQPcOnFScHkfUEkmujdEfsJ51zJGfEAAAARQZ5+\n",
       "RRUsM/8AAnyg9ELnouIAAAAPAZ6ddEK/AASVzqPq5C4gAAAADgGen2pCvwAEdza+Em9BAAAAJEGa\n",
       "hEmoQWyZTAh3//6plgACygi2lMvxMoBVSaM+QvsmOy28jAAAABBBnqJFFSwz/wACY8q+4sYFAAAA\n",
       "DgGewXRCvwAEdaGO2m9AAAAADgGew2pCvwAEdeodtN6BAAAAJEGayEmoQWyZTAh3//6plgACzfHu\n",
       "7XyNYlj7ghpzbtYfl8ZlfQAAABJBnuZFFSwz/wACaxTQFcykJ2EAAAAPAZ8FdEK/AAR3dnXfxC8h\n",
       "AAAADgGfB2pCvwAEUzmKOSccAAAAM0GbDEmoQWyZTAhv//6nhAAFab6NR3ICegI//P9S4v9QdBHc\n",
       "lnYDg9O9L5K0Eo/+dbdPmAAAACBBnypFFSwz/wACU/vdwAXQV5fnpXNxnEpzl4JikEB0XQAAABYB\n",
       "n0l0Qr8ABEeNuwAXQNSSiJiZ+nHAAAAAFAGfS2pCvwAEWeIgBbqN7xNMMKmAAAAALEGbTUmoQWyZ\n",
       "TAhv//6nhAAFY25IApNpznukJxNBOBum1H16s67QCnujTFJBAAAAFkGbbknhClJlMCG//qeEAAU/\n",
       "GQs1BL0AAAAsQZuPSeEOiZTAh3/+qZYAAqalE6lwAmr4Swd2W4NmuRZI/JouzTS2MyZ5GzEAAAAb\n",
       "QZuwSeEPJlMCHf/+qZYAAqWnKS1Rb8CndYGBAAAAJUGb0knhDyZTBRE8P//+qZYAAqYqbNgPADmW\n",
       "0uVn3Z5lju1Wf4AAAAAOAZ/xakK/AAQ11ItadMEAAAAmQZv2SeEPJlMCHf/+qZYAAqbERm5XQaYr\n",
       "tTlrV7nB3nbAGGz5GOAAAAATQZ4URRE8M/8AAksVKTTszKGS1wAAABEBnjN0Qr8ABDXOo+rkgAt1\n",
       "4QAAAA4BnjVqQr8ABBXqHbTugAAAABhBmjhJqEFomUwU8P/+qZYAApO4OrJUI+EAAAAOAZ5XakK/\n",
       "AAQV1Itad0EAAAAfQZpcSeEKUmUwId/+qZYAApfx64KqT3tjDNcjkpN1nwAAABJBnnpFNEwz/wAC\n",
       "OxV0djnoy4EAAAAPAZ6ZdEK/AAQVzqPq5DLgAAAADgGem2pCvwAD98MVp0vBAAAAPUGagEmoQWiZ\n",
       "TAh3//6plgAChfHrwmqACHzxD91nvIWiqWYL9P6ZBxcbd5mHk7mNj8DINPm5j9yz0umeCLkAAAAS\n",
       "QZ6+RREsM/8AAitk8cm3WTqgAAAADgGe3XRCvwAD+NtJjpeAAAAAGQGe32pCvwAD+AWDZgBa56dP\n",
       "YONOcoWoB1UAAAArQZrBSahBbJlMCH///qmWAAJwgJSgA7S69btjuOW/wlklY6hJMLKt+JAwIAAA\n",
       "ADhBmuRJ4QpSZTAh//6plgACc8KV9EjlxAA6VtPn0EvKd/GWz2V+YjcW9zLybxcM1KwS68+GckGi\n",
       "4QAAABFBnwJFNEwv/wAC55kvnY6bgAAAAA4BnyNqQr8AA+CIlGDT5wAAABxBmyhJqEFomUwIf//+\n",
       "qZYAAnFDDejaEIxEEa3/AAAAEkGfRkURLDP/AAIbFXR2OejVgQAAABABn2V0Qr8AA+G/OfVsUE71\n",
       "AAAADgGfZ2pCvwADy8MVp1BAAAAAJEGba0moQWyZTAh///6plgACYMUEaq5c5oN3DPh/dKTak3gy\n",
       "JAAAABFBn4lFFSwv/wAC1pdR+1fRtQAAAA8Bn6pqQr8AA8vDE0/hDagAAAAaQZuvSahBbJlMCH//\n",
       "/qmWAAJQYyuE6Xe1pOAAAAAQQZ/NRRUsM/8AAfaZGxbHHQAAAA4Bn+x0Qr8AA7bbSY6kgQAAAA4B\n",
       "n+5qQr8AA7avpMdSQQAAABhBm/NJqEFsmUwIf//+qZYAAlBi3IUPHTAAAAAQQZ4RRRUsM/8AAfvJ\n",
       "FHnYsAAAAA4BnjB0Qr8AA7bbSY6kgQAAAA0BnjJqQr8AA7XbBJ1JAAAAHEGaN0moQWyZTAh3//6p\n",
       "lgACU/QVIX3NilC6w/wAAAASQZ5VRRUsM/8AAfvjBsk57CXhAAAADwGedHRCvwADtbsbDB4L2AAA\n",
       "AA4BnnZqQr8AA559HP5Q8QAAACZBmntJqEFsmUwId//+qZYAAkLD79hQAXIGB7Nd7dSUYKgjZ+Cy\n",
       "gQAAABhBnplFFSwz/wAB7uajcAC537UsmF7jsqAAAAAOAZ64dEK/AAOe8ZHE6pkAAAALAZ66akK/\n",
       "AAADAYsAAAAtQZq/SahBbJlMCG///qeEAAR0uqIALpMpqj9jFosy7wMLY0SRM42LoWIdUFlBAAAA\n",
       "DkGe3UUVLDP/AAADANSBAAAADQGe/HRCvwADoQ/NQ8AAAAANAZ7+akK/AAOgBsdUwAAAAB9BmuJJ\n",
       "qEFsmUwIV//+OEAAQ0SIAAJarlASqCBsDkjBAAAAD0GfAEUVLC//AAKyw4OyoAAAAAsBnyFqQr8A\n",
       "AAMBiwAAB4Jtb292AAAAbG12aGQAAAAAAAAAAAAAAAAAAAPoAAATVgABAAABAAAAAAAAAAAAAAAA\n",
       "AQAAAAAAAAAAAAAAAAAAAAEAAAAAAAAAAAAAAAAAAEAAAAAAAAAAAAAAAAAAAAAAAAAAAAAAAAAA\n",
       "AAAAAAACAAAGrHRyYWsAAABcdGtoZAAAAAMAAAAAAAAAAAAAAAEAAAAAAAATVgAAAAAAAAAAAAAA\n",
       "AAAAAAAAAQAAAAAAAAAAAAAAAAAAAAEAAAAAAAAAAAAAAAAAAEAAAAABsAAAASAAAAAAACRlZHRz\n",
       "AAAAHGVsc3QAAAAAAAAAAQAAE1YAAAQAAAEAAAAABiRtZGlhAAAAIG1kaGQAAAAAAAAAAAAAAAAA\n",
       "ACgAAADGAFXEAAAAAAAtaGRscgAAAAAAAAAAdmlkZQAAAAAAAAAAAAAAAFZpZGVvSGFuZGxlcgAA\n",
       "AAXPbWluZgAAABR2bWhkAAAAAQAAAAAAAAAAAAAAJGRpbmYAAAAcZHJlZgAAAAAAAAABAAAADHVy\n",
       "bCAAAAABAAAFj3N0YmwAAACzc3RzZAAAAAAAAAABAAAAo2F2YzEAAAAAAAAAAQAAAAAAAAAAAAAA\n",
       "AAAAAAABsAEgAEgAAABIAAAAAAAAAAEAAAAAAAAAAAAAAAAAAAAAAAAAAAAAAAAAAAAAAAAAAAAY\n",
       "//8AAAAxYXZjQwFkABX/4QAYZ2QAFazZQbCWhAAAAwAEAAADAKA8WLZYAQAGaOvjyyLAAAAAHHV1\n",
       "aWRraEDyXyRPxbo5pRvPAyPzAAAAAAAAABhzdHRzAAAAAAAAAAEAAABjAAACAAAAABRzdHNzAAAA\n",
       "AAAAAAEAAAABAAAC2GN0dHMAAAAAAAAAWQAAAAEAAAQAAAAAAQAACgAAAAABAAAEAAAAAAEAAAAA\n",
       "AAAAAQAAAgAAAAABAAAIAAAAAAIAAAIAAAAAAQAABgAAAAABAAACAAAAAAEAAAQAAAAAAQAABgAA\n",
       "AAABAAACAAAAAAQAAAQAAAAAAQAACgAAAAABAAAEAAAAAAEAAAAAAAAAAQAAAgAAAAABAAAKAAAA\n",
       "AAEAAAQAAAAAAQAAAAAAAAABAAACAAAAAAEAAAoAAAAAAQAABAAAAAABAAAAAAAAAAEAAAIAAAAA\n",
       "AQAACgAAAAABAAAEAAAAAAEAAAAAAAAAAQAAAgAAAAABAAAKAAAAAAEAAAQAAAAAAQAAAAAAAAAB\n",
       "AAACAAAAAAEAAAoAAAAAAQAABAAAAAABAAAAAAAAAAEAAAIAAAAAAQAACgAAAAABAAAEAAAAAAEA\n",
       "AAAAAAAAAQAAAgAAAAAEAAAEAAAAAAEAAAYAAAAAAQAAAgAAAAABAAAKAAAAAAEAAAQAAAAAAQAA\n",
       "AAAAAAABAAACAAAAAAEAAAYAAAAAAQAAAgAAAAABAAAKAAAAAAEAAAQAAAAAAQAAAAAAAAABAAAC\n",
       "AAAAAAEAAAoAAAAAAQAABAAAAAABAAAAAAAAAAEAAAIAAAAAAQAABAAAAAABAAAIAAAAAAIAAAIA\n",
       "AAAAAQAACgAAAAABAAAEAAAAAAEAAAAAAAAAAQAAAgAAAAABAAAIAAAAAAIAAAIAAAAAAQAACgAA\n",
       "AAABAAAEAAAAAAEAAAAAAAAAAQAAAgAAAAABAAAKAAAAAAEAAAQAAAAAAQAAAAAAAAABAAACAAAA\n",
       "AAEAAAoAAAAAAQAABAAAAAABAAAAAAAAAAEAAAIAAAAAAQAACgAAAAABAAAEAAAAAAEAAAAAAAAA\n",
       "AQAAAgAAAAABAAAKAAAAAAEAAAQAAAAAAQAAAAAAAAABAAACAAAAAAEAAAgAAAAAAgAAAgAAAAAc\n",
       "c3RzYwAAAAAAAAABAAAAAQAAAGMAAAABAAABoHN0c3oAAAAAAAAAAAAAAGMAAA3vAAABKgAAAEEA\n",
       "AAA+AAAALwAAAE0AAAAwAAAAJgAAAD0AAAAjAAAAMQAAACwAAAAZAAAALAAAAB4AAAAgAAAAJgAA\n",
       "AEkAAAAVAAAAEgAAABIAAAAeAAAAFAAAABEAAAARAAAAHgAAABQAAAARAAAAEQAAADIAAAAVAAAA\n",
       "EwAAABIAAAAoAAAAFAAAABIAAAASAAAAKAAAABYAAAATAAAAEgAAADcAAAAkAAAAGgAAABgAAAAw\n",
       "AAAAGgAAADAAAAAfAAAAKQAAABIAAAAqAAAAFwAAABUAAAASAAAAHAAAABIAAAAjAAAAFgAAABMA\n",
       "AAASAAAAQQAAABYAAAASAAAAHQAAAC8AAAA8AAAAFQAAABIAAAAgAAAAFgAAABQAAAASAAAAKAAA\n",
       "ABUAAAATAAAAHgAAABQAAAASAAAAEgAAABwAAAAUAAAAEgAAABEAAAAgAAAAFgAAABMAAAASAAAA\n",
       "KgAAABwAAAASAAAADwAAADEAAAASAAAAEQAAABEAAAAjAAAAEwAAAA8AAAAUc3RjbwAAAAAAAAAB\n",
       "AAAALAAAAGJ1ZHRhAAAAWm1ldGEAAAAAAAAAIWhkbHIAAAAAAAAAAG1kaXJhcHBsAAAAAAAAAAAA\n",
       "AAAALWlsc3QAAAAlqXRvbwAAAB1kYXRhAAAAAQAAAABMYXZmNTguMjkuMTAw\n",
       "\">\n",
       "  Your browser does not support the video tag.\n",
       "</video>"
      ],
      "text/plain": [
       "<IPython.core.display.HTML object>"
      ]
     },
     "execution_count": 13,
     "metadata": {},
     "output_type": "execute_result"
    },
    {
     "data": {
      "image/png": "[encoded data removed]",
      "text/plain": [
       "<Figure size 432x288 with 1 Axes>"
      ]
     },
     "metadata": {
      "needs_background": "light"
     },
     "output_type": "display_data"
    }
   ],
   "source": [
    "#animate model --> will be able to see what model is doing by viewing in with HTML\n",
    "import matplotlib.pyplot as plt\n",
    "import matplotlib.animation as ani\n",
    "from IPython.display import HTML\n",
    "%matplotlib inline\n",
    "\n",
    "fig1, ax1 = plt.subplots(1,1)\n",
    "def plot_block(i,model,ax): #update function for animation\n",
    "    ax.clear()\n",
    "    ax.set_xlim([-1,5])\n",
    "    ax.set_ylim([-2,2])\n",
    "    \n",
    "    #plot mass\n",
    "    m1topx = model.X0.value   #initial position of mass\n",
    "    m1bottomx = m1topx + model.x1[i].value\n",
    "    ax.plot([m1bottomx,0],[m1topx,0],color = 'xkcd:red')\n",
    "    ax.grid(True)\n",
    "    \n",
    "update = lambda i: plot_block(i,model,ax1)      #lambdify just used to calculate the numerical values fast\n",
    "\n",
    "animate = ani.FuncAnimation(fig1,update,range(1,Nodes),interval = 50, repeat = True)\n",
    "\n",
    "HTML(animate.to_html5_video())"
   ]
  },
  {
   "cell_type": "code",
   "execution_count": 14,
   "metadata": {},
   "outputs": [
    {
     "data": {
      "image/png": "[encoded data removed]",
      "text/plain": [
       "<Figure size 432x288 with 1 Axes>"
      ]
     },
     "metadata": {
      "needs_background": "light"
     },
     "output_type": "display_data"
    }
   ],
   "source": [
    "# Applied Force\n",
    "plt.axes()\n",
    "Time = 0\n",
    "for n in range(1,Nodes):\n",
    "    force = model.Force[n].value\n",
    "    time = model.h.value\n",
    "    Time += time\n",
    "    #print(Time)\n",
    "    #print(force)\n",
    "    plt.plot(Time,force,'y.')\n",
    "    plt.xlabel('Time')\n",
    "    plt.ylabel('Applied Force')\n",
    "    plt.title('Applied Force vs Time')"
   ]
  },
  {
   "cell_type": "code",
   "execution_count": 15,
   "metadata": {},
   "outputs": [
    {
     "data": {
      "image/png": "[encoded data removed]",
      "text/plain": [
       "<Figure size 432x288 with 1 Axes>"
      ]
     },
     "metadata": {
      "needs_background": "light"
     },
     "output_type": "display_data"
    }
   ],
   "source": [
    "# Extension Constraint Force\n",
    "plt.axes()\n",
    "Time = 0\n",
    "for n in range(1,Nodes):\n",
    "    ext_force = model.CF_ext[n].value\n",
    "    time = model.h.value\n",
    "    Time += time\n",
    "    \n",
    "    plt.plot(Time,ext_force,'b.')\n",
    "    plt.xlabel('Time')\n",
    "    plt.ylabel('Extension Constraint Force')\n",
    "    plt.title('Extension Force vs Time')"
   ]
  },
  {
   "cell_type": "code",
   "execution_count": 16,
   "metadata": {},
   "outputs": [
    {
     "data": {
      "image/png": "[encoded data removed]",
      "text/plain": [
       "<Figure size 432x288 with 1 Axes>"
      ]
     },
     "metadata": {
      "needs_background": "light"
     },
     "output_type": "display_data"
    }
   ],
   "source": [
    "#Retraction Constraint Force  \n",
    "plt.axes()  \n",
    "Time = 0\n",
    "for n in range(1,Nodes):\n",
    "    rtn_force = model.CF_rtn[n].value\n",
    "    time = model.h.value\n",
    "    Time += time\n",
    "    \n",
    "    plt.plot(Time,rtn_force, 'g.')\n",
    "    plt.xlabel('Time')\n",
    "    plt.ylabel('Retraction Force')\n",
    "    plt.title('Retraction Force vs Time')"
   ]
  },
  {
   "cell_type": "code",
   "execution_count": 17,
   "metadata": {},
   "outputs": [
    {
     "data": {
      "image/png": "[encoded data removed]",
      "text/plain": [
       "<Figure size 432x288 with 1 Axes>"
      ]
     },
     "metadata": {
      "needs_background": "light"
     },
     "output_type": "display_data"
    }
   ],
   "source": [
    "# Position vs Time\n",
    "plt.axes()\n",
    "Time = 0    \n",
    "for n in range(1,Nodes):\n",
    "    position = model.x1[n].value\n",
    "    time = model.h.value\n",
    "    Time += time\n",
    "    \n",
    "    plt.plot(Time,position,'k.')\n",
    "    plt.xlabel('Time')\n",
    "    plt.ylabel('Position')\n",
    "    plt.title('Positon vs Time')"
   ]
  },
  {
   "cell_type": "code",
   "execution_count": 18,
   "metadata": {
    "scrolled": true
   },
   "outputs": [
    {
     "data": {
      "image/png": "[encoded data removed]",
      "text/plain": [
       "<Figure size 432x288 with 1 Axes>"
      ]
     },
     "metadata": {
      "needs_background": "light"
     },
     "output_type": "display_data"
    }
   ],
   "source": [
    "#Velocity vs Time\n",
    "plt.axes()\n",
    "Time = 0\n",
    "for n in range(1,Nodes):\n",
    "    velocity = model.dx1[n].value\n",
    "    time = model.h.value\n",
    "    Time += time\n",
    "    \n",
    "    plt.plot(Time,velocity,'k.')\n",
    "    plt.xlabel('Time')\n",
    "    plt.ylabel('Velocity')\n",
    "    plt.title('Velocity vs Time')"
   ]
  },
  {
   "cell_type": "code",
   "execution_count": null,
   "metadata": {},
   "outputs": [],
   "source": []
  },
  {
   "cell_type": "code",
   "execution_count": null,
   "metadata": {},
   "outputs": [],
   "source": []
  }
 ],
 "metadata": {
  "kernelspec": {
   "display_name": "Python 3",
   "language": "python",
   "name": "python3"
  },
  "language_info": {
   "codemirror_mode": {
    "name": "ipython",
    "version": 3
   },
   "file_extension": ".py",
   "mimetype": "text/x-python",
   "name": "python",
   "nbconvert_exporter": "python",
   "pygments_lexer": "ipython3",
   "version": "3.7.6"
  }
 },
 "nbformat": 4,
 "nbformat_minor": 4
}
