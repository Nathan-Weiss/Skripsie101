{
 "cells": [
  {
   "cell_type": "code",
   "execution_count": 1,
   "metadata": {},
   "outputs": [],
   "source": [
    "# Import Optimization Libraries\n",
    "from pyomo.environ import*\n",
    "from pyomo.opt import SolverFactory\n",
    "from pyomo.opt import SolverStatus, TerminationCondition\n",
    "\n",
    "# Import General Libraries\n",
    "import sympy as sym\n",
    "import numpy as np\n",
    "from IPython.display import display \n",
    "\n",
    "# Create a Concrete Model\n",
    "model = ConcreteModel()"
   ]
  },
  {
   "cell_type": "code",
   "execution_count": 2,
   "metadata": {},
   "outputs": [],
   "source": [
    "Nodes = 100\n",
    "model.Nodes = range(0,Nodes)"
   ]
  },
  {
   "cell_type": "code",
   "execution_count": 3,
   "metadata": {},
   "outputs": [],
   "source": [
    "model.X0 = Param(initialize = 0.0) # position of fixed base\n",
    "model.Y0 = Param(initialize = 0.0)\n",
    "model.h = Param(initialize = 0.02) # time step\n",
    "\n",
    "model.Damping = Param(initialize = 0.7)  # Damping coefficient\n",
    "model.mass = Param(initialize = 1.0) # mass of the 'mass'\n",
    "\n",
    "# Initailize Position, Velocity and Acceleration\n",
    "model.x1 = Var(model.Nodes)\n",
    "model.dx1 = Var(model.Nodes)\n",
    "model.ddx1 = Var(model.Nodes)\n",
    "\n",
    "model.Force = Var(model.Nodes)\n",
    "\n",
    "# Define Contact Force\n",
    "model.CF_ext = Var(model.Nodes)\n",
    "model.CF_rtn = Var(model.Nodes)\n",
    "model.L_max = Param(initialize = 4)\n",
    "model.L_min = Param(initialize = 0)"
   ]
  },
  {
   "cell_type": "code",
   "execution_count": 4,
   "metadata": {},
   "outputs": [],
   "source": [
    "# Intergration Constraints\n",
    "def BwEuler_p(model,n): # Positions\n",
    "    if n > 1:\n",
    "        return model.x1[n] == model.x1[n-1] + model.h*model.dx1[n-1]\n",
    "    else:\n",
    "        return Constraint.Skip # Leaves out members of a set that the constraint doesn't apply to\n",
    "model.integrate_p = Constraint(model.Nodes, rule = BwEuler_p)\n",
    "\n",
    "def BwEuler_v(model,n): # Velocities\n",
    "    if n > 1:\n",
    "        return model.dx1[n] == model.dx1[n-1] + model.h*model.ddx1[n-1]\n",
    "    else:\n",
    "        return Constraint.Skip \n",
    "model.integrate_v = Constraint(model.Nodes, rule = BwEuler_v)"
   ]
  },
  {
   "cell_type": "code",
   "execution_count": 5,
   "metadata": {},
   "outputs": [
    {
     "data": {
      "text/latex": [
       "$\\displaystyle \\left[\\begin{matrix}- F - F_{ext} + F_{rtn} + 1.0 \\ddot{ x}_{1} m_{1} - \\dot{ x}_{1} b_{1}\\end{matrix}\\right]$"
      ],
      "text/plain": [
       "Matrix([[-F - F_ext + F_rtn + 1.0*\\ddot{ x}_{1}*m1 - \\dot{ x}_{1}*b1]])"
      ]
     },
     "metadata": {},
     "output_type": "display_data"
    }
   ],
   "source": [
    "X0 = sym.symbols('X0')   #starting position of the block\n",
    "m1 = sym.symbols('m1')   #mass of the block\n",
    "b1 = sym.symbols('b1')   #damping coefficient\n",
    "\n",
    "L_max = sym.symbols('L_max')  # Max stroke length\n",
    "L_min = sym.symbols('L_min')  # Min stroke length\n",
    "\n",
    "x1 = sym.symbols('x1')                #position of the block\n",
    "dx1 = sym.symbols('\\dot{\\\\ x}_{1}')    #velocity of the block\n",
    "ddx1 = sym.symbols('\\ddot{\\\\ x}_{1}')  #acceleration of the block\n",
    "\n",
    "q = sym.Matrix([x1])\n",
    "dq = sym.Matrix([dx1])\n",
    "ddq = sym.Matrix([ddx1])\n",
    "\n",
    "Xnew = X0 + x1\n",
    "\n",
    "p1 = sym.Matrix([Xnew, x1])\n",
    "[dXnew, dx1] = p1.jacobian(q)*dq\n",
    "#display(p1)             # [original position + current position ; current position]\n",
    "\n",
    "# Just checking\n",
    "dp1 = sym.Matrix([dXnew, dx1]) # --> derivative of the p1 matrix\n",
    "#display(dp1)\n",
    "\n",
    "######################################################################################################################\n",
    "######################################################################################################################\n",
    "\n",
    "#Define kinetic and potential energies for use in Lagrangian\n",
    "T = sym.Matrix([0.5*m1*(dXnew**2)])\n",
    "V = sym.Matrix([0]) \n",
    "\n",
    "# Define damping\n",
    "Damp = sym.Matrix([b1*dx1])\n",
    "#display(Damp)\n",
    "\n",
    "#Calculate terms of the Lagrangian Equation\n",
    "Lg1 = sym.zeros(1,len(q))\n",
    "for i in range(len(q)):\n",
    "    dT_ddq = sym.diff(T,dq[i]) \n",
    "    Lg1[i] = dT_ddq.jacobian(q)*dq + dT_ddq.jacobian(dq)*ddq \n",
    "\n",
    "Lg3 = T.jacobian(q)\n",
    "\n",
    "Lg4 = V.jacobian(q) \n",
    "\n",
    "#apply a horizontal force\n",
    "F = sym.symbols('F')                  #applied force parameter\n",
    "FF = sym.Matrix([[F],[0],[0]])        #force matrix\n",
    "rF = sym.Matrix([[X0 + Xnew],[0],[0]])  #distance the force acts on the block\n",
    "JF = rF.jacobian(q)\n",
    "QF = JF.transpose()*FF\n",
    "#display(QF)\n",
    "Force = QF\n",
    "\n",
    "# Complimentarity Forces\n",
    "F_ext = sym.symbols('F_ext')\n",
    "Extention = sym.Matrix([F_ext])\n",
    "F_rtn = sym.symbols('F_rtn')\n",
    "Retraction = sym.Matrix([F_rtn])\n",
    "\n",
    "#Equation of motion\n",
    "EOM = Lg1 - Lg3 + Lg4 - Damp - Force.transpose() + Retraction - Extention\n",
    "display(EOM)"
   ]
  },
  {
   "cell_type": "code",
   "execution_count": 6,
   "metadata": {},
   "outputs": [],
   "source": [
    "# Lambdify the EOM\n",
    "func_map = {'sin':sin, 'cos':cos}  \n",
    "sym_list = [X0, x1, dx1, ddx1, F, m1, b1, F_ext, F_rtn]\n",
    "\n",
    "lambEOM1 = sym.lambdify(sym_list, EOM[0], modules = [func_map])\n",
    "\n",
    "#display(lambEOM1)\n",
    "\n",
    "# Create EOM Constraints\n",
    "def EOM1(model,n): \n",
    "    # list the model versions of all quantities in the same order as sym_list\n",
    "    var_list = [model.X0, model.x1[n], model.dx1[n], model.ddx1[n], model.Force[n], model.mass, model.Damping, model.CF_ext[n], \n",
    "               model.CF_rtn[n]] \n",
    "    return lambEOM1(*var_list) == 0\n",
    "model.EOM = Constraint(model.Nodes, rule = EOM1)"
   ]
  },
  {
   "cell_type": "code",
   "execution_count": 7,
   "metadata": {},
   "outputs": [],
   "source": [
    "# Define Cost Function\n",
    "def CostFunction(model):\n",
    "    sum_force = 0\n",
    "    for n in range(1,Nodes):\n",
    "            sum_force = sum_force + model.Force[n]**2 \n",
    "    return sum_force\n",
    "\n",
    "model.Cost = Objective(rule = CostFunction)"
   ]
  },
  {
   "cell_type": "code",
   "execution_count": 8,
   "metadata": {},
   "outputs": [],
   "source": [
    "# Define Variable Bounds\n",
    "for n in range(1,Nodes):\n",
    "    model.Force[n].setlb(-40)\n",
    "    model.Force[n].setub(40)\n",
    "    model.x1[n].setlb(0)\n",
    "    model.x1[n].setub(4)\n",
    "    # Hard stops\n",
    "    model.CF_ext[n].setlb(0)\n",
    "    model.CF_ext[n].setub(1500)\n",
    "    model.CF_rtn[n].setlb(0)\n",
    "    model.CF_rtn[n].setub(1500)"
   ]
  },
  {
   "cell_type": "code",
   "execution_count": 9,
   "metadata": {},
   "outputs": [],
   "source": [
    "# Initialization of variables\n",
    "for n in range (1,Nodes):\n",
    "    model.Force[n].value = 0.01\n",
    "    model.CF_ext[n].value = 0.01\n",
    "    model.CF_rtn[n].value = 0.01\n",
    "    \n",
    "    model.x1[n].value = np.random.uniform(0,4)\n",
    "    model.dx1[n].value = 0.01\n",
    "    model.ddx1[n].value = 0.01"
   ]
  },
  {
   "cell_type": "code",
   "execution_count": 10,
   "metadata": {},
   "outputs": [],
   "source": [
    "# Set Boundary Conditions\n",
    "# Initial Conditions\n",
    "model.x1[1].fixed = True\n",
    "model.x1[1].value = 1\n",
    "\n",
    "model.dx1[1].fixed = True\n",
    "model.dx1[1].value = 0\n",
    "\n",
    "# Final Conditions\n",
    "# Nodes-1 ensures it stops at 99, if you just say Nodes jupyter throughs a tantrum\n",
    "model.x1[Nodes-1].fixed = True \n",
    "model.x1[Nodes-1].value = 3   # Stop at specified location \n",
    "\n",
    "model.dx1[Nodes-1].fixed = True\n",
    "model.dx1[Nodes-1].value = 0"
   ]
  },
  {
   "cell_type": "code",
   "execution_count": 11,
   "metadata": {},
   "outputs": [
    {
     "name": "stdout",
     "output_type": "stream",
     "text": [
      "1000\n",
      "Ipopt 3.11.1: print_level=5\n",
      "max_iter=30000\n",
      "max_cpu_time=600\n",
      "Tol=1e-06\n",
      "\n",
      "\n",
      "******************************************************************************\n",
      "This program contains Ipopt, a library for large-scale nonlinear optimization.\n",
      " Ipopt is released as open source code under the Eclipse Public License (EPL).\n",
      "         For more information visit http://projects.coin-or.org/Ipopt\n",
      "******************************************************************************\n",
      "\n",
      "NOTE: You are using Ipopt by default with the MUMPS linear solver.\n",
      "      Other linear solvers might be more efficient (see Ipopt documentation).\n",
      "\n",
      "\n",
      "This is Ipopt version 3.11.1, running with linear solver mumps.\n",
      "\n",
      "Number of nonzeros in equality constraint Jacobian...:     1081\n",
      "Number of nonzeros in inequality constraint Jacobian.:      400\n",
      "Number of nonzeros in Lagrangian Hessian.............:      101\n",
      "\n",
      "Total number of variables............................:      596\n",
      "                     variables with only lower bounds:        0\n",
      "                variables with lower and upper bounds:      394\n",
      "                     variables with only upper bounds:        0\n",
      "Total number of equality constraints.................:      296\n",
      "Total number of inequality constraints...............:      200\n",
      "        inequality constraints with only lower bounds:        0\n",
      "   inequality constraints with lower and upper bounds:        0\n",
      "        inequality constraints with only upper bounds:      200\n",
      "\n",
      "iter    objective    inf_pr   inf_du lg(mu)  ||d||  lg(rg) alpha_du alpha_pr  ls\n",
      "   0 9.9000000e-003 3.43e+000 9.99e-001  -1.0 0.00e+000    -  0.00e+000 0.00e+000   0\n",
      "   1 9.2420726e-003 3.41e+000 2.09e+000  -1.0 3.30e+000   2.0 9.18e-003 6.32e-003h  1\n",
      "   2 2.8277175e-001 3.27e+000 6.81e+000  -1.0 3.37e+000   1.5 1.44e-002 4.29e-002h  1\n",
      "   3 1.0065979e+002 7.55e-016 3.63e+001  -1.0 3.27e+000   1.0 7.22e-002 1.00e+000h  1\n",
      "   4 6.3445694e+001 8.88e-016 1.38e+000  -1.0 3.73e-001   0.6 9.83e-001 1.00e+000f  1\n",
      "   5 2.0642975e+001 6.80e-016 9.30e-001  -1.0 7.53e-001   0.1 9.94e-001 1.00e+000f  1\n",
      "   6 1.8829060e+000 4.72e-016 3.53e-001  -1.7 8.58e-001  -0.4 9.61e-001 1.00e+000f  1\n",
      "   7 3.5152715e-002 8.88e-016 5.79e-002  -1.7 4.22e-001  -0.9 1.00e+000 1.00e+000f  1\n",
      "   8 2.1590986e-004 8.88e-016 4.13e-003  -2.5 9.03e-002  -1.3 1.00e+000 1.00e+000h  1\n",
      "   9 6.6636504e-007 8.88e-016 2.51e-004  -3.8 1.65e-002  -1.8 1.00e+000 1.00e+000h  1\n",
      "iter    objective    inf_pr   inf_du lg(mu)  ||d||  lg(rg) alpha_du alpha_pr  ls\n",
      "  10 2.2486877e-010 8.88e-016 5.18e-006  -5.7 1.02e-003  -2.3 1.00e+000 1.00e+000h  1\n",
      "  11 4.8653218e-013 8.88e-016 3.20e-007  -7.0 1.89e-004  -2.8 1.00e+000 1.00e+000h  1\n",
      "\n",
      "Number of Iterations....: 11\n",
      "\n",
      "                                   (scaled)                 (unscaled)\n",
      "Objective...............:  4.8653217709241555e-013   4.8653217709241555e-013\n",
      "Dual infeasibility......:  3.2015111780063650e-007   3.2015111780063650e-007\n",
      "Constraint violation....:  8.8817841970012523e-016   8.8817841970012523e-016\n",
      "Complementarity.........:  9.0910537144908359e-008   9.0910537144908359e-008\n",
      "Overall NLP error.......:  3.2015111780063650e-007   3.2015111780063650e-007\n",
      "\n",
      "\n",
      "Number of objective function evaluations             = 12\n",
      "Number of objective gradient evaluations             = 12\n",
      "Number of equality constraint evaluations            = 12\n",
      "Number of inequality constraint evaluations          = 12\n",
      "Number of equality constraint Jacobian evaluations   = 12\n",
      "Number of inequality constraint Jacobian evaluations = 12\n",
      "Number of Lagrangian Hessian evaluations             = 11\n",
      "Total CPU secs in IPOPT (w/o function evaluations)   =      0.123\n",
      "Total CPU secs in NLP function evaluations           =      0.001\n",
      "\n",
      "EXIT: Optimal Solution Found.\n",
      "100.0\n",
      "WARNING: Implicitly replacing the Component attribute extension_contact\n",
      "    (type=<class 'pyomo.core.base.constraint.IndexedConstraint'>) on block\n",
      "    unknown with a new Component (type=<class\n",
      "    'pyomo.core.base.constraint.IndexedConstraint'>). This is usually\n",
      "    indicative of a modelling error. To avoid this warning, use\n",
      "    block.del_component() and block.add_component().\n"
     ]
    },
    {
     "ename": "RuntimeError",
     "evalue": "Cannot add component 'extension_contact_index' (type <class 'pyomo.core.base.sets.SimpleSet'>) to block 'unknown': a component by that name (type <class 'pyomo.core.base.sets.SimpleSet'>) is already defined.",
     "output_type": "error",
     "traceback": [
      "\u001b[1;31m---------------------------------------------------------------------------\u001b[0m",
      "\u001b[1;31mRuntimeError\u001b[0m                              Traceback (most recent call last)",
      "\u001b[1;32m<ipython-input-11-aee11e09a076>\u001b[0m in \u001b[0;36m<module>\u001b[1;34m\u001b[0m\n\u001b[0;32m     13\u001b[0m             \u001b[1;32melse\u001b[0m\u001b[1;33m:\u001b[0m\u001b[1;33m\u001b[0m\u001b[1;33m\u001b[0m\u001b[0m\n\u001b[0;32m     14\u001b[0m                 \u001b[1;32mreturn\u001b[0m \u001b[0mConstraint\u001b[0m\u001b[1;33m.\u001b[0m\u001b[0mSkip\u001b[0m\u001b[1;33m\u001b[0m\u001b[1;33m\u001b[0m\u001b[0m\n\u001b[1;32m---> 15\u001b[1;33m     \u001b[0mmodel\u001b[0m\u001b[1;33m.\u001b[0m\u001b[0mextension_contact\u001b[0m \u001b[1;33m=\u001b[0m \u001b[0mConstraint\u001b[0m\u001b[1;33m(\u001b[0m\u001b[0mmodel\u001b[0m\u001b[1;33m.\u001b[0m\u001b[0mNodes\u001b[0m\u001b[1;33m,\u001b[0m \u001b[0mrule\u001b[0m \u001b[1;33m=\u001b[0m \u001b[0mextension_contact\u001b[0m\u001b[1;33m)\u001b[0m\u001b[1;33m\u001b[0m\u001b[1;33m\u001b[0m\u001b[0m\n\u001b[0m\u001b[0;32m     16\u001b[0m \u001b[1;33m\u001b[0m\u001b[0m\n\u001b[0;32m     17\u001b[0m   \u001b[1;31m#  def extension_contact(model,n):\u001b[0m\u001b[1;33m\u001b[0m\u001b[1;33m\u001b[0m\u001b[1;33m\u001b[0m\u001b[0m\n",
      "\u001b[1;32m~\\anaconda3\\lib\\site-packages\\pyomo\\core\\base\\block.py\u001b[0m in \u001b[0;36m__setattr__\u001b[1;34m(self, name, val)\u001b[0m\n\u001b[0;32m    606\u001b[0m                        type(val)))\n\u001b[0;32m    607\u001b[0m                 \u001b[0mself\u001b[0m\u001b[1;33m.\u001b[0m\u001b[0mdel_component\u001b[0m\u001b[1;33m(\u001b[0m\u001b[0mname\u001b[0m\u001b[1;33m)\u001b[0m\u001b[1;33m\u001b[0m\u001b[1;33m\u001b[0m\u001b[0m\n\u001b[1;32m--> 608\u001b[1;33m                 \u001b[0mself\u001b[0m\u001b[1;33m.\u001b[0m\u001b[0madd_component\u001b[0m\u001b[1;33m(\u001b[0m\u001b[0mname\u001b[0m\u001b[1;33m,\u001b[0m \u001b[0mval\u001b[0m\u001b[1;33m)\u001b[0m\u001b[1;33m\u001b[0m\u001b[1;33m\u001b[0m\u001b[0m\n\u001b[0m\u001b[0;32m    609\u001b[0m             \u001b[1;32melse\u001b[0m\u001b[1;33m:\u001b[0m\u001b[1;33m\u001b[0m\u001b[1;33m\u001b[0m\u001b[0m\n\u001b[0;32m    610\u001b[0m                 \u001b[1;31m#\u001b[0m\u001b[1;33m\u001b[0m\u001b[1;33m\u001b[0m\u001b[1;33m\u001b[0m\u001b[0m\n",
      "\u001b[1;32m~\\anaconda3\\lib\\site-packages\\pyomo\\core\\base\\block.py\u001b[0m in \u001b[0;36madd_component\u001b[1;34m(self, name, val)\u001b[0m\n\u001b[0;32m   1029\u001b[0m         \u001b[1;31m#\u001b[0m\u001b[1;33m\u001b[0m\u001b[1;33m\u001b[0m\u001b[1;33m\u001b[0m\u001b[0m\n\u001b[0;32m   1030\u001b[0m         \u001b[1;32mif\u001b[0m \u001b[0mhasattr\u001b[0m\u001b[1;33m(\u001b[0m\u001b[0mval\u001b[0m\u001b[1;33m,\u001b[0m \u001b[1;34m'_index'\u001b[0m\u001b[1;33m)\u001b[0m\u001b[1;33m:\u001b[0m\u001b[1;33m\u001b[0m\u001b[1;33m\u001b[0m\u001b[0m\n\u001b[1;32m-> 1031\u001b[1;33m             \u001b[0mself\u001b[0m\u001b[1;33m.\u001b[0m\u001b[0m_add_temporary_set\u001b[0m\u001b[1;33m(\u001b[0m\u001b[0mval\u001b[0m\u001b[1;33m)\u001b[0m\u001b[1;33m\u001b[0m\u001b[1;33m\u001b[0m\u001b[0m\n\u001b[0m\u001b[0;32m   1032\u001b[0m         \u001b[1;31m#\u001b[0m\u001b[1;33m\u001b[0m\u001b[1;33m\u001b[0m\u001b[1;33m\u001b[0m\u001b[0m\n\u001b[0;32m   1033\u001b[0m         \u001b[1;31m# Add the component to the underlying Component store\u001b[0m\u001b[1;33m\u001b[0m\u001b[1;33m\u001b[0m\u001b[1;33m\u001b[0m\u001b[0m\n",
      "\u001b[1;32m~\\anaconda3\\lib\\site-packages\\pyomo\\core\\base\\block.py\u001b[0m in \u001b[0;36m_add_temporary_set\u001b[1;34m(self, val)\u001b[0m\n\u001b[0;32m    840\u001b[0m         \u001b[1;32mif\u001b[0m \u001b[0misinstance\u001b[0m\u001b[1;33m(\u001b[0m\u001b[0mval\u001b[0m\u001b[1;33m.\u001b[0m\u001b[0m_index\u001b[0m\u001b[1;33m,\u001b[0m \u001b[0m_SetDataBase\u001b[0m\u001b[1;33m)\u001b[0m \u001b[1;32mand\u001b[0m\u001b[0;31m \u001b[0m\u001b[0;31m\\\u001b[0m\u001b[1;33m\u001b[0m\u001b[1;33m\u001b[0m\u001b[0m\n\u001b[0;32m    841\u001b[0m                 \u001b[0mval\u001b[0m\u001b[1;33m.\u001b[0m\u001b[0m_index\u001b[0m\u001b[1;33m.\u001b[0m\u001b[0mparent_component\u001b[0m\u001b[1;33m(\u001b[0m\u001b[1;33m)\u001b[0m\u001b[1;33m.\u001b[0m\u001b[0mlocal_name\u001b[0m \u001b[1;33m==\u001b[0m \u001b[1;34m\"_unknown_\"\u001b[0m\u001b[1;33m:\u001b[0m\u001b[1;33m\u001b[0m\u001b[1;33m\u001b[0m\u001b[0m\n\u001b[1;32m--> 842\u001b[1;33m             \u001b[0mself\u001b[0m\u001b[1;33m.\u001b[0m\u001b[0m_construct_temporary_set\u001b[0m\u001b[1;33m(\u001b[0m\u001b[0mval\u001b[0m\u001b[1;33m.\u001b[0m\u001b[0m_index\u001b[0m\u001b[1;33m,\u001b[0m \u001b[0mval\u001b[0m\u001b[1;33m.\u001b[0m\u001b[0mlocal_name\u001b[0m \u001b[1;33m+\u001b[0m \u001b[1;34m\"_index\"\u001b[0m\u001b[1;33m)\u001b[0m\u001b[1;33m\u001b[0m\u001b[1;33m\u001b[0m\u001b[0m\n\u001b[0m\u001b[0;32m    843\u001b[0m         \u001b[1;32mif\u001b[0m \u001b[0misinstance\u001b[0m\u001b[1;33m(\u001b[0m\u001b[0mgetattr\u001b[0m\u001b[1;33m(\u001b[0m\u001b[0mval\u001b[0m\u001b[1;33m,\u001b[0m \u001b[1;34m'initialize'\u001b[0m\u001b[1;33m,\u001b[0m \u001b[1;32mNone\u001b[0m\u001b[1;33m)\u001b[0m\u001b[1;33m,\u001b[0m \u001b[0m_SetDataBase\u001b[0m\u001b[1;33m)\u001b[0m \u001b[1;32mand\u001b[0m\u001b[0;31m \u001b[0m\u001b[0;31m\\\u001b[0m\u001b[1;33m\u001b[0m\u001b[1;33m\u001b[0m\u001b[0m\n\u001b[0;32m    844\u001b[0m                 \u001b[0mval\u001b[0m\u001b[1;33m.\u001b[0m\u001b[0minitialize\u001b[0m\u001b[1;33m.\u001b[0m\u001b[0mparent_component\u001b[0m\u001b[1;33m(\u001b[0m\u001b[1;33m)\u001b[0m\u001b[1;33m.\u001b[0m\u001b[0mlocal_name\u001b[0m \u001b[1;33m==\u001b[0m \u001b[1;34m\"_unknown_\"\u001b[0m\u001b[1;33m:\u001b[0m\u001b[1;33m\u001b[0m\u001b[1;33m\u001b[0m\u001b[0m\n",
      "\u001b[1;32m~\\anaconda3\\lib\\site-packages\\pyomo\\core\\base\\block.py\u001b[0m in \u001b[0;36m_construct_temporary_set\u001b[1;34m(self, obj, name)\u001b[0m\n\u001b[0;32m    864\u001b[0m                 \u001b[1;32mreturn\u001b[0m \u001b[0mtobj\u001b[0m\u001b[1;33m\u001b[0m\u001b[1;33m\u001b[0m\u001b[0m\n\u001b[0;32m    865\u001b[0m         \u001b[1;32melif\u001b[0m \u001b[0misinstance\u001b[0m\u001b[1;33m(\u001b[0m\u001b[0mobj\u001b[0m\u001b[1;33m,\u001b[0m \u001b[0mSet\u001b[0m\u001b[1;33m)\u001b[0m\u001b[1;33m:\u001b[0m\u001b[1;33m\u001b[0m\u001b[1;33m\u001b[0m\u001b[0m\n\u001b[1;32m--> 866\u001b[1;33m             \u001b[0mself\u001b[0m\u001b[1;33m.\u001b[0m\u001b[0madd_component\u001b[0m\u001b[1;33m(\u001b[0m\u001b[0mname\u001b[0m\u001b[1;33m,\u001b[0m \u001b[0mobj\u001b[0m\u001b[1;33m)\u001b[0m\u001b[1;33m\u001b[0m\u001b[1;33m\u001b[0m\u001b[0m\n\u001b[0m\u001b[0;32m    867\u001b[0m             \u001b[1;32mreturn\u001b[0m \u001b[0mobj\u001b[0m\u001b[1;33m\u001b[0m\u001b[1;33m\u001b[0m\u001b[0m\n\u001b[0;32m    868\u001b[0m         \u001b[1;32mraise\u001b[0m \u001b[0mException\u001b[0m\u001b[1;33m(\u001b[0m\u001b[1;34m\"BOGUS\"\u001b[0m\u001b[1;33m)\u001b[0m\u001b[1;33m\u001b[0m\u001b[1;33m\u001b[0m\u001b[0m\n",
      "\u001b[1;32m~\\anaconda3\\lib\\site-packages\\pyomo\\core\\base\\block.py\u001b[0m in \u001b[0;36madd_component\u001b[1;34m(self, name, val)\u001b[0m\n\u001b[0;32m    971\u001b[0m                 \u001b[1;34m\"Cannot add component '%s' (type %s) to block '%s': a \"\u001b[0m\u001b[1;33m\u001b[0m\u001b[1;33m\u001b[0m\u001b[0m\n\u001b[0;32m    972\u001b[0m                 \u001b[1;34m\"component by that name (type %s) is already defined.\"\u001b[0m\u001b[1;33m\u001b[0m\u001b[1;33m\u001b[0m\u001b[0m\n\u001b[1;32m--> 973\u001b[1;33m                 % (name, type(val), self.name, type(getattr(self, name))))\n\u001b[0m\u001b[0;32m    974\u001b[0m         \u001b[1;31m#\u001b[0m\u001b[1;33m\u001b[0m\u001b[1;33m\u001b[0m\u001b[1;33m\u001b[0m\u001b[0m\n\u001b[0;32m    975\u001b[0m         \u001b[1;31m# Skip the add_component() logic if this is a\u001b[0m\u001b[1;33m\u001b[0m\u001b[1;33m\u001b[0m\u001b[1;33m\u001b[0m\u001b[0m\n",
      "\u001b[1;31mRuntimeError\u001b[0m: Cannot add component 'extension_contact_index' (type <class 'pyomo.core.base.sets.SimpleSet'>) to block 'unknown': a component by that name (type <class 'pyomo.core.base.sets.SimpleSet'>) is already defined."
     ]
    }
   ],
   "source": [
    "# Start the Solver\n",
    "eps = 1000\n",
    "#model.Nodes = range(1,Nodes)\n",
    "for i in range (0,8):\n",
    "    print(eps)\n",
    "    \n",
    "    def extension_contact(model,n):\n",
    "        for n in range(1, Nodes):\n",
    "            alpha_ext = model.L_max - model.x1[n-1]\n",
    "            beta_ext = model.CF_ext[n]\n",
    "            if n < Nodes:\n",
    "                return alpha_ext*beta_ext <= eps\n",
    "            else:\n",
    "                return Constraint.Skip\n",
    "    model.extension_contact = Constraint(model.Nodes, rule = extension_contact)\n",
    "        \n",
    "  #  def extension_contact(model,n):\n",
    "  #      alpha_ext = model.L_max - model.x1[n]\n",
    "  #      beta_ext = model.CF_ext[n]\n",
    "  #      return alpha_ext*beta_ext <= eps\n",
    "  #  model.extension_contact = Constraint(model.Nodes, rule = extension_contact)\n",
    "    \n",
    "    def retraction_contact(model,n):\n",
    "        for n in range(1,Nodes):\n",
    "            alpha_rtn = model.x1[n-1] - model.L_min\n",
    "            beta_rtn = model.CF_rtn[n]\n",
    "            if n < Nodes:\n",
    "                return alpha_rtn*beta_rtn <= eps\n",
    "            else:\n",
    "                return Constraint.Skip\n",
    "    model.retraction_contact = Constraint(model.Nodes, rule = retraction_contact) \n",
    "    \n",
    "   # def retraction_contact(model,n):\n",
    "   #     alpha_rtn = model.x1[n] - model.L_min\n",
    "   #     beta_rtn = model.CF_rtn[n]\n",
    "   #     return alpha_rtn*beta_rtn <= eps\n",
    "   # model.retraction_contact = Constraint(model.Nodes, rule = retraction_contact)\n",
    "        \n",
    "    optimize = SolverFactory('ipopt')\n",
    "\n",
    "    optimize.options[\"print_level\"] = 5\n",
    "    optimize.options[\"max_iter\"] = 30000\n",
    "    optimize.options[\"max_cpu_time\"] = 600\n",
    "    optimize.options[\"Tol\"] = 1e-6\n",
    "\n",
    "    results = optimize.solve(model, tee = True) \n",
    "    eps = eps/10"
   ]
  },
  {
   "cell_type": "code",
   "execution_count": 12,
   "metadata": {},
   "outputs": [
    {
     "name": "stdout",
     "output_type": "stream",
     "text": [
      "ok\n",
      "optimal\n"
     ]
    }
   ],
   "source": [
    "# Some debugging stuff\n",
    "print(results.solver.status) # tells you if the solver had any errors/ warnings\n",
    "print(results.solver.termination_condition) # tells you if the solution was (locally) optimal, feasible, or neither.\n",
    "#model.pprint()"
   ]
  },
  {
   "cell_type": "code",
   "execution_count": 13,
   "metadata": {},
   "outputs": [
    {
     "data": {
      "text/html": [
       "<video width=\"432\" height=\"288\" controls autoplay loop>\n",
       "  <source type=\"video/mp4\" src=\"data:video/mp4;base64,AAAAHGZ0eXBNNFYgAAACAGlzb21pc28yYXZjMQAAAAhmcmVlAAAaPW1kYXQAAAKuBgX//6rcRem9\n",
       "5tlIt5Ys2CDZI+7veDI2NCAtIGNvcmUgMTU4IHIyOTg0IDM3NTlmY2IgLSBILjI2NC9NUEVHLTQg\n",
       "QVZDIGNvZGVjIC0gQ29weWxlZnQgMjAwMy0yMDE5IC0gaHR0cDovL3d3dy52aWRlb2xhbi5vcmcv\n",
       "eDI2NC5odG1sIC0gb3B0aW9uczogY2FiYWM9MSByZWY9MyBkZWJsb2NrPTE6MDowIGFuYWx5c2U9\n",
       "MHgzOjB4MTEzIG1lPWhleCBzdWJtZT03IHBzeT0xIHBzeV9yZD0xLjAwOjAuMDAgbWl4ZWRfcmVm\n",
       "PTEgbWVfcmFuZ2U9MTYgY2hyb21hX21lPTEgdHJlbGxpcz0xIDh4OGRjdD0xIGNxbT0wIGRlYWR6\n",
       "b25lPTIxLDExIGZhc3RfcHNraXA9MSBjaHJvbWFfcXBfb2Zmc2V0PS0yIHRocmVhZHM9NiBsb29r\n",
       "YWhlYWRfdGhyZWFkcz0xIHNsaWNlZF90aHJlYWRzPTAgbnI9MCBkZWNpbWF0ZT0xIGludGVybGFj\n",
       "ZWQ9MCBibHVyYXlfY29tcGF0PTAgY29uc3RyYWluZWRfaW50cmE9MCBiZnJhbWVzPTMgYl9weXJh\n",
       "bWlkPTIgYl9hZGFwdD0xIGJfYmlhcz0wIGRpcmVjdD0xIHdlaWdodGI9MSBvcGVuX2dvcD0wIHdl\n",
       "aWdodHA9MiBrZXlpbnQ9MjUwIGtleWludF9taW49MjAgc2NlbmVjdXQ9NDAgaW50cmFfcmVmcmVz\n",
       "aD0wIHJjX2xvb2thaGVhZD00MCByYz1jcmYgbWJ0cmVlPTEgY3JmPTIzLjAgcWNvbXA9MC42MCBx\n",
       "cG1pbj0wIHFwbWF4PTY5IHFwc3RlcD00IGlwX3JhdGlvPTEuNDAgYXE9MToxLjAwAIAAAAs7ZYiE\n",
       "ADv//vdOvwKbRZdqA5JXCvbKpCZZuVJrAfKmAAADAAARsIY/zxd2GYDzCcM1vQjm+x3K3c/KgECT\n",
       "PDTVXpFdmrnlHIUf5TwvriFJsvGvW8Dg40xVhV4kbpsAAAnA+SrEWBuvpwnbyHCt+NHOYvaRCLJI\n",
       "tH5FywhwGf9/5NPABcaX1jyJcn2VKPe5lpe93mykwUbHu6b1laurNNXYMaGyAQwvVOL9ugzENBZA\n",
       "hMK10yw7G9anzN2egcWDS2zd7HJLwBI6nm6wLuFzBzwbi+iFP5U7s4ZXV/xaHdHunqM9X6E4W9fz\n",
       "HkevdbNyMhWTPqSNtXNzRYtu6MiZBqZCsLZBCRc2pXfsLR+beygEBth3jtrxtu2vOEyUW8C3VnCM\n",
       "/ArhR/xZkIZgOb3cNLfzBaiB0dsKNId6Ko5kXJxEmaEm4gI2wzEmPc5RQccyjcvfNpFrtzr/lRVS\n",
       "FCCBP6NKouSiJqfzO4IIBsbpuMXbD1qPqicl2VkbQs8DWngTiAlEImOvQSv+KV7kHdXc2HDj0faF\n",
       "+rjMdA8pQZ9Ikh2yyLvcgRm50qOJqZc83WBMRERacCgqW29J7b68AbIQUcdHwG8P9wv6HzB4mJ5f\n",
       "RMdYOhsq7NJL369PtFP9eVGpnhpqMNEXw/zybGs7VXf/gkFN2+XLHZ3Jf21n7494Cu0Oorg5lTNN\n",
       "fCOSdw2WCSaTqIwNqgatjEjmuZ2GqDSbCeO7pDQZ6BTu97EA8jFLlTEdIwwZ260d0qdPXGsZGE1n\n",
       "hmGclc6SdfjL/+pPql0A8hnp8YQK2eBDAUF9SqQjDLxH3ris2w6n/Jh60kLWq5gtLj6y7+1kx24x\n",
       "wMi0twLQ4IlZq5tLeiSK9HoSspcpE9wS0OpcnNiyose59y2WSk0f/+9P0XzZl7oiSVpADZ10UWxp\n",
       "7vSz/5Cm/7V47VDeOgQydW/vIz/pjm1trhGoeBk/1A65iTq396dtfsnMlAM8RqAgEMnVv7yMeyPm\n",
       "d074v1bAlvoLbVo4Fd6c+g99bRtCpvIZIvo4nGt7X+1PocoDEqfj2aZ5YAT1wfQchFXE5TsaOG15\n",
       "YR8tR0qF9PgA4QnQ30SnzsgI9GBsFcfENa3K1WnQ2HAsojuEplVzuyIdauVJpSwGYKItQViCh3ly\n",
       "VinKHgcRp85SZMphYAf5J05EnRo1VUjgNhpoQBJcTB/imAswB9UazL0/grM/y7U+hls1l1yAXh32\n",
       "QoWIJEYMtN7BVvVSi/IgHf5nmbF6izUz4uHJr/5obIIzGNtOfKqdUvBaUHGTA8mBxamO5kniFZ2N\n",
       "k4JnGvso/Ie4Hl8vEaPZ1sS5uAl/fQp2UukC/MK5sdwYa38W5DyY87rLfYTcPdiOJzpLq/50R+Oj\n",
       "cnyZdkinUcrkefK20cdC8ntYNFiOLxALDnQBn/0rFoe4OXj2eeKnUNApm1yR7QArMVnXaodBOpze\n",
       "uE6scsySeK60D+3Eg/exVA53Oto0yYV2CtT6NZmEy6LhY00I5TcDJYR5IkOZx+jW8wYK7h5U8mzv\n",
       "8W3AvU+4brU+t6Q4tbwXBVgy5Re1cNN3j/4GHjE/hGd+l9dUkLcWCNV0KNKoJq1X5xWCCbqYLKME\n",
       "8b239ekD0zaziHispHisITHCwmh4kZ1f64rUAeksoUzCuvnSQClLxQJRB/U+4ffh9UxzaIzqrIr5\n",
       "uKLJOVTKPIUHYj5mAhzIjp8oIemYazv4ffKOMdA4oCJcC11pof7xqw3L6YxhtDcG6TEHEntTXcBU\n",
       "Er5A4zAuTAsgCzGR2WTQu8f4/Qf4InIfatUKMabJVLp30mqEi57TLAp0oKMwEO/A5Q8uCDsgvW7v\n",
       "jcscd79flg0+vJHmnT20pXvC6yg3iY0Bf3+/BP8lFc/3NvzE3pl4GThn+ggVG9V0N6hfvjtaPmxi\n",
       "87cLj4W4LQ3LpHXjeu7iTfxNt/AFw6U5QO9MChc2+/1jMf0VggIoIN6qs7y0dBRQvdZtCbGCKADU\n",
       "VW9jW6Hn0XFVdcPo/ym6vhOdk64EzUbSWrpsWE9Dc1xNif5Q329o7VJOieYAQyLe6dV/EAz7pIe9\n",
       "EACQuyI2Ke3eSQCeK/vNNf+N9PqnX5pmVjT+GtUZKEnPGwOfmzPTsFM7dmjWK/t5DRQzXacy+pRj\n",
       "aa7Q0endT2AMOtJoqPIBm2dR1WwAgInswG1a8qbMV2Dw+P4YrDu4rI3YYrEDOfHYawjdO+qu6nHj\n",
       "cd6o4hKkWrLPC/iwKipYvTKu5FxnV4TQMSV+j5TX82++hrujD35qcMPc06R+xPGjQe4btH6jcCf+\n",
       "8Xzo2sJ2g3yfHJKDtR+xOkjUkTbGpg6wd3Uihjq5wLtlqUTvRwBbR/bQm8AAtMGeQ3iQsl85JdpC\n",
       "XizQb19Du7OgmhkKCaUreHaugOYgCmk769W/96QTUqi00gKEMruUZRjnEcUt1sN+ExhngNEZeqQq\n",
       "uiXWxQmv1o3FM60LxpK1vQP5WQ8B1AxMYEzS///dAKh7BD0ifNT1/iQePv7StTLqA4m6/WKwU6Mx\n",
       "dvMGjqKettNMU+6uRvtu4lffLz8aX4ZaSPrM7zGR4OhmFASoYItxq2DHkOo04CvnoVXP5S+4EfR2\n",
       "2RN/gDzV/3++NL6wAAJY7WnQPTwQLeImR3TP1J/LRHzd59H7UiGu+LCS0c5atag4JdNpeSW5G/I8\n",
       "EIyd9SFZbg7T374Guo0zKd30AaqJNYO9Yi+jrGoY5t3ujlwBoLPdEpxZsp3kXqA//pYahc0xZXnN\n",
       "BZaGe7zEvc7ssNismfog+HBe/1qyaNdMwttPqDWdXu5yCpUxwWn9yEWsf++AUS1tc23t0QobMY4g\n",
       "7u9I/TWCYMcwlskdBYJI/xJCUq1oCRTN32xsPOiYXl1DzxyxFBUNOrlRATlm9QGJo/Pf9cFBjL97\n",
       "Hc1tjBY7Q3LrBoKaJkLNMhbMPQHZUVGrniFqlX251Qd3jYP7kyxudHMyxjUrK2LbFuf9OCvK6wAv\n",
       "lDBS7cbNrFuEk7Rx7Gv3NAi8G1BucppwpxrQ1/fqrJMhC488bJ7cm/8TMOYV/dIuCv2BRRdGnuw9\n",
       "p29xlbojxD5XXg9CfNJr0eD/ckkO+V0MBzC6eM+RYqfUCp0VmfloBNyaDbeM+RZDCIrR9SqtRmz/\n",
       "rfZmEAlZxc8MO6bEDecvhtFuxF3/4kLtsr+s9n/W+zMIBLMDHAKmbueTax5AJqt6SEY4AklDzHAy\n",
       "LWwD8SiGQVuEMs5JuX1u7kys9bTQ2WYV7BXNt4v/+lPu0YE0+GpCFMgpqeJZM16L6BEyqvVj55Ej\n",
       "cmDSIOIuBUYmQJJXAdSiyxHet2Ymj9WzCyRp2igxLQcWFosY+1ctc556q5pJu/L+qev//L/21Z6Z\n",
       "YTuF8O1ibpNGVnei6GuhubTsqzB8hRklJ17vR8GzRhrOhyDIr5lgOlBBDNncRdyY4KxEMMifd3Iy\n",
       "dGMnwqNJTTJQy2+jxJRg9LV7C8bFzOtFND1QdTAZ716ybbOcoQNAVRCMgh3GIHGqsQLOltIFRuqH\n",
       "6pgIPjEg0XaW/zc1ylFBzOG/5VlCUb+h4ycdos9/C1DvHzpYcfVN+P0EvztFCzQQuMR+pu8oERrA\n",
       "bVUmQNvgKXe9AKmuf86X+zH7kDws2+kkstuYtI2EoNWpgpn9x4ueDVE+JkEvjLKp7iWBWozBqFNs\n",
       "dcFaLmA70hPjdAuB+PAwqqaUJ6OryrQHriMiKy/FMuXu6p2lmj1ROYLk/6picBqq/cAmePvXiC3l\n",
       "KVIH14RrNqlG7e2r/2qn9cnVJIBnY7h3TVhPIhqbuqBq3dGvvxwJ58vGhpQwJ6BMEnZUsrjY00zR\n",
       "WeiTo4zwTmxnRhJo4ACC1IACdgBVQQAAASpBmiRsQ7/+qZYB1dtAvf5eDbUPQBsRIobUi+Qgwnr/\n",
       "zGTnTSnuczmALsTeV3/kHsD2XGSv5T2Unc13Qdwpzce+FUPjVSMoN7kx/7reXglWdo1fgwfHqwZY\n",
       "4slxk8kyiGXKD3JAwG/r+S6DC4EG2p4YhNYdtqpahpPsElk3xzxiXNlqgENvK/W2gm8kgEakTSqU\n",
       "ci/3tmBCVIBPRSgSLd6q7iw3luxBeo/a3VHWVwp2Fqa20LZCS10gNIC+u4/4/CDOwdStNoEsdbmk\n",
       "H/ycP9Gp8Rn5xo71SGwwb7YaUsUMbhmFwV0NhWASsvo+jI+y0AjXu3jJWwVQg2XpnTfq9+ZSJZGC\n",
       "mbUJ22RGIU3TTwYcc1n3FVtQgz+z2itqj9CheyRRj6Ex++vNgSWAAAAAPkGeQniGfwD0Np9Iny7p\n",
       "b+D2IATEAzF5Wk0alUvUOaQV0vQbhlVHwVwgBZMvZTgqqz+sledof4fnwtBd2SxZAAAAOwGeYXRC\n",
       "vwHF31aFKJmvAAyiAAADAOxeJVKpepnQhZjHG1173K6EALJpiH2ipyPv5vpzYxSWZ3Ig8xBwAAAA\n",
       "KwGeY2pCvwDyskrEc2mO31iq3+9GAFpQJ4/LR/b+XBvetMVA+2SJHJigkZEAAABJQZpoSahBaJlM\n",
       "CG///qeEASxQPP4MiQvYyoXgD/vxvuI9qTpNXhVMPNE43VMftF0E/pdyG1BI7QXuB2rKEogbzjEZ\n",
       "X6k/9ZNfgQAAAC1BnoZFESwz/wCCxU/sNsYNjZJbslV8DgIAV9huDDc+aZFJAPOn7wDOqy9VbMEA\n",
       "AAAlAZ6ldEK/APJvq7oufc+15rQcgAC09yJnnv4DDwq2dpyEZXfP4QAAACABnqdqQr8AF0r/9zQh\n",
       "NciwgBY+1k4d2RnIV55Tu/lRpgAAADtBmqpJqEFsmUwUTDf//qeEASQe8qdqgtsX+hAFBtOggnni\n",
       "xrrdEsr5mxno33A+GUyi33LA1k1GM394wAAAAB8BnslqQr8AF05M7+iITXIsIAWPtZOHdkY+9YDX\n",
       "obiBAAAALkGazEnhClJlMFLDf/6nhAAF0Z7HOAMqQS5HUX/4C6EnL3PKipFmld956/nwXSAAAAAY\n",
       "AZ7rakK/AAS2R7xE8ISxFeJStNUhTbT/AAAAJkGa7UnhDomUwIb//qeEAAXRntq30O+lsmvZJc7U\n",
       "6pRyJ+3gP93RAAAAKEGbDknhDyZTAhv//qeEAAXRnsc4BEXJui7NJ+4Icq+RScmtYy4qk5cAAAAa\n",
       "QZsvSeEPJlMCHf/+qZYAAu7GkMEAb1ckFTEAAAAcQZtQSeEPJlMCHf/+qZYAAu7Gj2QBUIz9BKQV\n",
       "MAAAAB5Bm3FJ4Q8mUwIf//6plgAC7saRGQBxBv/WTE9iqpgAAABFQZuVSeEPJlMCH//+qZYAAu7G\n",
       "lgkA1Lfnty4qkMHcZWOo2PksaNAg2dHvR9ZMuT+0yYesXsdAH3jDS+YsaBLuTsb8FouBAAAAEUGf\n",
       "s0URPDP/AAKOoKvLlky4AAAADgGf0nRCvwAEtc7WMhZwAAAADgGf1GpCvwAElz9E8KCBAAAAGEGb\n",
       "2UmoQWiZTAh///6plgAC3AhGwoeMCAAAABBBn/dFESwz/wACfIMtDzZhAAAADgGeFnRCvwAElapc\n",
       "tNmBAAAADQGeGGpCvwAElfu5abMAAAAhQZodSahBbJlMCH///qmWAALedVxwUfTcCdDhJLnFmR3R\n",
       "AAAAEEGeO0UVLDP/AAJ8e1R3mzAAAAAOAZ5adEK/AASXdnwk2YEAAAAOAZ5cakK/AASV6h202YEA\n",
       "AAAtQZpBSahBbJlMCH///qmWAALcKnCCtqk7wA+YZfZ2N3DkmwSViuRShfcv6tHAAAAAFEGef0UV\n",
       "LDP/AAJ8e1Nd57ELCJ2AAAAADgGennRCvwAElapctNmBAAAAEQGegGpCvwAElkIdMQTjExtAAAAA\n",
       "G0GahUmoQWyZTAh///6plgACyqFfXlIfAGA1eQAAABJBnqNFFSwz/wACavX6i47B8JgAAAAQAZ7C\n",
       "dEK/AAR3dnwpQIdkwQAAAA0BnsRqQr8ABHX7uWm9AAAAHUGayUmoQWyZTAh3//6plgACyaOZ4hi0\n",
       "EIfll0WVAAAAEEGe50UVLDP/AAJrY+OM6kkAAAAOAZ8GdEK/AAR3dnwk3oAAAAANAZ8IakK/AAR1\n",
       "+7lpvQAAAD5Bmw1JqEFsmUwId//+qZYAAs3x68JqgAnU8Q/dZoZm0VTAbX5pOpXX7BBXoEOUz0uY\n",
       "4wPKAKDJwG266f4i4QAAABJBnytFFSwz/wACaxJU2rBk1YAAAAAPAZ9KdEK/AAR3dnXfxC8gAAAA\n",
       "DgGfTGpCvwAEUzt4ck45AAAAGUGbT0moQWyZTBRMO//+qZYAAriiOunDRqUAAAAOAZ9uakK/AART\n",
       "+bf3TjkAAAAyQZtzSeEKUmUwIb/+p4QABWt/NgyLofABdVppjTGXgYKda9dahtO6oNCbfJ0ckRe9\n",
       "otoAAAAgQZ+RRTRMM/8AAlt1EcALcK8vz0rm4ziU5y8ExSCA6LgAAAAUAZ+wdEK/AARZ4iAFs6Ek\n",
       "oPOYVMEAAAATAZ+yakK/AARZ4iAFu8f9ltYVMAAAACtBm7RJqEFomUwIb//+p4QABWt/NgyLofAP\n",
       "n3lMAsAnm0lC38Nf7kpaGOOOAAAAG0Gb1UnhClJlMCG//qeEAAU/JhvgDK/g99uB7QAAABlBm/ZJ\n",
       "4Q6JlMCG//6nhAAFRPLJB1QufEfAAAAAGkGaF0nhDyZTAhv//qeEAAVE8slHu/U7Pl3BAAAAFkGa\n",
       "OEnhDyZTAhv//qeEAAU/JmbfDZkAAAAeQZpZSeEPJlMCG//+p4QABT8ZCx478QllaCU0zou4AAAA\n",
       "FkGaeknhDyZTAh3//qmWAAKlpylJgXcAAAAYQZqbSeEPJlMCH//+qZYAAqW/9Db5nCNmAAAAJUGa\n",
       "vknhDyZTAh///qmWAAKnrpA/exbxMOjfs8SglO6q1RPMSDkAAAARQZ7cRRE8L/8AAyPiUrVfRjUA\n",
       "AAAPAZ79akK/AAQnNIlTbEMaAAAAIUGa4kmoQWiZTAh///6plgAClKHc3jiLcHlWd/tF4uyQcAAA\n",
       "ABBBnwBFESwz/wACOvfsixnxAAAADgGfP3RCvwAEFapctO6AAAAADgGfIWpCvwAEFeodtO6BAAAA\n",
       "GEGbJkmoQWyZTAh///6plgACk7g6slQj4AAAABBBn0RFFSwz/wACOvX6ixnxAAAADQGfY3RCvwAE\n",
       "F4eJ4WUAAAAOAZ9lakK/AAQV6h207oEAAAAlQZtqSahBbJlMCH///qmWAAKUKkurZCQBIGQEzPZM\n",
       "aECnsctcQQAAABFBn4hFFSwz/wACOxVzqOejLgAAAA8Bn6d0Qr8ABBeHfr+IZcAAAAAOAZ+pakK/\n",
       "AAP4tYZOl4EAAAAYQZuuSahBbJlMCH///qmWAAKCKkuuYPGzAAAAEEGfzEUVLDP/AAIq/FG2NSAA\n",
       "AAAOAZ/rdEK/AAP420mOl4EAAAANAZ/takK/AAP32wSdLwAAAB9Bm/JJqEFsmUwIf//+qZYAAoG3\n",
       "1vIlpCA9Kx6WwjjhAAAAEEGeEEUVLDP/AAIq/FG2NSAAAAAOAZ4vdEK/AAP420mOl4AAAAANAZ4x\n",
       "akK/AAP32wSdLwAAADBBmjZJqEFsmUwId//+qZYAAoXx68JqgB0UIlZrvXGRlQcq7T3waVejDH43\n",
       "HeUFYd0AAAARQZ5URRUsM/8AAir8T/zEhXwAAAAOAZ5zdEK/AAP3p1Xk9IEAAAAPAZ51akK/AAP4\n",
       "tYFZLBXwAAAAM0GaekmoQWyZTAh3//6plgACcHE1QAsFdzodyH1wnImZCMwFM8l0KXcTritcdnrx\n",
       "W5gZUQAAABtBnphFFSwz/wACHPksAJZIVpW+ufrDYt+PnzEAAAANAZ63dEK/AAPjD80+YAAAABMB\n",
       "nrlqQr8AA+TtwAFpYGSrjC7hAAAAJEGavkmoQWyZTAhv//6nhAAE2WKoSAIaOjLYU0HH98Kn4jjK\n",
       "gAAAAA9BntxFFSwz/wACGxZbGzEAAAANAZ77dEK/AAPjD80+YQAAAAsBnv1qQr8AAAMBiwAAACJB\n",
       "muJJqEFsmUwIV//+OEAASUVK6AFs7pGAI8bm3F7ugMCAAAAAD0GfAEUVLDP/AAIbFlsbMQAAAA0B\n",
       "nz90Qr8AA+HAY6bgAAAACwGfIWpCvwAAAwGLAAAHcm1vb3YAAABsbXZoZAAAAAAAAAAAAAAAAAAA\n",
       "A+gAABNWAAEAAAEAAAAAAAAAAAAAAAABAAAAAAAAAAAAAAAAAAAAAQAAAAAAAAAAAAAAAAAAQAAA\n",
       "AAAAAAAAAAAAAAAAAAAAAAAAAAAAAAAAAAAAAAIAAAacdHJhawAAAFx0a2hkAAAAAwAAAAAAAAAA\n",
       "AAAAAQAAAAAAABNWAAAAAAAAAAAAAAAAAAAAAAABAAAAAAAAAAAAAAAAAAAAAQAAAAAAAAAAAAAA\n",
       "AAAAQAAAAAGwAAABIAAAAAAAJGVkdHMAAAAcZWxzdAAAAAAAAAABAAATVgAABAAAAQAAAAAGFG1k\n",
       "aWEAAAAgbWRoZAAAAAAAAAAAAAAAAAAAKAAAAMYAVcQAAAAAAC1oZGxyAAAAAAAAAAB2aWRlAAAA\n",
       "AAAAAAAAAAAAVmlkZW9IYW5kbGVyAAAABb9taW5mAAAAFHZtaGQAAAABAAAAAAAAAAAAAAAkZGlu\n",
       "ZgAAABxkcmVmAAAAAAAAAAEAAAAMdXJsIAAAAAEAAAV/c3RibAAAALNzdHNkAAAAAAAAAAEAAACj\n",
       "YXZjMQAAAAAAAAABAAAAAAAAAAAAAAAAAAAAAAGwASAASAAAAEgAAAAAAAAAAQAAAAAAAAAAAAAA\n",
       "AAAAAAAAAAAAAAAAAAAAAAAAAAAAABj//wAAADFhdmNDAWQAFf/hABhnZAAVrNlBsJaEAAADAAQA\n",
       "AAMAoDxYtlgBAAZo6+PLIsAAAAAcdXVpZGtoQPJfJE/FujmlG88DI/MAAAAAAAAAGHN0dHMAAAAA\n",
       "AAAAAQAAAGMAAAIAAAAAFHN0c3MAAAAAAAAAAQAAAAEAAALIY3R0cwAAAAAAAABXAAAAAQAABAAA\n",
       "AAABAAAKAAAAAAEAAAQAAAAAAQAAAAAAAAABAAACAAAAAAEAAAoAAAAAAQAABAAAAAABAAAAAAAA\n",
       "AAEAAAIAAAAAAQAABgAAAAABAAACAAAAAAEAAAYAAAAAAQAAAgAAAAAFAAAEAAAAAAEAAAoAAAAA\n",
       "AQAABAAAAAABAAAAAAAAAAEAAAIAAAAAAQAACgAAAAABAAAEAAAAAAEAAAAAAAAAAQAAAgAAAAAB\n",
       "AAAKAAAAAAEAAAQAAAAAAQAAAAAAAAABAAACAAAAAAEAAAoAAAAAAQAABAAAAAABAAAAAAAAAAEA\n",
       "AAIAAAAAAQAACgAAAAABAAAEAAAAAAEAAAAAAAAAAQAAAgAAAAABAAAKAAAAAAEAAAQAAAAAAQAA\n",
       "AAAAAAABAAACAAAAAAEAAAoAAAAAAQAABAAAAAABAAAAAAAAAAEAAAIAAAAAAQAABgAAAAABAAAC\n",
       "AAAAAAEAAAoAAAAAAQAABAAAAAABAAAAAAAAAAEAAAIAAAAACAAABAAAAAABAAAIAAAAAAIAAAIA\n",
       "AAAAAQAACgAAAAABAAAEAAAAAAEAAAAAAAAAAQAAAgAAAAABAAAKAAAAAAEAAAQAAAAAAQAAAAAA\n",
       "AAABAAACAAAAAAEAAAoAAAAAAQAABAAAAAABAAAAAAAAAAEAAAIAAAAAAQAACgAAAAABAAAEAAAA\n",
       "AAEAAAAAAAAAAQAAAgAAAAABAAAKAAAAAAEAAAQAAAAAAQAAAAAAAAABAAACAAAAAAEAAAoAAAAA\n",
       "AQAABAAAAAABAAAAAAAAAAEAAAIAAAAAAQAACgAAAAABAAAEAAAAAAEAAAAAAAAAAQAAAgAAAAAB\n",
       "AAAKAAAAAAEAAAQAAAAAAQAAAAAAAAABAAACAAAAAAEAAAoAAAAAAQAABAAAAAABAAAAAAAAAAEA\n",
       "AAIAAAAAHHN0c2MAAAAAAAAAAQAAAAEAAABjAAAAAQAAAaBzdHN6AAAAAAAAAAAAAABjAAAN8QAA\n",
       "AS4AAABCAAAAPwAAAC8AAABNAAAAMQAAACkAAAAkAAAAPwAAACMAAAAyAAAAHAAAACoAAAAsAAAA\n",
       "HgAAACAAAAAiAAAASQAAABUAAAASAAAAEgAAABwAAAAUAAAAEgAAABEAAAAlAAAAFAAAABIAAAAS\n",
       "AAAAMQAAABgAAAASAAAAFQAAAB8AAAAWAAAAFAAAABEAAAAhAAAAFAAAABIAAAARAAAAQgAAABYA\n",
       "AAATAAAAEgAAAB0AAAASAAAANgAAACQAAAAYAAAAFwAAAC8AAAAfAAAAHQAAAB4AAAAaAAAAIgAA\n",
       "ABoAAAAcAAAAKQAAABUAAAATAAAAJQAAABQAAAASAAAAEgAAABwAAAAUAAAAEQAAABIAAAApAAAA\n",
       "FQAAABMAAAASAAAAHAAAABQAAAASAAAAEQAAACMAAAAUAAAAEgAAABEAAAA0AAAAFQAAABIAAAAT\n",
       "AAAANwAAAB8AAAARAAAAFwAAACgAAAATAAAAEQAAAA8AAAAmAAAAEwAAABEAAAAPAAAAFHN0Y28A\n",
       "AAAAAAAAAQAAACwAAABidWR0YQAAAFptZXRhAAAAAAAAACFoZGxyAAAAAAAAAABtZGlyYXBwbAAA\n",
       "AAAAAAAAAAAAAC1pbHN0AAAAJal0b28AAAAdZGF0YQAAAAEAAAAATGF2ZjU4LjI5LjEwMA==\n",
       "\">\n",
       "  Your browser does not support the video tag.\n",
       "</video>"
      ],
      "text/plain": [
       "<IPython.core.display.HTML object>"
      ]
     },
     "execution_count": 13,
     "metadata": {},
     "output_type": "execute_result"
    },
    {
     "data": {
      "image/png": "[encoded data removed]",
      "text/plain": [
       "<Figure size 432x288 with 1 Axes>"
      ]
     },
     "metadata": {
      "needs_background": "light"
     },
     "output_type": "display_data"
    }
   ],
   "source": [
    "#animate model --> will be able to see what model is doing by viewing in with HTML\n",
    "import matplotlib.pyplot as plt\n",
    "import matplotlib.animation as ani\n",
    "from IPython.display import HTML\n",
    "%matplotlib inline\n",
    "\n",
    "fig1, ax1 = plt.subplots(1,1)\n",
    "def plot_block(i,model,ax): #update function for animation\n",
    "    ax.clear()\n",
    "    ax.set_xlim([-1,5])\n",
    "    ax.set_ylim([-2,2])\n",
    "    \n",
    "    #plot mass\n",
    "    m1topx = model.X0.value   #initial position of mass\n",
    "    m1bottomx = m1topx + model.x1[i].value\n",
    "    ax.plot([m1bottomx,0],[m1topx,0],color = 'xkcd:red')\n",
    "    ax.grid(True)\n",
    "    \n",
    "update = lambda i: plot_block(i,model,ax1)      #lambdify just used to calculate the numerical values fast\n",
    "\n",
    "animate = ani.FuncAnimation(fig1,update,range(1,Nodes),interval = 50, repeat = True)\n",
    "\n",
    "HTML(animate.to_html5_video())"
   ]
  },
  {
   "cell_type": "code",
   "execution_count": 14,
   "metadata": {},
   "outputs": [
    {
     "data": {
      "image/png": "[encoded data removed]",
      "text/plain": [
       "<Figure size 432x288 with 1 Axes>"
      ]
     },
     "metadata": {
      "needs_background": "light"
     },
     "output_type": "display_data"
    }
   ],
   "source": [
    "# Applied Force\n",
    "plt.axes()\n",
    "Time = 0\n",
    "for n in range(0,Nodes):\n",
    "    force = model.Force[n].value\n",
    "    time = model.h.value\n",
    "    Time += time\n",
    "    #print(Time)\n",
    "    #print(force)\n",
    "    plt.plot(Time,force,'y.')\n",
    "    plt.xlabel('Time')\n",
    "    plt.ylabel('Applied Force')\n",
    "    plt.title('Applied Force vs Time')"
   ]
  },
  {
   "cell_type": "code",
   "execution_count": 15,
   "metadata": {},
   "outputs": [
    {
     "data": {
      "image/png": "[encoded data removed]",
      "text/plain": [
       "<Figure size 432x288 with 1 Axes>"
      ]
     },
     "metadata": {
      "needs_background": "light"
     },
     "output_type": "display_data"
    }
   ],
   "source": [
    "# Extension Constraint Force\n",
    "plt.axes()\n",
    "Time = 0\n",
    "for n in range(0,Nodes):\n",
    "    ext_force = model.CF_ext[n].value\n",
    "    time = model.h.value\n",
    "    Time += time\n",
    "    \n",
    "    plt.plot(Time,ext_force,'b.')\n",
    "    plt.xlabel('Time')\n",
    "    plt.ylabel('Extension Constraint Force')\n",
    "    plt.title('Extension Force vs Time')"
   ]
  },
  {
   "cell_type": "code",
   "execution_count": 16,
   "metadata": {},
   "outputs": [
    {
     "data": {
      "image/png": "[encoded data removed]",
      "text/plain": [
       "<Figure size 432x288 with 1 Axes>"
      ]
     },
     "metadata": {
      "needs_background": "light"
     },
     "output_type": "display_data"
    }
   ],
   "source": [
    "#Retraction Constraint Force  \n",
    "plt.axes()  \n",
    "Time = 0\n",
    "for n in range(0,Nodes):\n",
    "    rtn_force = model.CF_rtn[n].value\n",
    "    time = model.h.value\n",
    "    Time += time\n",
    "    \n",
    "    plt.plot(Time,rtn_force, 'g.')\n",
    "    plt.xlabel('Time')\n",
    "    plt.ylabel('Retraction Force')\n",
    "    plt.title('Retraction Force vs Time')"
   ]
  },
  {
   "cell_type": "code",
   "execution_count": 17,
   "metadata": {},
   "outputs": [
    {
     "data": {
      "image/png": "[encoded data removed]",
      "text/plain": [
       "<Figure size 432x288 with 1 Axes>"
      ]
     },
     "metadata": {
      "needs_background": "light"
     },
     "output_type": "display_data"
    }
   ],
   "source": [
    "# Position vs Time\n",
    "plt.axes()\n",
    "Time = 0\n",
    "for n in range(0,Nodes):\n",
    "    position = model.x1[n].value\n",
    "    time = model.h.value\n",
    "    Time += time\n",
    "    \n",
    "    plt.plot(Time,position,'k.')\n",
    "    plt.xlabel('Time')\n",
    "    plt.ylabel('Position')\n",
    "    plt.title('Positon vs Time')"
   ]
  },
  {
   "cell_type": "code",
   "execution_count": 18,
   "metadata": {},
   "outputs": [
    {
     "data": {
      "image/png": "[encoded data removed]",
      "text/plain": [
       "<Figure size 432x288 with 1 Axes>"
      ]
     },
     "metadata": {
      "needs_background": "light"
     },
     "output_type": "display_data"
    }
   ],
   "source": [
    "#Velocity vs Time\n",
    "plt.axes()\n",
    "Time = 0\n",
    "for n in range(0,Nodes):\n",
    "    velocity = model.dx1[n].value\n",
    "    time = model.h.value\n",
    "    Time += time\n",
    "    \n",
    "    plt.plot(Time,velocity,'k.')\n",
    "    plt.xlabel('Time')\n",
    "    plt.ylabel('Velocity')\n",
    "    plt.title('Velocity vs Time')"
   ]
  },
  {
   "cell_type": "code",
   "execution_count": null,
   "metadata": {},
   "outputs": [],
   "source": []
  }
 ],
 "metadata": {
  "kernelspec": {
   "display_name": "Python 3",
   "language": "python",
   "name": "python3"
  },
  "language_info": {
   "codemirror_mode": {
    "name": "ipython",
    "version": 3
   },
   "file_extension": ".py",
   "mimetype": "text/x-python",
   "name": "python",
   "nbconvert_exporter": "python",
   "pygments_lexer": "ipython3",
   "version": "3.7.6"
  }
 },
 "nbformat": 4,
 "nbformat_minor": 4
}
