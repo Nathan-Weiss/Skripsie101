{
 "cells": [
  {
   "cell_type": "markdown",
   "metadata": {},
   "source": [
    "# Trajectory Optimization of a Pneumatic Cylinder\n",
    "## Mass Modelling"
   ]
  },
  {
   "cell_type": "code",
   "execution_count": 92,
   "metadata": {},
   "outputs": [],
   "source": [
    "# Import Optimization Libraries\n",
    "from pyomo.environ import*\n",
    "from pyomo.opt import SolverFactory\n",
    "from pyomo.opt import SolverStatus, TerminationCondition\n",
    "\n",
    "# Import General Libraries\n",
    "import sympy as sym\n",
    "import numpy as np\n",
    "from IPython.display import display \n",
    "\n",
    "# Create a Concrete Model\n",
    "model = ConcreteModel()"
   ]
  },
  {
   "cell_type": "code",
   "execution_count": 93,
   "metadata": {},
   "outputs": [],
   "source": [
    "Nodes = 100\n",
    "model.Nodes = range(Nodes)"
   ]
  },
  {
   "cell_type": "code",
   "execution_count": 94,
   "metadata": {},
   "outputs": [],
   "source": [
    "model.X0 = Param(initialize = 0.0) # position of fixed base\n",
    "model.Y0 = Param(initialize = 0.0)\n",
    "model.h = Param(initialize = 0.02) # time step\n",
    "\n",
    "model.mass = Param(initialize = 1.0) # mass of the 'mass'\n",
    "\n",
    "# Initailize Position, Velocity and Acceleration\n",
    "model.x1 = Var(model.Nodes)\n",
    "model.dx1 = Var(model.Nodes)\n",
    "model.ddx1 = Var(model.Nodes)\n",
    "\n",
    "model.Force = Var(model.Nodes)"
   ]
  },
  {
   "cell_type": "code",
   "execution_count": 95,
   "metadata": {},
   "outputs": [],
   "source": [
    "# Intergration Constraints\n",
    "def BwEuler_p(model,n): # Positions\n",
    "    if n > 1:\n",
    "        return model.x1[n] == model.x1[n-1] + model.h*model.dx1[n-1]\n",
    "    else:\n",
    "        return Constraint.Skip # Leaves out members of a set that the constraint doesn't apply to\n",
    "model.integrate_p = Constraint(model.Nodes, rule = BwEuler_p)\n",
    "\n",
    "def BwEuler_v(model,n): # Velocities\n",
    "    if n > 1:\n",
    "        return model.dx1[n] == model.dx1[n-1] + model.h*model.ddx1[n-1]\n",
    "    else:\n",
    "        return Constraint.Skip \n",
    "model.integrate_v = Constraint(model.Nodes, rule = BwEuler_v)"
   ]
  },
  {
   "cell_type": "code",
   "execution_count": 96,
   "metadata": {},
   "outputs": [
    {
     "data": {
      "text/latex": [
       "$\\displaystyle \\left[\\begin{matrix}X_{0} + x_{1}\\\\x_{1}\\end{matrix}\\right]$"
      ],
      "text/plain": [
       "Matrix([\n",
       "[X0 + x1],\n",
       "[     x1]])"
      ]
     },
     "metadata": {},
     "output_type": "display_data"
    },
    {
     "data": {
      "text/latex": [
       "$\\displaystyle \\left[\\begin{matrix}\\dot{ x}_{1}\\\\\\dot{ x}_{1}\\end{matrix}\\right]$"
      ],
      "text/plain": [
       "Matrix([\n",
       "[\\dot{ x}_{1}],\n",
       "[\\dot{ x}_{1}]])"
      ]
     },
     "metadata": {},
     "output_type": "display_data"
    },
    {
     "data": {
      "text/latex": [
       "$\\displaystyle \\left[\\begin{matrix}- F + 1.0 \\ddot{ x}_{1} m_{1}\\end{matrix}\\right]$"
      ],
      "text/plain": [
       "Matrix([[-F + 1.0*\\ddot{ x}_{1}*m1]])"
      ]
     },
     "metadata": {},
     "output_type": "display_data"
    }
   ],
   "source": [
    "X0 = sym.symbols('X0')   #starting position of the block\n",
    "m1 = sym.symbols('m1')   #mass of the block\n",
    "\n",
    "x1 = sym.symbols('x1')                #position of the block\n",
    "dx1 = sym.symbols('\\dot{\\\\ x}_{1}')    #velocity of the block\n",
    "ddx1 = sym.symbols('\\ddot{\\\\ x}_{1}')  #acceleration of the block\n",
    "\n",
    "q = sym.Matrix([x1])\n",
    "dq = sym.Matrix([dx1])\n",
    "ddq = sym.Matrix([ddx1])\n",
    "\n",
    "Xnew = X0 + x1\n",
    "\n",
    "p1 = sym.Matrix([Xnew, x1])\n",
    "[dXnew, dx1] = p1.jacobian(q)*dq\n",
    "display(p1)             # [original position + current position ; current position]\n",
    "\n",
    "# Just checking\n",
    "dp1 = sym.Matrix([dXnew, dx1]) # --> derivative of the p1 matrix\n",
    "display(dp1)\n",
    "\n",
    "######################################################################################################################\n",
    "######################################################################################################################\n",
    "\n",
    "#Define kinetic and potential energies for use in Lagrangian\n",
    "T = sym.Matrix([0.5*m1*(dXnew**2)])\n",
    "V = sym.Matrix([0]) \n",
    "\n",
    "#Calculate terms of the Lagrangian Equation\n",
    "Lg1 = sym.zeros(1,len(q))\n",
    "for i in range(len(q)):\n",
    "    dT_ddq = sym.diff(T,dq[i]) \n",
    "    Lg1[i] = dT_ddq.jacobian(q)*dq + dT_ddq.jacobian(dq)*ddq \n",
    "\n",
    "Lg3 = T.jacobian(q)\n",
    "\n",
    "Lg4 = V.jacobian(q) \n",
    "\n",
    "#apply a horizontal force\n",
    "F = sym.symbols('F')                  #applied force parameter\n",
    "FF = sym.Matrix([[F],[0],[0]])        #force matrix\n",
    "rF = sym.Matrix([[X0 + Xnew],[0],[0]])  #distance the force acts on the block\n",
    "JF = rF.jacobian(q)\n",
    "QF = JF.transpose()*FF\n",
    "#display(QF)\n",
    "Qall = QF\n",
    "#Equation of motion\n",
    "EOM = Lg1 - Lg3 + Lg4 - Qall.transpose() \n",
    "display(EOM)"
   ]
  },
  {
   "cell_type": "code",
   "execution_count": 97,
   "metadata": {},
   "outputs": [],
   "source": [
    "# Lambdify the EOM\n",
    "func_map = {'sin':sin, 'cos':cos}  \n",
    "sym_list = [X0, x1, dx1, ddx1, F, m1]\n",
    "\n",
    "lambEOM1 = sym.lambdify(sym_list, EOM[0], modules = [func_map])\n",
    "\n",
    "#display(lambEOM1)\n",
    "\n",
    "# Create EOM Constraints\n",
    "def EOM1(model,n): \n",
    "    # list the model versions of all quantities in the same order as sym_list\n",
    "    var_list = [model.X0, model.x1[n], model.dx1[n], model.ddx1[n], model.Force[n], model.mass] \n",
    "    return lambEOM1(*var_list) == 0\n",
    "model.EOM = Constraint(model.Nodes, rule = EOM1)"
   ]
  },
  {
   "cell_type": "code",
   "execution_count": 98,
   "metadata": {},
   "outputs": [],
   "source": [
    "# Define Cost Function\n",
    "def CostFunction(model):\n",
    "    sum_force = 0\n",
    "    for n in range(1,Nodes):\n",
    "            sum_force = sum_force + model.Force[n]**2 \n",
    "    return sum_force\n",
    "\n",
    "model.Cost = Objective(rule = CostFunction)  "
   ]
  },
  {
   "cell_type": "code",
   "execution_count": 99,
   "metadata": {},
   "outputs": [],
   "source": [
    "# Define Variable Bounds\n",
    "for n in range(1,Nodes):\n",
    "    model.Force[n].setlb(-40)\n",
    "    model.Force[n].setub(40)\n",
    "    model.x1[n].setlb(-50)\n",
    "    model.x1[n].setub(50)"
   ]
  },
  {
   "cell_type": "code",
   "execution_count": 100,
   "metadata": {},
   "outputs": [],
   "source": [
    "# Initialization of variables\n",
    "for n in range (1,Nodes):\n",
    "    model.Force[n].value = 5\n",
    "    \n",
    "    model.x1[n].value = np.random.uniform(-20,20)\n",
    "    model.dx1[n].value = 30\n",
    "    model.ddx1[n].value = 30"
   ]
  },
  {
   "cell_type": "code",
   "execution_count": 101,
   "metadata": {},
   "outputs": [],
   "source": [
    "# Set Boundary Conditions\n",
    "# Initial Conditions\n",
    "model.x1[1].fixed = True\n",
    "model.x1[1].value = 0\n",
    "\n",
    "model.dx1[1].fixed = True\n",
    "model.dx1[1].value = 0\n",
    "\n",
    "# Final Conditions\n",
    "# Nodes-1 ensures it stops at 99, if you just say Nodes jupyter throughs a tantrum\n",
    "model.x1[Nodes-1].fixed = True \n",
    "model.x1[Nodes-1].value = 2   # Stop at specified location in m\n",
    "\n",
    "model.dx1[Nodes-1].fixed = True\n",
    "model.dx1[Nodes-1].value = 0"
   ]
  },
  {
   "cell_type": "code",
   "execution_count": 102,
   "metadata": {},
   "outputs": [
    {
     "name": "stdout",
     "output_type": "stream",
     "text": [
      "Ipopt 3.11.1: print_level=5\n",
      "max_iter=30000\n",
      "max_cpu_time=300\n",
      "Tol=1e-06\n",
      "\n",
      "\n",
      "******************************************************************************\n",
      "This program contains Ipopt, a library for large-scale nonlinear optimization.\n",
      " Ipopt is released as open source code under the Eclipse Public License (EPL).\n",
      "         For more information visit http://projects.coin-or.org/Ipopt\n",
      "******************************************************************************\n",
      "\n",
      "NOTE: You are using Ipopt by default with the MUMPS linear solver.\n",
      "      Other linear solvers might be more efficient (see Ipopt documentation).\n",
      "\n",
      "\n",
      "This is Ipopt version 3.11.1, running with linear solver mumps.\n",
      "\n",
      "Number of nonzeros in equality constraint Jacobian...:      783\n",
      "Number of nonzeros in inequality constraint Jacobian.:        0\n",
      "Number of nonzeros in Lagrangian Hessian.............:       99\n",
      "\n",
      "Total number of variables............................:      394\n",
      "                     variables with only lower bounds:        0\n",
      "                variables with lower and upper bounds:      196\n",
      "                     variables with only upper bounds:        0\n",
      "Total number of equality constraints.................:      296\n",
      "Total number of inequality constraints...............:        0\n",
      "        inequality constraints with only lower bounds:        0\n",
      "   inequality constraints with lower and upper bounds:        0\n",
      "        inequality constraints with only upper bounds:        0\n",
      "\n",
      "iter    objective    inf_pr   inf_du lg(mu)  ||d||  lg(rg) alpha_du alpha_pr  ls\n",
      "   0 2.4750000e+003 3.65e+001 5.00e+000  -1.0 0.00e+000    -  0.00e+000 0.00e+000   0\n",
      "   1 3.1879477e+002 8.10e-015 4.09e-001  -1.0 3.31e+001  -4.0 5.88e-001 1.00e+000f  1\n",
      "   2 3.1877793e+002 2.22e-016 3.82e-003  -1.0 1.24e-001  -4.5 9.93e-001 1.00e+000f  1\n",
      "   3 3.1877793e+002 2.19e-016 1.39e-008  -1.7 1.25e-003  -5.0 1.00e+000 1.00e+000f  1\n",
      "   4 3.1877793e+002 1.98e-016 1.11e-011  -3.8 2.98e-006  -5.4 1.00e+000 1.00e+000h  1\n",
      "   5 3.1877793e+002 2.05e-016 5.68e-014  -5.7 2.25e-008  -5.9 1.00e+000 1.00e+000h  1\n",
      "   6 3.1877793e+002 1.99e-016 5.68e-014  -7.0 2.65e-010  -6.4 1.00e+000 1.00e+000h  1\n",
      "\n",
      "Number of Iterations....: 6\n",
      "\n",
      "                                   (scaled)                 (unscaled)\n",
      "Objective...............:  3.1877793291637187e+002   3.1877793291637187e+002\n",
      "Dual infeasibility......:  5.6843418860808015e-014   5.6843418860808015e-014\n",
      "Constraint violation....:  1.9949319973733282e-016   1.9949319973733282e-016\n",
      "Complementarity.........:  9.0909090919862090e-008   9.0909090919862090e-008\n",
      "Overall NLP error.......:  9.0909090919862090e-008   9.0909090919862090e-008\n",
      "\n",
      "\n",
      "Number of objective function evaluations             = 7\n",
      "Number of objective gradient evaluations             = 7\n",
      "Number of equality constraint evaluations            = 7\n",
      "Number of inequality constraint evaluations          = 0\n",
      "Number of equality constraint Jacobian evaluations   = 7\n",
      "Number of inequality constraint Jacobian evaluations = 0\n",
      "Number of Lagrangian Hessian evaluations             = 6\n",
      "Total CPU secs in IPOPT (w/o function evaluations)   =      0.019\n",
      "Total CPU secs in NLP function evaluations           =      0.001\n",
      "\n",
      "EXIT: Optimal Solution Found.\n"
     ]
    }
   ],
   "source": [
    "# Start the Solver\n",
    "optimize = SolverFactory('ipopt')\n",
    "\n",
    "optimize.options[\"print_level\"] = 5\n",
    "optimize.options[\"max_iter\"] = 30000\n",
    "optimize.options[\"max_cpu_time\"] = 300\n",
    "optimize.options[\"Tol\"] = 1e-6\n",
    "\n",
    "results = optimize.solve(model, tee = True)"
   ]
  },
  {
   "cell_type": "code",
   "execution_count": 103,
   "metadata": {},
   "outputs": [
    {
     "name": "stdout",
     "output_type": "stream",
     "text": [
      "ok\n",
      "optimal\n"
     ]
    }
   ],
   "source": [
    "# Some debugging stuff\n",
    "print(results.solver.status) # tells you if the solver had any errors/ warnings\n",
    "print(results.solver.termination_condition) # tells you if the solution was (locally) optimal, feasible, or neither."
   ]
  },
  {
   "cell_type": "code",
   "execution_count": 104,
   "metadata": {},
   "outputs": [
    {
     "data": {
      "text/html": [
       "<video width=\"432\" height=\"288\" controls autoplay loop>\n",
       "  <source type=\"video/mp4\" src=\"data:video/mp4;base64,AAAAHGZ0eXBNNFYgAAACAGlzb21pc28yYXZjMQAAAAhmcmVlAAAY9W1kYXQAAAKuBgX//6rcRem9\n",
       "5tlIt5Ys2CDZI+7veDI2NCAtIGNvcmUgMTU4IHIyOTg0IDM3NTlmY2IgLSBILjI2NC9NUEVHLTQg\n",
       "QVZDIGNvZGVjIC0gQ29weWxlZnQgMjAwMy0yMDE5IC0gaHR0cDovL3d3dy52aWRlb2xhbi5vcmcv\n",
       "eDI2NC5odG1sIC0gb3B0aW9uczogY2FiYWM9MSByZWY9MyBkZWJsb2NrPTE6MDowIGFuYWx5c2U9\n",
       "MHgzOjB4MTEzIG1lPWhleCBzdWJtZT03IHBzeT0xIHBzeV9yZD0xLjAwOjAuMDAgbWl4ZWRfcmVm\n",
       "PTEgbWVfcmFuZ2U9MTYgY2hyb21hX21lPTEgdHJlbGxpcz0xIDh4OGRjdD0xIGNxbT0wIGRlYWR6\n",
       "b25lPTIxLDExIGZhc3RfcHNraXA9MSBjaHJvbWFfcXBfb2Zmc2V0PS0yIHRocmVhZHM9NiBsb29r\n",
       "YWhlYWRfdGhyZWFkcz0xIHNsaWNlZF90aHJlYWRzPTAgbnI9MCBkZWNpbWF0ZT0xIGludGVybGFj\n",
       "ZWQ9MCBibHVyYXlfY29tcGF0PTAgY29uc3RyYWluZWRfaW50cmE9MCBiZnJhbWVzPTMgYl9weXJh\n",
       "bWlkPTIgYl9hZGFwdD0xIGJfYmlhcz0wIGRpcmVjdD0xIHdlaWdodGI9MSBvcGVuX2dvcD0wIHdl\n",
       "aWdodHA9MiBrZXlpbnQ9MjUwIGtleWludF9taW49MjAgc2NlbmVjdXQ9NDAgaW50cmFfcmVmcmVz\n",
       "aD0wIHJjX2xvb2thaGVhZD00MCByYz1jcmYgbWJ0cmVlPTEgY3JmPTIzLjAgcWNvbXA9MC42MCBx\n",
       "cG1pbj0wIHFwbWF4PTY5IHFwc3RlcD00IGlwX3JhdGlvPTEuNDAgYXE9MToxLjAwAIAAAAsnZYiE\n",
       "AD///vdonwKbWkN6gOSVxSXbT4H/q2dwfI/pAwAAAwAArq0zP4Jn+oFP39rRLWMnU/ITDucCcB6+\n",
       "XyEm5HyAAE0y5LV187yxyu8tWOkjVahFkdzZmGUh01qxzelWgYB6Yju1kXjoe9N0k1iMy4B0R2he\n",
       "NKNZQr+cbEr8snwL2lB13hPAiU/Cvt04oIbRPCpbxov56MBQ4ex2FX3rD+3dcgVFQPbbU8/g5yz1\n",
       "bwyZ4P+hJkQ/RoFbqjAry7nPlb7zoS+iJmcLiLESi2cebWZ1zN3FViS4aakXkzex+BnHG/Lstz9/\n",
       "wbIVBqfeUYTRMnOYe6dTDcQQa8R6BnacLlk7xtRUJYv5eLr4cTnOae1j7JQ3Au/h/CdIpuWE4AfX\n",
       "bH2+5JgDdlQmJpP8M0K05nb6TrE31z/OECiT4GbHu0ALuFlgM2XzUeD5AzlsUkV+5FTnfF09rawf\n",
       "y6B8DrieQu+Kct+q2oGPJixsZCrPkTS/6lP+wQEHUwabOflQ4yRlv6PPeqkJaDk0y1B3KxS3eRf8\n",
       "35MVV7HCYbjWEy8AUfvSb20s8OetxP4DnqotBn2NmxbbM18lxr5isQT5j7bl/OeEYsAW9OQJPg2K\n",
       "sfpq7Wqh5m8Hnsc1U6uOJdHbdjGcj6BSvepuuu2zX9sM+Rfmc+Qufi4CObF/TfrSldo5Z+z8+vRg\n",
       "fXJpoJ0VQZC2zy8/0jrSeltW+h8nDV/lkdOz0+63UMFADS8+RWqEWo6bNdrsukTfbiXpYtQsAcp6\n",
       "nKpRu/NxGujHxe19pjPsKgIinSWugSZaI4aVvTy88vAKtfrhLLV2HQo7if/l/rzaKB5S2YqDjFvJ\n",
       "Ly2tpqeXLX8W4MakRLgsY/5mvbRrDrQCLXrSFseVKLr25usnCJSP/tmWgxaAUPuJCLlmZeq/+xvs\n",
       "Ah0DZeWKQTUGtGpPlF17bvI/4RUjxMMMl9IXsoqLdzrvAqZwr8i2wKBFBjKwakKDjeOkrsE1OFvY\n",
       "eEZeMARUOzY/3BK2hv3DJlkk1brukKF4WpyjLIep/60IC/Ou1CB7RXs/+evuJIiaDDizU6Ls8L6H\n",
       "2quy7HWoUs76wTjRXCK+aooGqjkpLBRe5aVZF2/xLCxxASj3rxRMUxzw8FxhvzwYqrJ0imCFV78S\n",
       "5UeU5RUKZQVF74GRFUUe/mxy4JLaE/8pftzf9FB74+UsgO5P/a//3YcIjHMgKUoTw9+mRfXm9pZA\n",
       "OOyHzSNySUCFeJ1TsuPZC/o5WK3QsFgvlYEY8fGJiiLecb4i49ER662heoDg7RO9N5MIBnoIFG+u\n",
       "E3EBdalvUzJLQMB/yDxlIaP467eEIiEtrNjketilGefT4DBWqxxaVUnmjUgKHtDMku76B/HzhrSt\n",
       "IpjiBcI/kqgI7+bOB9cxvetgx/ynwtDvncky7yavsZtOwBJ//9X85O/4W/m+36olYCRxZYH38+Au\n",
       "g4Y1ElZtc80m08ff5JUezGfbskWrY8+e4mJNWx+wrHMXr999JwyMRm4SnAHmBpiQtW8iyXUvxmH7\n",
       "7v7RIr2cWBjmVqN1haxrebOccLJrQ8KWh6pS+fk7geHJcwzrGSuVbBw4ORdfzLJFmzGKUhBgBlfN\n",
       "I3E0dJQ2FlMnlIKjsbGJTxeXcAeIh+CiqFejb9nqxy7e6lrqTDPBIBsUYftCoRAkTbeEz2F/KV30\n",
       "dPbkgkJoGs6wTd3KLtFT1XCdniCS1+yP99jiopHbVDoDP2TCwZkQK0er+QEawnK9kvYh6+Rn6VOW\n",
       "74i4JiL2uH7uWMgkdSKk7OgA2BIPSjrgH0ng7S2ttOZD9K9OucDI2Z2q3HcIa4ql9Fp4yqq8Ahaq\n",
       "DMca3XH2+0sIOb78U5b9V10BHVoJQsfNnyJpid16v/BTcl3t81Whlb0bJcZb+jz0GbeGk7UPdIVZ\n",
       "9PWBisv6fhWRaIud4EdVuVYjVFcx6mBq0vbsIDut1rpZooHdhnhEPq/ivOCXdxW3/8mswGAbIx1L\n",
       "mzXwVFDV980RpSybmtYFJPOSV/0QYdj/X+EJDdQXaz/ptZV3b8LZI7AiQ5DDzfZGBSpw2ZXTkJQD\n",
       "lB0gBjLl5WonE9+zqLBGDc6bN0HTw+8osfwi3un5Sy51hnyfsY975o0l/3kXeIJjTQcXLqZmzduR\n",
       "UNQDkhlVOCaPB1+bsS5GJd+HRaCBgJJjdMawKQf5Buvs4pszmLUrnkt434mrUT2vdZWJ0mVADcz5\n",
       "Hbf+5GCnkzTQdjyKR06j4stsB7XwIRWCWt/iQipKEcWwt5rf7R0NdGG7IdK8K4KviqPg0QLB73sf\n",
       "mFJmTTsLhAH6m/9eVWTU7DcqssijQuODlXT4ZRlNgAAAAwBvCH/iVlDUrjHxmJuFQAVFe1EVaEjk\n",
       "qeN6aJtYzs6hBy2nERW0YqH1atYqMoDrBeje1DPb/b22nEhcEXp5mioLfWADW8CgKHnhKd5dzV4c\n",
       "+pR5ZrObEtgVlYwUsTgYk1PDdIw5nWYznXTYhEMcMjQmVExU8zAaDXcuQN1M2FoMPfrurDn1OzRF\n",
       "Y4PALo3pVuJXZgrHW1GyI9A4vprAb/34UdyopsZvc1sERxRf3hUD7u2kiJzIukLXnJFJUp7V3/zm\n",
       "dXN8jC+/DsBlG66A29nnIfJOIFLiq1GcC2Xlk1sHgOOGG8g533M2hWsMQfxpTgjI1rlioXAAlOTY\n",
       "H9ycnPKyGB8Ho6JVfyLf5mJcDj3omca0rNdIcDhuz38uQcGGXGiREQgXyDaprfGfZCvhMqjkVeIA\n",
       "u0cmhMj4QbnJqF/NmFbu9lVcBqRPxPPumI/154VmjVBs1X1VSf6CNbxWPb/dqqJ5ogyPQG7lwxlp\n",
       "/49ex0HOQP/pilEN15zTTYD+JPE/dZbxWPb/RrBzaGPOh1I8CriJa6NTK10/2L+tZUZAa4HtMuKI\n",
       "i6wUGqyF6chMv009eDS2UCMJuBkvpowP9zyi4Ko3Ks33wc3IaKRUdlLKvLOH2kZrW6HRoav9GRT0\n",
       "nYSH5wz/InL1yEZiVUlEXPuMtBgL7Q2Dszl06GtXbzYELOe9BtfCB7hNSQO0dOFVNPGTAW7tavBM\n",
       "AWNApUpbGbR697MQ9DJu1VsJ5wqKLT/oLEO3sQtpnjoK653oXGoDg8swsTqszvieo6KqFI+DTVUc\n",
       "UWT7QUnKCLEidvEt48yZPj8Koq5VCVfSQfbnuchIPE//2Tdbh+AlPOS6vzAwlLmil5FYymV6+OMw\n",
       "kRtLdIg2PMkigmQ2guM/QsvnWBzt1xt/+U54qKVReH3Y33e2GwpqvvQgdYmXi0RtvEFHoVQ0lQ8t\n",
       "IyoRdaz4/OHEEVF5yOrtfGnL4ScOZX/2joe6Cvs3I4wgufT0ULMKXfwGprTeoaXZb1Sp38NJTpRh\n",
       "FO5UEOBgJiuV7x5M4YlWRVLQe36zxlIIAlc6fJt4ozbDnnInbo//o/XreD5oEiI4wKUwgQCLuwrN\n",
       "oL7DCaJnOrzWts9pGUfHWt5fojBCaAzaO0TV77sSm6sh54xxoXDagesLp8zHARQngqKjCqOoEyo9\n",
       "9A3z9qp2YQ/Zu+MktvOyLBxoC49btEfb4MujhjOZUCfc+6WLkL1oWyLCutVpzImzBOtlHMTRzuJx\n",
       "aL9Abv/Xuwl84fsR3K9zgr8QbtMjei3DN8M55g2AakEEfnzH/uH1L1nh5Y71oyTKxDsNFfJ/Pmb1\n",
       "ZfuKvEtv1TKHH6J1WmxrIG1iVvb6gc7N033xXH/pw2/ZMMIB23PND17MEbrTKQb/n2/EMu7ZSj8b\n",
       "FpVSjceqvT4Uax3uKlw0fRvw+Wgw3+jqQVloAYRHhtcrdJzRz3Jpw4Tjs9zicTMJPclASeFwAEWf\n",
       "eOEAAAEoQZokbEP//qmWABx18vAIR8FqGhnbAD1uI+hPSv/1OQ/0whyMgovO3XJaXNGVop3/49aM\n",
       "bvI5husdRHy0gYLRESZ+cFV9H41OMS8bovtoB+CmeITpjV3kJCHw6eVSH9A3XMPgU2oXsKCS/kLe\n",
       "5KxqruMH7be+4NA2YXzoWjQN3ODE4aVruMjttvX9vYAodM6dsx+tU7B2emp1WTt/7H7x6Fc24H4/\n",
       "8LvqSklV/KmxkOeieWytQOjwR3eJ6T6ukIJz24hhzhe6SMF5ktQsvEQxOy1OFxcO7dszlDKYQ26j\n",
       "bqOhmruGnhXD6m1Nez1bQhZKemM2z1mU9oD86e2/8ZBzDHhevRG2deVUnsSAinvJ5Ojqs0JRHI57\n",
       "2h6QOL1XE4ETH6IiMtwYWEAAAAApQZ5CeIZ/ABkfieO8v3CJKv7PAQX525YjudbKGgAAEFLMH77Q\n",
       "AruoIaEAAAAgAZ5hdEK/AC6JhQR8PkCPkOPSzxIwyaAAABhIdY4ZBiwAAAAYAZ5jakK/ABdK/+00\n",
       "/6KxX+zvC3mCEEPBAAAAOUGaaEmoQWiZTAh///6plgAG8ubQqfkNwEKuyvIfIn/ZPMSwmytbZL3D\n",
       "ren1oKSXFwAVKNex5v77CQAAABtBnoZFESwz/wAMkw5NG+//ZwnMAuY2acpmBUUAAAAWAZ6ldEK/\n",
       "ABdEwzVQJ0b2Ft67yuw/MQAAABUBnqdqQr8AF0r/7Vff0VRUikcBokAAAAAuQZqsSahBbJlMCHf/\n",
       "/qmWAAK3xgkBm+nNxKi5AOG0EHh6A1lgPrCNf3mLNva4lAAAABtBnspFFSwz/wAMkw5NGahLbRqe\n",
       "2XVnCAiYBvUAAAAVAZ7pdEK/ABdEw6qkEMyNKl+GUmuAAAAAFQGe62pCvwAXSv/ql9/UFFSKRwGi\n",
       "QAAAACJBmvBJqEFsmUwId//+qZYAAqh11Ib5pA+hq/9Fi5VjNJzJAAAAGUGfDkUVLDP/AAyTDkzR\n",
       "HTT8WMCoeGQwYIEAAAAVAZ8tdEK/ABdEw6qkEMyNKl+GUmuBAAAAFQGfL2pCvwAXSv/ql9/UFFSK\n",
       "RwGiQAAAABhBmzNJqEFsmUwId//+qZYAAqh11IgaNmAAAAAYQZ9RRRUsL/8AEN85maLhrdQqjaib\n",
       "69UJAAAAFQGfcmpCvwAXSv/ql9/UFFSKRwGiQAAAABlBm3VJqEFsmUwUTDv//qmWAAKoddSIGjZg\n",
       "AAAAFgGflGpCvwAXTkzrqhEZmhpkoHojFEkAAAAgQZuXSeEKUmUwUsP//qmWAAKluxRXxcQeVZ7L\n",
       "UiQoRswAAAAOAZ+2akK/AAQz/uITOj8AAAAdQZu6SeEOiZTAh//+qZYAAqW7FFfFxBpbH0thGzEA\n",
       "AAAQQZ/YRRU8L/8AAyLbcWKdHwAAAA0Bn/lqQr8ABDdf3TphAAAAQkGb/kmoQWiZTAh///6plgAC\n",
       "pVvyyNy2Qw8HUuVZ/UrDxO3rYFlw/7nkRK35yKSwSM2lMOp/Y7/78IENtKQTP1ihSQAAABFBnhxF\n",
       "ESwz/wACSvX5rmJCmwAAAA4Bnjt0Qr8ABDWqXLTpgQAAAA8Bnj1qQr8ABCc0iVNsQxoAAAAfQZoi\n",
       "SahBbJlMCH///qmWAAKUoE144VAgdfQv98loOAAAABBBnkBFFSwz/wACOvxRtjPhAAAADQGef3RC\n",
       "vwAEF4eJ4WUAAAANAZ5hakK/AAQV+7lp3QAAABpBmmZJqEFsmUwIf//+qZYAApO31vIlt7Wg4AAA\n",
       "ABBBnoRFFSwz/wACO2aTQdZRAAAADgGeo3RCvwAEFKeAEdJxAAAADgGepWpCvwAEFAvK5J3RAAAA\n",
       "GEGaqkmoQWyZTAh///6plgAClCpLrmDxqQAAABBBnshFFSwz/wACOkf1TDpOAAAADgGe53RCvwAE\n",
       "FapctO6AAAAADgGe6WpCvwAEFeodtO6BAAAAOUGa7kmoQWyZTAh///6plgACl/KT8SmACabRu/2s\n",
       "uR0L7jyiF9rybPIqkQd6lDEMqRb2hz1OS4C1YAAAABpBnwxFFSwz/wACOxWB1NAC3Cllqu+l/YYQ\n",
       "8AAAAA8Bnyt0Qr8ABBeHfr+IZcEAAAAVAZ8takK/AAP67cABa53/GbfkrJ6RAAAAOkGbMkmoQWyZ\n",
       "TAh///6plgAChHIMoAIcWQl42VaRZpIiSwkiRWGxeOjLyC6nDC/qnl+OLZzqtCryRx0AAAAcQZ9Q\n",
       "RRUsM/8AAieUIAsALYw/hYDO4DO4k6Ol4AAAAAsBn290Qr8AAAMBiwAAAA0Bn3FqQr8AA+0NCdLx\n",
       "AAAAPEGbdkmoQWyZTAh///6plgAChbkX6JKz+wAIg9VRSLGJln83s/nEEd966T64OsK8xx+6X/Gl\n",
       "JtS5vZqsWAAAABBBn5RFFSwz/wACKkf1TDpeAAAACwGfs3RCvwAAAwGLAAAADgGftWpCvwAD9onO\n",
       "A09IAAAANUGbukmoQWyZTAh///6plgAChbkX6JHJwoBa7adA701A1iJFm+7nh9BYXHJPsHj8Chq7\n",
       "WgkXAAAAEUGf2EUVLDP/AAIrFSvLlk6pAAAAEAGf93RCvwAD9nCLBJUA6oAAAAAOAZ/5akK/AAPi\n",
       "tYZOm4EAAAAhQZv+SahBbJlMCH///qmWAAJxIFss3RTwRzTb/aLxdki4AAAAEEGeHEUVLDP/AAIa\n",
       "9fqLGzEAAAAOAZ47dEK/AAPhp1Xk+YEAAAANAZ49akK/AAPh2wSdNwAAACFBmiJJqEFsmUwIf//+\n",
       "qZYAAnBiPoIQePqJfFiA5vEFnpAAAAAQQZ5ARRUsM/8AAhtmk0HXcQAAAA0Bnn90Qr8AA+LnDJ03\n",
       "AAAADgGeYWpCvwAD4rWGTpuBAAAAK0GaZkmoQWyZTAh///6plgACc+43CJpZEj6vop6NKMy2yZjU\n",
       "lxMqHQ1YI+AAAAARQZ6ERRUsM/8AAhr8T/zEhaUAAAAOAZ6jdEK/AAPhp1Xk+YEAAAAPAZ6lakK/\n",
       "AAPitYFZLBaRAAAAGkGaqkmoQWyZTAh///6plgACYGHWE6Xe1o+BAAAAEEGeyEUVLDP/AAILZpNB\n",
       "2BAAAAANAZ7ndEK/AAPM5wydQQAAAA4BnulqQr8AA8y1hk6ggQAAABpBmu5JqEFsmUwIf//+qZYA\n",
       "AmBh1hOl3taPgAAAABBBnwxFFSwz/wACC2aTQdgQAAAADQGfK3RCvwADzOcMnUEAAAAOAZ8takK/\n",
       "AAPMtYZOoIEAAAAYQZsySahBbJlMCH///qmWAAJgYJoUPHHBAAAAEEGfUEUVLDP/AAILaQBDsCAA\n",
       "AAANAZ9vdEK/AAPND80/wAAAAA4Bn3FqQr8AA8y1hk6ggQAAABdBm3ZJqEFsmUwId//+qZYAAmBT\n",
       "FemBnwAAABBBn5RFFSwz/wACCwGrrG9AAAAADQGfs3RCvwADzQ/NP8EAAAANAZ+1akK/AAPMBsdQ\n",
       "QAAAABpBm7pJqEFsmUwId//+qZYAAmBTFelsLB5ZQQAAABBBn9hFFSwz/wACCwGrrG9BAAAADQGf\n",
       "93RCvwADy8BjqCAAAAANAZ/5akK/AAPMBsdQQQAAAC5Bm/5JqEFsmUwIb//+p4QABLvoJm6BgCtV\n",
       "oPm5mhE3kE6BmKtT3guBZwttz4oIAAAAGEGeHEUVLDP/AAILFdz2ACuxF4UScXRtQQAAAA4Bnjt0\n",
       "Qr8AA8u+ruYLiQAAAA0Bnj1qQr8AA7bKY6kgAAAAE0GaIkmoQWyZTAhX//44QAAAHHAAAAAOQZ5A\n",
       "RRUsM/8AAAMA1IEAAAALAZ5/dEK/AAADAYsAAAALAZ5hakK/AAADAYsAAAfCbW9vdgAAAGxtdmhk\n",
       "AAAAAAAAAAAAAAAAAAAD6AAAE1YAAQAAAQAAAAAAAAAAAAAAAAEAAAAAAAAAAAAAAAAAAAABAAAA\n",
       "AAAAAAAAAAAAAABAAAAAAAAAAAAAAAAAAAAAAAAAAAAAAAAAAAAAAAAAAgAABux0cmFrAAAAXHRr\n",
       "aGQAAAADAAAAAAAAAAAAAAABAAAAAAAAE1YAAAAAAAAAAAAAAAAAAAAAAAEAAAAAAAAAAAAAAAAA\n",
       "AAABAAAAAAAAAAAAAAAAAABAAAAAAbAAAAEgAAAAAAAkZWR0cwAAABxlbHN0AAAAAAAAAAEAABNW\n",
       "AAAEAAABAAAAAAZkbWRpYQAAACBtZGhkAAAAAAAAAAAAAAAAAAAoAAAAxgBVxAAAAAAALWhkbHIA\n",
       "AAAAAAAAAHZpZGUAAAAAAAAAAAAAAABWaWRlb0hhbmRsZXIAAAAGD21pbmYAAAAUdm1oZAAAAAEA\n",
       "AAAAAAAAAAAAACRkaW5mAAAAHGRyZWYAAAAAAAAAAQAAAAx1cmwgAAAAAQAABc9zdGJsAAAAs3N0\n",
       "c2QAAAAAAAAAAQAAAKNhdmMxAAAAAAAAAAEAAAAAAAAAAAAAAAAAAAAAAbABIABIAAAASAAAAAAA\n",
       "AAABAAAAAAAAAAAAAAAAAAAAAAAAAAAAAAAAAAAAAAAAAAAAGP//AAAAMWF2Y0MBZAAV/+EAGGdk\n",
       "ABWs2UGwloQAAAMABAAAAwCgPFi2WAEABmjr48siwAAAABx1dWlka2hA8l8kT8W6OaUbzwMj8wAA\n",
       "AAAAAAAYc3R0cwAAAAAAAAABAAAAYwAAAgAAAAAUc3RzcwAAAAAAAAABAAAAAQAAAxhjdHRzAAAA\n",
       "AAAAAGEAAAABAAAEAAAAAAEAAAoAAAAAAQAABAAAAAABAAAAAAAAAAEAAAIAAAAAAQAACgAAAAAB\n",
       "AAAEAAAAAAEAAAAAAAAAAQAAAgAAAAABAAAKAAAAAAEAAAQAAAAAAQAAAAAAAAABAAACAAAAAAEA\n",
       "AAoAAAAAAQAABAAAAAABAAAAAAAAAAEAAAIAAAAAAQAACAAAAAACAAACAAAAAAEAAAYAAAAAAQAA\n",
       "AgAAAAABAAAGAAAAAAEAAAIAAAAAAQAACAAAAAACAAACAAAAAAEAAAoAAAAAAQAABAAAAAABAAAA\n",
       "AAAAAAEAAAIAAAAAAQAACgAAAAABAAAEAAAAAAEAAAAAAAAAAQAAAgAAAAABAAAKAAAAAAEAAAQA\n",
       "AAAAAQAAAAAAAAABAAACAAAAAAEAAAoAAAAAAQAABAAAAAABAAAAAAAAAAEAAAIAAAAAAQAACgAA\n",
       "AAABAAAEAAAAAAEAAAAAAAAAAQAAAgAAAAABAAAKAAAAAAEAAAQAAAAAAQAAAAAAAAABAAACAAAA\n",
       "AAEAAAoAAAAAAQAABAAAAAABAAAAAAAAAAEAAAIAAAAAAQAACgAAAAABAAAEAAAAAAEAAAAAAAAA\n",
       "AQAAAgAAAAABAAAKAAAAAAEAAAQAAAAAAQAAAAAAAAABAAACAAAAAAEAAAoAAAAAAQAABAAAAAAB\n",
       "AAAAAAAAAAEAAAIAAAAAAQAACgAAAAABAAAEAAAAAAEAAAAAAAAAAQAAAgAAAAABAAAKAAAAAAEA\n",
       "AAQAAAAAAQAAAAAAAAABAAACAAAAAAEAAAoAAAAAAQAABAAAAAABAAAAAAAAAAEAAAIAAAAAAQAA\n",
       "CgAAAAABAAAEAAAAAAEAAAAAAAAAAQAAAgAAAAABAAAKAAAAAAEAAAQAAAAAAQAAAAAAAAABAAAC\n",
       "AAAAAAEAAAoAAAAAAQAABAAAAAABAAAAAAAAAAEAAAIAAAAAAQAACgAAAAABAAAEAAAAAAEAAAAA\n",
       "AAAAAQAAAgAAAAABAAAKAAAAAAEAAAQAAAAAAQAAAAAAAAABAAACAAAAABxzdHNjAAAAAAAAAAEA\n",
       "AAABAAAAYwAAAAEAAAGgc3RzegAAAAAAAAAAAAAAYwAADd0AAAEsAAAALQAAACQAAAAcAAAAPQAA\n",
       "AB8AAAAaAAAAGQAAADIAAAAfAAAAGQAAABkAAAAmAAAAHQAAABkAAAAZAAAAHAAAABwAAAAZAAAA\n",
       "HQAAABoAAAAkAAAAEgAAACEAAAAUAAAAEQAAAEYAAAAVAAAAEgAAABMAAAAjAAAAFAAAABEAAAAR\n",
       "AAAAHgAAABQAAAASAAAAEgAAABwAAAAUAAAAEgAAABIAAAA9AAAAHgAAABMAAAAZAAAAPgAAACAA\n",
       "AAAPAAAAEQAAAEAAAAAUAAAADwAAABIAAAA5AAAAFQAAABQAAAASAAAAJQAAABQAAAASAAAAEQAA\n",
       "ACUAAAAUAAAAEQAAABIAAAAvAAAAFQAAABIAAAATAAAAHgAAABQAAAARAAAAEgAAAB4AAAAUAAAA\n",
       "EQAAABIAAAAcAAAAFAAAABEAAAASAAAAGwAAABQAAAARAAAAEQAAAB4AAAAUAAAAEQAAABEAAAAy\n",
       "AAAAHAAAABIAAAARAAAAFwAAABIAAAAPAAAADwAAABRzdGNvAAAAAAAAAAEAAAAsAAAAYnVkdGEA\n",
       "AABabWV0YQAAAAAAAAAhaGRscgAAAAAAAAAAbWRpcmFwcGwAAAAAAAAAAAAAAAAtaWxzdAAAACWp\n",
       "dG9vAAAAHWRhdGEAAAABAAAAAExhdmY1OC4yOS4xMDA=\n",
       "\">\n",
       "  Your browser does not support the video tag.\n",
       "</video>"
      ],
      "text/plain": [
       "<IPython.core.display.HTML object>"
      ]
     },
     "execution_count": 104,
     "metadata": {},
     "output_type": "execute_result"
    },
    {
     "data": {
      "image/png": "[encoded data removed]",
      "text/plain": [
       "<Figure size 432x288 with 1 Axes>"
      ]
     },
     "metadata": {
      "needs_background": "light"
     },
     "output_type": "display_data"
    }
   ],
   "source": [
    "#animate model --> will be able to see what model is doing by viewing in with HTML\n",
    "import matplotlib.pyplot as plt\n",
    "import matplotlib.animation as ani\n",
    "from IPython.display import HTML\n",
    "%matplotlib inline\n",
    "\n",
    "fig1, ax1 = plt.subplots(1,1)\n",
    "def plot_block(i,model,ax): #update function for animation\n",
    "    ax.clear()\n",
    "    ax.set_xlim([-4,4])\n",
    "    ax.set_ylim([-4,4])\n",
    "    \n",
    "    #plot mass\n",
    "    m1topx = model.X0.value   #initial position of mass\n",
    "    m1bottomx = m1topx + model.x1[i].value\n",
    "    ax.plot([m1bottomx,0],[m1topx,0],color = 'xkcd:red')\n",
    "  # ax.plot([m1topx,0],color = 'xkcd:red')  #plot initial block\n",
    "    ax.grid(True)\n",
    "    \n",
    "update = lambda i: plot_block(i,model,ax1)      #lambdify just used to calculate the numerical values fast\n",
    "\n",
    "animate = ani.FuncAnimation(fig1,update,range(1,Nodes),interval = 50, repeat = True)\n",
    "\n",
    "#animate.save('show_me_the_money.gif', writer = 'ffmpeg')\n",
    "\n",
    "HTML(animate.to_html5_video()) "
   ]
  },
  {
   "cell_type": "code",
   "execution_count": null,
   "metadata": {},
   "outputs": [],
   "source": []
  }
 ],
 "metadata": {
  "kernelspec": {
   "display_name": "Python 3",
   "language": "python",
   "name": "python3"
  },
  "language_info": {
   "codemirror_mode": {
    "name": "ipython",
    "version": 3
   },
   "file_extension": ".py",
   "mimetype": "text/x-python",
   "name": "python",
   "nbconvert_exporter": "python",
   "pygments_lexer": "ipython3",
   "version": "3.7.6"
  }
 },
 "nbformat": 4,
 "nbformat_minor": 4
}
